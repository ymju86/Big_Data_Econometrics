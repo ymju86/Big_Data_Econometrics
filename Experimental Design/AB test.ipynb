{
 "cells": [
  {
   "cell_type": "code",
   "execution_count": 136,
   "id": "supported-liver",
   "metadata": {},
   "outputs": [],
   "source": [
    "import numpy as np\n",
    "from scipy.stats import ttest_ind\n",
    "from tqdm import tqdm\n",
    "def t_test(x,y,alternative='both-sided'):\n",
    "    _, double_p = ttest_ind(x,y,equal_var = False)\n",
    "    if alternative == 'both-sided':\n",
    "        pval = double_p\n",
    "    elif alternative == 'greater':\n",
    "        if np.mean(x) > np.mean(y):\n",
    "            pval = double_p/2.\n",
    "        else:\n",
    "            pval = 1.0 - double_p/2.\n",
    "    elif alternative == 'less':\n",
    "        if np.mean(x) < np.mean(y):\n",
    "            pval = double_p/2.\n",
    "        else:\n",
    "            pval = 1.0 - double_p/2.\n",
    "    return pval"
   ]
  },
  {
   "cell_type": "markdown",
   "id": "centered-prague",
   "metadata": {},
   "source": [
    "### Assume the conversion rates for options A and B are equal"
   ]
  },
  {
   "cell_type": "code",
   "execution_count": 112,
   "id": "geological-military",
   "metadata": {},
   "outputs": [],
   "source": [
    "np.random.seed(123)"
   ]
  },
  {
   "cell_type": "markdown",
   "id": "spare-oxford",
   "metadata": {},
   "source": [
    "Let's assume we fix the sample size in advance, run the experiment until we achieve the full sample size and then do a t-test of equality of means. If the conversion rates are truly equal, we expect to incorrectly reject this 5% of the time if we use a 95% confidence level"
   ]
  },
  {
   "cell_type": "code",
   "execution_count": 131,
   "id": "conventional-sending",
   "metadata": {},
   "outputs": [],
   "source": [
    "def run_experiment_and_test(conv_a,conv_b,n,p_threshold=0.05):\n",
    "    obs_a = np.random.binomial(1,conv_a,n)\n",
    "    obs_b = np.random.binomial(1,conv_b,n)\n",
    "    p = t_test(obs_a,obs_b,'greater')\n",
    "    if p<p_threshold:\n",
    "        return 1 # reject\n",
    "    else:\n",
    "        return 0\n",
    "    \n",
    "def run_experiment_and_peek(conv_a,conv_b,n,n_min,p_threshold=0.05):\n",
    "    # now the difference is that we peek at each sample size starting at n_min and stop the \n",
    "    # experiment if we see a statistically significant difference    \n",
    "    if n<n_min:\n",
    "        return 'Error, n<n_min'\n",
    "    else:\n",
    "        obs_a = np.random.binomial(1,conv_a,n)\n",
    "        obs_b = np.random.binomial(1,conv_b,n)\n",
    "        for ntest in range(n_min,n):\n",
    "            p = t_test(obs_a[:ntest],obs_b[:ntest],'greater')\n",
    "            if p<p_threshold:  \n",
    "                return 1\n",
    "                break\n",
    "        return 0\n",
    "\n",
    "def run_mc(conv_a,conv_b,n,R,peek = False,n_min = None):\n",
    "    rejection = []\n",
    "    for r in tqdm(range(R)):\n",
    "        if peek==False: # don't peek\n",
    "            rejection = rejection + [run_experiment_and_test(conv_a,conv_b,n)]\n",
    "        else:\n",
    "            rejection = rejection + [run_experiment_and_peek(conv_a,conv_b,n,n_min)]\n",
    "    return np.mean(rejection)"
   ]
  },
  {
   "cell_type": "code",
   "execution_count": 132,
   "id": "regular-accordance",
   "metadata": {},
   "outputs": [
    {
     "name": "stderr",
     "output_type": "stream",
     "text": [
      " 18%|█▊        | 350/2000 [00:00<00:00, 1801.94it/s]"
     ]
    },
    {
     "name": "stdout",
     "output_type": "stream",
     "text": [
      "Rejection rates across 2000 Monte Carlo replications: \n",
      "\n"
     ]
    },
    {
     "name": "stderr",
     "output_type": "stream",
     "text": [
      "100%|██████████| 2000/2000 [00:01<00:00, 1658.09it/s]\n",
      "  8%|▊         | 162/2000 [00:00<00:01, 1616.93it/s]"
     ]
    },
    {
     "name": "stdout",
     "output_type": "stream",
     "text": [
      "n=10, rejection rate = 0.04\n"
     ]
    },
    {
     "name": "stderr",
     "output_type": "stream",
     "text": [
      "100%|██████████| 2000/2000 [00:01<00:00, 1722.74it/s]\n",
      "  9%|▉         | 177/2000 [00:00<00:01, 1763.75it/s]"
     ]
    },
    {
     "name": "stdout",
     "output_type": "stream",
     "text": [
      "n=100, rejection rate = 0.0485\n"
     ]
    },
    {
     "name": "stderr",
     "output_type": "stream",
     "text": [
      "100%|██████████| 2000/2000 [00:01<00:00, 1704.21it/s]\n",
      " 16%|█▌        | 319/2000 [00:00<00:01, 1629.52it/s]"
     ]
    },
    {
     "name": "stdout",
     "output_type": "stream",
     "text": [
      "n=1000, rejection rate = 0.054\n"
     ]
    },
    {
     "name": "stderr",
     "output_type": "stream",
     "text": [
      "100%|██████████| 2000/2000 [00:01<00:00, 1556.02it/s]"
     ]
    },
    {
     "name": "stdout",
     "output_type": "stream",
     "text": [
      "n=2000, rejection rate = 0.0585\n"
     ]
    },
    {
     "name": "stderr",
     "output_type": "stream",
     "text": [
      "\n"
     ]
    }
   ],
   "source": [
    "R = 2000 # number of MC replications\n",
    "conv_a = .2\n",
    "conv_b = .2\n",
    "print(f'Rejection rates across {R} Monte Carlo replications: \\n')\n",
    "for n in [10,100,1000,2000]:\n",
    "    r = run_mc(conv_a,conv_b,n,R)\n",
    "    print(f'n={n}, rejection rate = {r}')"
   ]
  },
  {
   "cell_type": "markdown",
   "id": "unable-blues",
   "metadata": {},
   "source": [
    "Now let's see what happens if there actually is a difference between the conversion rates"
   ]
  },
  {
   "cell_type": "code",
   "execution_count": 133,
   "id": "adapted-earthquake",
   "metadata": {},
   "outputs": [
    {
     "name": "stderr",
     "output_type": "stream",
     "text": [
      "  9%|▉         | 183/2000 [00:00<00:00, 1828.50it/s]"
     ]
    },
    {
     "name": "stdout",
     "output_type": "stream",
     "text": [
      "Rejection rates across 2000 Monte Carlo replications: \n",
      "\n"
     ]
    },
    {
     "name": "stderr",
     "output_type": "stream",
     "text": [
      "100%|██████████| 2000/2000 [00:01<00:00, 1484.15it/s]\n",
      "  8%|▊         | 165/2000 [00:00<00:01, 1645.82it/s]"
     ]
    },
    {
     "name": "stdout",
     "output_type": "stream",
     "text": [
      "n=10, rejection rate = 0.025\n"
     ]
    },
    {
     "name": "stderr",
     "output_type": "stream",
     "text": [
      "100%|██████████| 2000/2000 [00:01<00:00, 1349.68it/s]\n",
      "  7%|▋         | 133/2000 [00:00<00:01, 1324.64it/s]"
     ]
    },
    {
     "name": "stdout",
     "output_type": "stream",
     "text": [
      "n=100, rejection rate = 0.0065\n"
     ]
    },
    {
     "name": "stderr",
     "output_type": "stream",
     "text": [
      "100%|██████████| 2000/2000 [00:01<00:00, 1567.98it/s]\n",
      "  7%|▋         | 137/2000 [00:00<00:01, 1369.47it/s]"
     ]
    },
    {
     "name": "stdout",
     "output_type": "stream",
     "text": [
      "n=1000, rejection rate = 0.0\n"
     ]
    },
    {
     "name": "stderr",
     "output_type": "stream",
     "text": [
      "100%|██████████| 2000/2000 [00:01<00:00, 1230.43it/s]"
     ]
    },
    {
     "name": "stdout",
     "output_type": "stream",
     "text": [
      "n=2000, rejection rate = 0.0\n"
     ]
    },
    {
     "name": "stderr",
     "output_type": "stream",
     "text": [
      "\n"
     ]
    }
   ],
   "source": [
    "R = 2000 # number of MC replications\n",
    "conv_a = .2\n",
    "conv_b = .25\n",
    "print(f'Rejection rates across {R} Monte Carlo replications: \\n')\n",
    "for n in [10,100,1000,2000]:\n",
    "    r = run_mc(conv_a,conv_b,n,R)\n",
    "    print(f'n={n}, rejection rate = {r}')"
   ]
  },
  {
   "cell_type": "markdown",
   "id": "cosmetic-chester",
   "metadata": {},
   "source": [
    "### Peeking\n",
    "Now let's run an experiment where we \"peek\", that is, for each n starting at n=100 we check the statistical significance"
   ]
  },
  {
   "cell_type": "code",
   "execution_count": 134,
   "id": "minus-vinyl",
   "metadata": {},
   "outputs": [
    {
     "name": "stderr",
     "output_type": "stream",
     "text": [
      "\r",
      "  0%|          | 0/500 [00:00<?, ?it/s]"
     ]
    },
    {
     "name": "stdout",
     "output_type": "stream",
     "text": [
      "Rejection rates across 500 Monte Carlo replications: \n",
      "\n"
     ]
    },
    {
     "name": "stderr",
     "output_type": "stream",
     "text": [
      "100%|██████████| 500/500 [02:23<00:00,  3.48it/s]\n",
      "  0%|          | 0/500 [00:00<?, ?it/s]"
     ]
    },
    {
     "name": "stdout",
     "output_type": "stream",
     "text": [
      "n_max=500, rejection rate = 0.21\n"
     ]
    },
    {
     "name": "stderr",
     "output_type": "stream",
     "text": [
      "100%|██████████| 500/500 [04:33<00:00,  1.83it/s]\n",
      "  0%|          | 0/500 [00:00<?, ?it/s]"
     ]
    },
    {
     "name": "stdout",
     "output_type": "stream",
     "text": [
      "n_max=1000, rejection rate = 0.246\n"
     ]
    },
    {
     "name": "stderr",
     "output_type": "stream",
     "text": [
      "100%|██████████| 500/500 [07:23<00:00,  1.13it/s]"
     ]
    },
    {
     "name": "stdout",
     "output_type": "stream",
     "text": [
      "n_max=2000, rejection rate = 0.312\n"
     ]
    },
    {
     "name": "stderr",
     "output_type": "stream",
     "text": [
      "\n"
     ]
    }
   ],
   "source": [
    "R = 500 # number of MC replications\n",
    "conv_a = .2\n",
    "conv_b = .2\n",
    "print(f'Rejection rates across {R} Monte Carlo replications: \\n')\n",
    "for n in [500,1000,2000]:\n",
    "    r = run_mc(conv_a,conv_b,n,R,peek = True,n_min = 100)\n",
    "    print(f'n_max={n}, rejection rate = {r}')"
   ]
  },
  {
   "cell_type": "code",
   "execution_count": 135,
   "id": "wanted-display",
   "metadata": {},
   "outputs": [
    {
     "name": "stderr",
     "output_type": "stream",
     "text": [
      "\r",
      "  0%|          | 0/500 [00:00<?, ?it/s]"
     ]
    },
    {
     "name": "stdout",
     "output_type": "stream",
     "text": [
      "Rejection rates across 500 Monte Carlo replications: \n",
      "\n"
     ]
    },
    {
     "name": "stderr",
     "output_type": "stream",
     "text": [
      "100%|██████████| 500/500 [02:00<00:00,  4.15it/s]\n",
      "  0%|          | 0/500 [00:00<?, ?it/s]"
     ]
    },
    {
     "name": "stdout",
     "output_type": "stream",
     "text": [
      "n_max=500, rejection rate = 0.022\n"
     ]
    },
    {
     "name": "stderr",
     "output_type": "stream",
     "text": [
      "100%|██████████| 500/500 [04:26<00:00,  1.87it/s]\n",
      "  0%|          | 0/500 [00:00<?, ?it/s]"
     ]
    },
    {
     "name": "stdout",
     "output_type": "stream",
     "text": [
      "n_max=1000, rejection rate = 0.02\n"
     ]
    },
    {
     "name": "stderr",
     "output_type": "stream",
     "text": [
      "100%|██████████| 500/500 [09:19<00:00,  1.12s/it]"
     ]
    },
    {
     "name": "stdout",
     "output_type": "stream",
     "text": [
      "n_max=2000, rejection rate = 0.026\n"
     ]
    },
    {
     "name": "stderr",
     "output_type": "stream",
     "text": [
      "\n"
     ]
    }
   ],
   "source": [
    "conv_a = .2\n",
    "conv_b = .25\n",
    "print(f'Rejection rates across {R} Monte Carlo replications: \\n')\n",
    "for n in [500,1000,2000]:\n",
    "    r = run_mc(conv_a,conv_b,n,R,peek = True,n_min = 100)\n",
    "    print(f'n_max={n}, rejection rate = {r}')"
   ]
  },
  {
   "cell_type": "code",
   "execution_count": null,
   "id": "decent-operator",
   "metadata": {},
   "outputs": [],
   "source": []
  }
 ],
 "metadata": {
  "kernelspec": {
   "display_name": "Python 3",
   "language": "python",
   "name": "python3"
  },
  "language_info": {
   "codemirror_mode": {
    "name": "ipython",
    "version": 3
   },
   "file_extension": ".py",
   "mimetype": "text/x-python",
   "name": "python",
   "nbconvert_exporter": "python",
   "pygments_lexer": "ipython3",
   "version": "3.9.0"
  }
 },
 "nbformat": 4,
 "nbformat_minor": 5
}
