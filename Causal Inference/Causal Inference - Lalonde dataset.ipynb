{
 "cells": [
  {
   "cell_type": "markdown",
   "metadata": {},
   "source": [
    "Based on: https://rugg2.github.io/, https://github.com/iqDF/Lalonde-Causal-Matching"
   ]
  },
  {
   "cell_type": "markdown",
   "metadata": {},
   "source": [
    "# Causal Inference in Python"
   ]
  },
  {
   "cell_type": "markdown",
   "metadata": {},
   "source": [
    "This notebook is an exploration of causal inference in python using the famous Lalonde dataset.\n",
    "* Causal inference is a technique to estimate the effect of one variable onto another, given the presence of other influencing variables (confonding factors) that we try to keep 'controlled'.\n",
    "\n",
    "The study looked at the effectiveness of a job training program (the treatment) on the real earnings of an individual, a couple years after completion of the program.\n",
    "\n",
    "The data consists of a number of demographic variables (age, race, academic background, and previous real earnings), as well as a treatment indicator, and the real earnings in the year 1978 (the response).\n",
    "\n",
    "*Robert Lalonde, \"Evaluating the Econometric Evaluations of Training Programs\", American Economic Review, Vol. 76, pp. 604-620* "
   ]
  },
  {
   "cell_type": "code",
   "execution_count": 1,
   "metadata": {},
   "outputs": [],
   "source": [
    "import numpy as np\n",
    "import pandas as pd\n",
    "import matplotlib.pyplot as plt\n",
    "import seaborn as sns\n",
    "import statsmodels.formula.api as smf\n",
    "# Core\n",
    "import numpy as np\n",
    "import scipy\n",
    "import causalinference\n",
    "import statsmodels.api as sm\n",
    "import pylab\n",
    "\n",
    "\n",
    "%matplotlib inline\n",
    "sns.set_style('darkgrid')\n",
    "plt.style.use('ggplot')\n",
    "# Silent warnings\n",
    "import warnings\n",
    "warnings.filterwarnings(\"ignore\")\n",
    "%matplotlib inline"
   ]
  },
  {
   "cell_type": "markdown",
   "metadata": {},
   "source": [
    "In this notebook we'll be using the tools provided by Laurence Wong in the Package *CausalInference*. Comments on what each function does come from the very good package documentation: http://laurence-wong.com/software/\n",
    "\n",
    "This package relies heavily on Rubin causal model, and so will this analysis https://en.wikipedia.org/wiki/Rubin_causal_model\n",
    "\n",
    "The reason why several models exist is that it is impossible to observe the causal effect on a single unit, and so assumptions must be made to estimate the missing counterfactuals. We'll explain what all that means in this post."
   ]
  },
  {
   "cell_type": "code",
   "execution_count": 2,
   "metadata": {},
   "outputs": [],
   "source": [
    "# https://pypi.org/project/CausalInference/\n",
    "from causalinference import CausalModel"
   ]
  },
  {
   "cell_type": "code",
   "execution_count": 3,
   "metadata": {},
   "outputs": [
    {
     "data": {
      "text/html": [
       "<div>\n",
       "<style scoped>\n",
       "    .dataframe tbody tr th:only-of-type {\n",
       "        vertical-align: middle;\n",
       "    }\n",
       "\n",
       "    .dataframe tbody tr th {\n",
       "        vertical-align: top;\n",
       "    }\n",
       "\n",
       "    .dataframe thead th {\n",
       "        text-align: right;\n",
       "    }\n",
       "</style>\n",
       "<table border=\"1\" class=\"dataframe\">\n",
       "  <thead>\n",
       "    <tr style=\"text-align: right;\">\n",
       "      <th></th>\n",
       "      <th>treat</th>\n",
       "      <th>age</th>\n",
       "      <th>educ</th>\n",
       "      <th>black</th>\n",
       "      <th>hispan</th>\n",
       "      <th>married</th>\n",
       "      <th>nodegree</th>\n",
       "      <th>re74</th>\n",
       "      <th>re75</th>\n",
       "      <th>re78</th>\n",
       "    </tr>\n",
       "  </thead>\n",
       "  <tbody>\n",
       "    <tr>\n",
       "      <th>NSW1</th>\n",
       "      <td>1</td>\n",
       "      <td>37</td>\n",
       "      <td>11</td>\n",
       "      <td>1</td>\n",
       "      <td>0</td>\n",
       "      <td>1</td>\n",
       "      <td>1</td>\n",
       "      <td>0.0</td>\n",
       "      <td>0.0</td>\n",
       "      <td>9930.0460</td>\n",
       "    </tr>\n",
       "    <tr>\n",
       "      <th>NSW2</th>\n",
       "      <td>1</td>\n",
       "      <td>22</td>\n",
       "      <td>9</td>\n",
       "      <td>0</td>\n",
       "      <td>1</td>\n",
       "      <td>0</td>\n",
       "      <td>1</td>\n",
       "      <td>0.0</td>\n",
       "      <td>0.0</td>\n",
       "      <td>3595.8940</td>\n",
       "    </tr>\n",
       "    <tr>\n",
       "      <th>NSW3</th>\n",
       "      <td>1</td>\n",
       "      <td>30</td>\n",
       "      <td>12</td>\n",
       "      <td>1</td>\n",
       "      <td>0</td>\n",
       "      <td>0</td>\n",
       "      <td>0</td>\n",
       "      <td>0.0</td>\n",
       "      <td>0.0</td>\n",
       "      <td>24909.4500</td>\n",
       "    </tr>\n",
       "    <tr>\n",
       "      <th>NSW4</th>\n",
       "      <td>1</td>\n",
       "      <td>27</td>\n",
       "      <td>11</td>\n",
       "      <td>1</td>\n",
       "      <td>0</td>\n",
       "      <td>0</td>\n",
       "      <td>1</td>\n",
       "      <td>0.0</td>\n",
       "      <td>0.0</td>\n",
       "      <td>7506.1460</td>\n",
       "    </tr>\n",
       "    <tr>\n",
       "      <th>NSW5</th>\n",
       "      <td>1</td>\n",
       "      <td>33</td>\n",
       "      <td>8</td>\n",
       "      <td>1</td>\n",
       "      <td>0</td>\n",
       "      <td>0</td>\n",
       "      <td>1</td>\n",
       "      <td>0.0</td>\n",
       "      <td>0.0</td>\n",
       "      <td>289.7899</td>\n",
       "    </tr>\n",
       "  </tbody>\n",
       "</table>\n",
       "</div>"
      ],
      "text/plain": [
       "      treat  age  educ  black  hispan  married  nodegree  re74  re75  \\\n",
       "NSW1      1   37    11      1       0        1         1   0.0   0.0   \n",
       "NSW2      1   22     9      0       1        0         1   0.0   0.0   \n",
       "NSW3      1   30    12      1       0        0         0   0.0   0.0   \n",
       "NSW4      1   27    11      1       0        0         1   0.0   0.0   \n",
       "NSW5      1   33     8      1       0        0         1   0.0   0.0   \n",
       "\n",
       "            re78  \n",
       "NSW1   9930.0460  \n",
       "NSW2   3595.8940  \n",
       "NSW3  24909.4500  \n",
       "NSW4   7506.1460  \n",
       "NSW5    289.7899  "
      ]
     },
     "execution_count": 3,
     "metadata": {},
     "output_type": "execute_result"
    }
   ],
   "source": [
    "lalonde = pd.read_csv('../data/lalonde.csv', index_col=0)\n",
    "lalonde.head()"
   ]
  },
  {
   "cell_type": "code",
   "execution_count": 5,
   "metadata": {},
   "outputs": [
    {
     "data": {
      "text/html": [
       "<div>\n",
       "<style scoped>\n",
       "    .dataframe tbody tr th:only-of-type {\n",
       "        vertical-align: middle;\n",
       "    }\n",
       "\n",
       "    .dataframe tbody tr th {\n",
       "        vertical-align: top;\n",
       "    }\n",
       "\n",
       "    .dataframe thead th {\n",
       "        text-align: right;\n",
       "    }\n",
       "</style>\n",
       "<table border=\"1\" class=\"dataframe\">\n",
       "  <thead>\n",
       "    <tr style=\"text-align: right;\">\n",
       "      <th></th>\n",
       "      <th>treat</th>\n",
       "      <th>age</th>\n",
       "      <th>educ</th>\n",
       "      <th>black</th>\n",
       "      <th>hispan</th>\n",
       "      <th>married</th>\n",
       "      <th>nodegree</th>\n",
       "      <th>re74</th>\n",
       "      <th>re75</th>\n",
       "      <th>re78</th>\n",
       "    </tr>\n",
       "  </thead>\n",
       "  <tbody>\n",
       "    <tr>\n",
       "      <th>count</th>\n",
       "      <td>614.000000</td>\n",
       "      <td>614.000000</td>\n",
       "      <td>614.000000</td>\n",
       "      <td>614.000000</td>\n",
       "      <td>614.000000</td>\n",
       "      <td>614.000000</td>\n",
       "      <td>614.000000</td>\n",
       "      <td>614.000000</td>\n",
       "      <td>614.000000</td>\n",
       "      <td>614.000000</td>\n",
       "    </tr>\n",
       "    <tr>\n",
       "      <th>mean</th>\n",
       "      <td>0.301303</td>\n",
       "      <td>27.363192</td>\n",
       "      <td>10.268730</td>\n",
       "      <td>0.395765</td>\n",
       "      <td>0.117264</td>\n",
       "      <td>0.415309</td>\n",
       "      <td>0.630293</td>\n",
       "      <td>4557.546569</td>\n",
       "      <td>2184.938207</td>\n",
       "      <td>6792.834483</td>\n",
       "    </tr>\n",
       "    <tr>\n",
       "      <th>std</th>\n",
       "      <td>0.459198</td>\n",
       "      <td>9.881187</td>\n",
       "      <td>2.628325</td>\n",
       "      <td>0.489413</td>\n",
       "      <td>0.321997</td>\n",
       "      <td>0.493177</td>\n",
       "      <td>0.483119</td>\n",
       "      <td>6477.964479</td>\n",
       "      <td>3295.679043</td>\n",
       "      <td>7470.730792</td>\n",
       "    </tr>\n",
       "    <tr>\n",
       "      <th>min</th>\n",
       "      <td>0.000000</td>\n",
       "      <td>16.000000</td>\n",
       "      <td>0.000000</td>\n",
       "      <td>0.000000</td>\n",
       "      <td>0.000000</td>\n",
       "      <td>0.000000</td>\n",
       "      <td>0.000000</td>\n",
       "      <td>0.000000</td>\n",
       "      <td>0.000000</td>\n",
       "      <td>0.000000</td>\n",
       "    </tr>\n",
       "    <tr>\n",
       "      <th>25%</th>\n",
       "      <td>0.000000</td>\n",
       "      <td>20.000000</td>\n",
       "      <td>9.000000</td>\n",
       "      <td>0.000000</td>\n",
       "      <td>0.000000</td>\n",
       "      <td>0.000000</td>\n",
       "      <td>0.000000</td>\n",
       "      <td>0.000000</td>\n",
       "      <td>0.000000</td>\n",
       "      <td>238.283425</td>\n",
       "    </tr>\n",
       "    <tr>\n",
       "      <th>50%</th>\n",
       "      <td>0.000000</td>\n",
       "      <td>25.000000</td>\n",
       "      <td>11.000000</td>\n",
       "      <td>0.000000</td>\n",
       "      <td>0.000000</td>\n",
       "      <td>0.000000</td>\n",
       "      <td>1.000000</td>\n",
       "      <td>1042.330000</td>\n",
       "      <td>601.548400</td>\n",
       "      <td>4759.018500</td>\n",
       "    </tr>\n",
       "    <tr>\n",
       "      <th>75%</th>\n",
       "      <td>1.000000</td>\n",
       "      <td>32.000000</td>\n",
       "      <td>12.000000</td>\n",
       "      <td>1.000000</td>\n",
       "      <td>0.000000</td>\n",
       "      <td>1.000000</td>\n",
       "      <td>1.000000</td>\n",
       "      <td>7888.498250</td>\n",
       "      <td>3248.987500</td>\n",
       "      <td>10893.592500</td>\n",
       "    </tr>\n",
       "    <tr>\n",
       "      <th>max</th>\n",
       "      <td>1.000000</td>\n",
       "      <td>55.000000</td>\n",
       "      <td>18.000000</td>\n",
       "      <td>1.000000</td>\n",
       "      <td>1.000000</td>\n",
       "      <td>1.000000</td>\n",
       "      <td>1.000000</td>\n",
       "      <td>35040.070000</td>\n",
       "      <td>25142.240000</td>\n",
       "      <td>60307.930000</td>\n",
       "    </tr>\n",
       "  </tbody>\n",
       "</table>\n",
       "</div>"
      ],
      "text/plain": [
       "            treat         age        educ       black      hispan     married  \\\n",
       "count  614.000000  614.000000  614.000000  614.000000  614.000000  614.000000   \n",
       "mean     0.301303   27.363192   10.268730    0.395765    0.117264    0.415309   \n",
       "std      0.459198    9.881187    2.628325    0.489413    0.321997    0.493177   \n",
       "min      0.000000   16.000000    0.000000    0.000000    0.000000    0.000000   \n",
       "25%      0.000000   20.000000    9.000000    0.000000    0.000000    0.000000   \n",
       "50%      0.000000   25.000000   11.000000    0.000000    0.000000    0.000000   \n",
       "75%      1.000000   32.000000   12.000000    1.000000    0.000000    1.000000   \n",
       "max      1.000000   55.000000   18.000000    1.000000    1.000000    1.000000   \n",
       "\n",
       "         nodegree          re74          re75          re78  \n",
       "count  614.000000    614.000000    614.000000    614.000000  \n",
       "mean     0.630293   4557.546569   2184.938207   6792.834483  \n",
       "std      0.483119   6477.964479   3295.679043   7470.730792  \n",
       "min      0.000000      0.000000      0.000000      0.000000  \n",
       "25%      0.000000      0.000000      0.000000    238.283425  \n",
       "50%      1.000000   1042.330000    601.548400   4759.018500  \n",
       "75%      1.000000   7888.498250   3248.987500  10893.592500  \n",
       "max      1.000000  35040.070000  25142.240000  60307.930000  "
      ]
     },
     "execution_count": 5,
     "metadata": {},
     "output_type": "execute_result"
    }
   ],
   "source": [
    "# let's have an overview of the data\n",
    "lalonde.describe()"
   ]
  },
  {
   "cell_type": "markdown",
   "metadata": {},
   "source": [
    "**Here is the *raw* difference in earning between the control group and the treated group:**"
   ]
  },
  {
   "cell_type": "code",
   "execution_count": 6,
   "metadata": {},
   "outputs": [
    {
     "data": {
      "text/html": [
       "<div>\n",
       "<style scoped>\n",
       "    .dataframe tbody tr th:only-of-type {\n",
       "        vertical-align: middle;\n",
       "    }\n",
       "\n",
       "    .dataframe tbody tr th {\n",
       "        vertical-align: top;\n",
       "    }\n",
       "\n",
       "    .dataframe thead th {\n",
       "        text-align: right;\n",
       "    }\n",
       "</style>\n",
       "<table border=\"1\" class=\"dataframe\">\n",
       "  <thead>\n",
       "    <tr style=\"text-align: right;\">\n",
       "      <th></th>\n",
       "      <th>median</th>\n",
       "      <th>mean</th>\n",
       "    </tr>\n",
       "    <tr>\n",
       "      <th>treat</th>\n",
       "      <th></th>\n",
       "      <th></th>\n",
       "    </tr>\n",
       "  </thead>\n",
       "  <tbody>\n",
       "    <tr>\n",
       "      <th>0</th>\n",
       "      <td>4975.505</td>\n",
       "      <td>6984.169742</td>\n",
       "    </tr>\n",
       "    <tr>\n",
       "      <th>1</th>\n",
       "      <td>4232.309</td>\n",
       "      <td>6349.143530</td>\n",
       "    </tr>\n",
       "  </tbody>\n",
       "</table>\n",
       "</div>"
      ],
      "text/plain": [
       "         median         mean\n",
       "treat                       \n",
       "0      4975.505  6984.169742\n",
       "1      4232.309  6349.143530"
      ]
     },
     "execution_count": 6,
     "metadata": {},
     "output_type": "execute_result"
    }
   ],
   "source": [
    "lalonde.groupby('treat')['re78'].agg(['median','mean'])"
   ]
  },
  {
   "cell_type": "markdown",
   "metadata": {},
   "source": [
    "The control group has higher earning that the treatment group - does this mean the treatment had a negative impact?"
   ]
  },
  {
   "cell_type": "code",
   "execution_count": 7,
   "metadata": {},
   "outputs": [
    {
     "data": {
      "text/plain": [
       "treat\n",
       "0    AxesSubplot(0.125,0.125;0.775x0.755)\n",
       "1    AxesSubplot(0.125,0.125;0.775x0.755)\n",
       "Name: re78, dtype: object"
      ]
     },
     "execution_count": 7,
     "metadata": {},
     "output_type": "execute_result"
    },
    {
     "data": {
      "image/png": "[encoded data removed]",
      "text/plain": [
       "<Figure size 432x288 with 1 Axes>"
      ]
     },
     "metadata": {
      "needs_background": "light"
     },
     "output_type": "display_data"
    }
   ],
   "source": [
    "lalonde.groupby('treat')['re78'].plot(kind='hist', bins=20, alpha=0.8, legend=True)"
   ]
  },
  {
   "cell_type": "markdown",
   "metadata": {},
   "source": [
    "**This dataset is not a balanced trial.** Indeed people in the control group are very different from people in the test (treatment) group. Below is a plot of the different income distributions:"
   ]
  },
  {
   "cell_type": "code",
   "execution_count": 8,
   "metadata": {},
   "outputs": [
    {
     "data": {
      "text/plain": [
       "treat\n",
       "0    AxesSubplot(0.125,0.125;0.775x0.755)\n",
       "1    AxesSubplot(0.125,0.125;0.775x0.755)\n",
       "Name: re74, dtype: object"
      ]
     },
     "execution_count": 8,
     "metadata": {},
     "output_type": "execute_result"
    },
    {
     "data": {
      "image/png": "[encoded data removed]",
      "text/plain": [
       "<Figure size 432x288 with 1 Axes>"
      ]
     },
     "metadata": {
      "needs_background": "light"
     },
     "output_type": "display_data"
    }
   ],
   "source": [
    "lalonde.groupby('treat')['re74'].plot(kind='hist', bins=20, alpha=0.8, legend=True)"
   ]
  },
  {
   "cell_type": "code",
   "execution_count": 9,
   "metadata": {},
   "outputs": [
    {
     "data": {
      "text/plain": [
       "treat\n",
       "0    AxesSubplot(0.125,0.125;0.775x0.755)\n",
       "1    AxesSubplot(0.125,0.125;0.775x0.755)\n",
       "Name: age, dtype: object"
      ]
     },
     "execution_count": 9,
     "metadata": {},
     "output_type": "execute_result"
    },
    {
     "data": {
      "image/png": "[encoded data removed]",
      "text/plain": [
       "<Figure size 432x288 with 1 Axes>"
      ]
     },
     "metadata": {
      "needs_background": "light"
     },
     "output_type": "display_data"
    }
   ],
   "source": [
    "lalonde.groupby('treat')['age'].plot(kind='hist', bins=20, alpha=0.8, legend=True)"
   ]
  },
  {
   "cell_type": "code",
   "execution_count": 10,
   "metadata": {},
   "outputs": [
    {
     "data": {
      "text/plain": [
       "treat\n",
       "0    AxesSubplot(0.125,0.125;0.775x0.755)\n",
       "1    AxesSubplot(0.125,0.125;0.775x0.755)\n",
       "Name: educ, dtype: object"
      ]
     },
     "execution_count": 10,
     "metadata": {},
     "output_type": "execute_result"
    },
    {
     "data": {
      "image/png": "[encoded data removed]",
      "text/plain": [
       "<Figure size 432x288 with 1 Axes>"
      ]
     },
     "metadata": {
      "needs_background": "light"
     },
     "output_type": "display_data"
    }
   ],
   "source": [
    "lalonde.groupby('treat')['educ'].plot(kind='hist', bins=20, alpha=0.8, legend=True)"
   ]
  },
  {
   "cell_type": "markdown",
   "metadata": {},
   "source": [
    "# notation, aims and assumptions"
   ]
  },
  {
   "cell_type": "markdown",
   "metadata": {},
   "source": [
    "**Notations.**\n",
    "* Y represents the *response*, here is is 1978 earnings ('re78')\n",
    "* D represents the *treatment*: the job training program ('treat')\n",
    "* X represents the *confounding variables*, here it likely is age, education, race and marital status. X is also called a *covariate* or the *counter factual*."
   ]
  },
  {
   "cell_type": "markdown",
   "metadata": {},
   "source": [
    "**Aims.**\n",
    "What we want to know here is the Average Treatment Effect (**ATE**):\n",
    "$$\\Delta = E[Y_{1} - Y_{0}]$$\n",
    "\n",
    "However, as we saw, if we try to estimate this quantity from the row observational distribution, we get:\n",
    "$$\\Delta_{raw} = E[Y|D=1] - E[Y|D=0] = E[Y_{1}|D=1] - E[Y_{0}|D=0] \\\\\n",
    "\\neq \\Delta = E[Y_{1} - Y_{0}]$$\n",
    "\n",
    "because: \n",
    "$$E[Y_{i}|D=i] \\neq E[Y_{i}]$$"
   ]
  },
  {
   "cell_type": "markdown",
   "metadata": {},
   "source": [
    "**General problem.** If we believe that age, education, race, and marital status all have a likely influence on earnings Y, we need a way to disentangle the effect of D on Y from the perturbative effect of X on Y."
   ]
  },
  {
   "cell_type": "markdown",
   "metadata": {},
   "source": [
    "**Assumptions.**\n",
    "The Causalinference package is based on a typical assumption called *unconfoundedness* or *ignorability*:\n",
    "$$(Y(0), Y(1)) \\perp D \\; | \\; X$$\n",
    "\n",
    "Indeed we saw that the treatment assignment is probably not independent of each subject's potential outcomes, e.g. poorer people are more represented in the treatment group than in the control group.\n",
    "\n",
    "However the treatment is assumed to be *unconfounded* in the sense that the dependence between the treatment assignment and the outcomes is *only through* something we observe, namely the covariates X.\n",
    "\n",
    "What this means is that if we control for X, i.e. look across people with similar levels of X, then the difference between treated and control should be attributable to the treatment itself, just as a randomized experiment would be.\n",
    "\n",
    "This is the assumption, and if it doesn't hold our results could be completely wrong."
   ]
  },
  {
   "cell_type": "markdown",
   "metadata": {},
   "source": [
    "# Simple approach"
   ]
  },
  {
   "cell_type": "markdown",
   "metadata": {},
   "source": [
    "The simplest type of model we can use is a linear model:\n",
    "\n",
    "$$Y_0 = \\alpha + \\beta X + \\epsilon$$\n",
    "$$Y_1 = Y_0 + \\gamma D $$\n",
    "\n",
    "If this is accurate, fitting the following model to the data using linear regression will give us an estimate of the Average Treatment Effect (ATE):\n",
    "$$Y = \\alpha + \\beta X + \\gamma D$$\n",
    "\n",
    "$\\epsilon$ is called a residual and represents the noise"
   ]
  },
  {
   "cell_type": "code",
   "execution_count": 13,
   "metadata": {},
   "outputs": [],
   "source": [
    "covariates = ['age', 'educ', 'black', 'hispan', 'married', 'nodegree', 're74', 're75']\n"
   ]
  },
  {
   "cell_type": "code",
   "execution_count": 21,
   "metadata": {},
   "outputs": [],
   "source": [
    "causal.est_via_ols?"
   ]
  },
  {
   "cell_type": "code",
   "execution_count": 14,
   "metadata": {},
   "outputs": [
    {
     "name": "stdout",
     "output_type": "stream",
     "text": [
      "\n",
      "Treatment Effect Estimates: OLS\n",
      "\n",
      "                     Est.       S.e.          z      P>|z|      [95% Conf. int.]\n",
      "--------------------------------------------------------------------------------\n",
      "           ATE   1548.244    734.521      2.108      0.035    108.584   2987.904\n",
      "\n"
     ]
    }
   ],
   "source": [
    "# we use the CausalModel method from the causalinference package\n",
    "\n",
    "causal = CausalModel(\n",
    "    Y=lalonde['re78'].values, \n",
    "    D=lalonde['treat'].values, \n",
    "    X=lalonde[covariates].values)\n",
    "\n",
    "causal.est_via_ols(adj=1)\n",
    "# adj=1 corresponds to the simplicity of the model we entered\n",
    "# This is called a \"constant treatment effect\"\n",
    "\n",
    "print(causal.estimates)"
   ]
  },
  {
   "cell_type": "markdown",
   "metadata": {},
   "source": [
    "**This model predicts that the Average Treatment Effect (ATE, the job training) is $1548 extra annual earnings. This is very different from our previous raw results predicting that the job training had negative effects on earnings!**\n",
    "\n",
    "Assuming that our model accurately describes the counterfactual X, CausalModel provides the 95% confidence interval. What this means is that, if we were to repeat this treatment experiment, in 95% of the cases the Average Treatment Effect would be within that interval. That doesn't mean that the true value is within that interval.\n",
    "\n",
    "Based on the assumption that the residuals are normally distributed, the 95% confidence interval is calculated as:\n",
    "$$ AVG \\pm 1.96 * STD  / \\sqrt{n}$$\n",
    "\n",
    "In practice, as the confidence interval is very large, my interpretation is that the experiment should have had more people if a better estimate of the extra earnings was desired. Ways to control the standard deviation could also be explored. \n",
    "\n",
    "Overall, assuming that we controlled for all the effects and did it well, it seems that the job training had a positive effect on earnings. Indeed, although the standard deviation is very large, the p value of 0.035 rejects the null hypothesis (no effect) with a confidence level of 97.5%. However, the truth is that we don't know if we modelled the counterfactual well, and this could change everything... As we will see later, estimators such as the Ordinary Least Square (OLS) estimator can behave poorly when there is not enough covariate overlap, and that's because the estimator needs to extrapolate too much from one group to another.\n",
    "\n",
    "A more structured approach as we will see below can allow us to increase our confidence that the covariants are well controlled for. We will see many steps, but one simple idea is the technique of matching: the idea is to find for each sample which received the treatment a *similar* sample in the control group, and to directly compare these values."
   ]
  },
  {
   "cell_type": "code",
   "execution_count": 15,
   "metadata": {},
   "outputs": [
    {
     "name": "stdout",
     "output_type": "stream",
     "text": [
      "                            OLS Regression Results                            \n",
      "==============================================================================\n",
      "Dep. Variable:                   re78   R-squared:                       0.148\n",
      "Model:                            OLS   Adj. R-squared:                  0.135\n",
      "Method:                 Least Squares   F-statistic:                     11.64\n",
      "Date:                Fri, 29 Jan 2021   Prob (F-statistic):           5.99e-17\n",
      "Time:                        11:52:28   Log-Likelihood:                -6297.8\n",
      "No. Observations:                 614   AIC:                         1.262e+04\n",
      "Df Residuals:                     604   BIC:                         1.266e+04\n",
      "Df Model:                           9                                         \n",
      "Covariance Type:            nonrobust                                         \n",
      "==============================================================================\n",
      "                 coef    std err          t      P>|t|      [0.025      0.975]\n",
      "------------------------------------------------------------------------------\n",
      "Intercept     66.5145   2436.746      0.027      0.978   -4719.009    4852.038\n",
      "treat       1548.2438    781.279      1.982      0.048      13.890    3082.598\n",
      "age           12.9776     32.489      0.399      0.690     -50.827      76.783\n",
      "educ         403.9412    158.906      2.542      0.011      91.865     716.017\n",
      "black      -1240.6441    768.764     -1.614      0.107   -2750.420     269.132\n",
      "hispan       498.8969    941.943      0.530      0.597   -1350.983    2348.777\n",
      "married      406.6208    695.472      0.585      0.559    -959.217    1772.458\n",
      "nodegree     259.8174    847.442      0.307      0.759   -1404.474    1924.108\n",
      "re74           0.2964      0.058      5.086      0.000       0.182       0.411\n",
      "re75           0.2315      0.105      2.213      0.027       0.026       0.437\n",
      "==============================================================================\n",
      "Omnibus:                      216.123   Durbin-Watson:                   2.009\n",
      "Prob(Omnibus):                  0.000   Jarque-Bera (JB):             1182.664\n",
      "Skew:                           1.467   Prob(JB):                    1.54e-257\n",
      "Kurtosis:                       9.134   Cond. No.                     7.64e+04\n",
      "==============================================================================\n",
      "\n",
      "Notes:\n",
      "[1] Standard Errors assume that the covariance matrix of the errors is correctly specified.\n",
      "[2] The condition number is large, 7.64e+04. This might indicate that there are\n",
      "strong multicollinearity or other numerical problems.\n"
     ]
    }
   ],
   "source": [
    "formula = 're78 ~ treat + age + educ + black + hispan + married + nodegree + re74 + re75'\n",
    "ols_mod = smf.ols(formula=formula, data=lalonde).fit()\n",
    "\n",
    "print(ols_mod.summary())"
   ]
  },
  {
   "cell_type": "markdown",
   "metadata": {},
   "source": [
    "# Structure for a more complete approach"
   ]
  },
  {
   "cell_type": "markdown",
   "metadata": {},
   "source": [
    "**Pre-processing phase:**\n",
    "1. assess covariate balance\n",
    "2. estimate propensity score\n",
    "3. trim sample\n",
    "4. stratify sample\n",
    "\n",
    "**Estimation phase:**\n",
    "1. blocking estimator\n",
    "or/and\n",
    "2. matching estimator"
   ]
  },
  {
   "cell_type": "markdown",
   "metadata": {},
   "source": [
    "# Pre-processing phase"
   ]
  },
  {
   "cell_type": "markdown",
   "metadata": {},
   "source": [
    "In the pre-processing phase, the data is inspected and manipulated to allow credible analysis to be conducted on it.\n",
    "\n",
    "As we discussed in the previous section, one key method for disantangling the treatment effect from the covariant effects is the *matching technique*. In this technique we compare subjects that have similar covariate values (i.e. same age, rage, income etc). However, our ability to compare such pairs depends heavily on the degree of overlap of the covariates between the treatment and control group. This is called *covariate balance*. \n",
    "\n",
    "Said otherwise, to control the effect of education, one way is to look at people in the tested group and in the non-tested group that all have the same level of education, say a bachelor degree. However, if nobody in the test group has a bachelor degree while many do in the non-test group, this procedure is impossible.\n",
    "\n",
    "**(1) assess covariate balance** to assess whether how easily people can be matched. If there is too much unbalance, direct matching will rarely be possible, and we may need to use more complex techniques, if at all possible."
   ]
  },
  {
   "cell_type": "code",
   "execution_count": 22,
   "metadata": {},
   "outputs": [
    {
     "data": {
      "text/plain": [
       "Index(['treat', 'age', 'educ', 'black', 'hispan', 'married', 'nodegree',\n",
       "       're74', 're75', 're78'],\n",
       "      dtype='object')"
      ]
     },
     "execution_count": 22,
     "metadata": {},
     "output_type": "execute_result"
    }
   ],
   "source": [
    "lalonde.columns"
   ]
  },
  {
   "cell_type": "code",
   "execution_count": 23,
   "metadata": {},
   "outputs": [
    {
     "name": "stdout",
     "output_type": "stream",
     "text": [
      "\n",
      "Summary Statistics\n",
      "\n",
      "                       Controls (N_c=429)         Treated (N_t=185)             \n",
      "       Variable         Mean         S.d.         Mean         S.d.     Raw-diff\n",
      "--------------------------------------------------------------------------------\n",
      "              Y     6984.170     7294.162     6349.144     7867.402     -635.026\n",
      "\n",
      "                       Controls (N_c=429)         Treated (N_t=185)             \n",
      "       Variable         Mean         S.d.         Mean         S.d.     Nor-diff\n",
      "--------------------------------------------------------------------------------\n",
      "             X0       28.030       10.787       25.816        7.155       -0.242\n",
      "             X1       10.235        2.855       10.346        2.011        0.045\n",
      "             X2        0.203        0.403        0.843        0.365        1.668\n",
      "             X3        0.142        0.350        0.059        0.237       -0.277\n",
      "             X4        0.513        0.500        0.189        0.393       -0.719\n",
      "             X5        0.597        0.491        0.708        0.456        0.235\n",
      "             X6     5619.237     6788.751     2095.574     4886.620       -0.596\n",
      "             X7     2466.484     3291.996     1532.055     3219.251       -0.287\n",
      "\n"
     ]
    }
   ],
   "source": [
    "print(causal.summary_stats)"
   ]
  },
  {
   "cell_type": "markdown",
   "metadata": {},
   "source": [
    "**Raw-diff** is the raw difference between the means of the control and treatment groups.\n",
    "\n",
    "As we saw previously, the treated group (trained) is earning $635 less than the control group, which is surprising."
   ]
  },
  {
   "cell_type": "markdown",
   "metadata": {},
   "source": [
    "**Nor-diff** in this package is Imbens and Rubin's normalized differences (2015) in average covariates, defined as:\n",
    "$$\\frac{\\bar{X}_{k,t}-\\bar{X}_{k,c}}{\\sqrt{(s_{k,t}^2 + s_{k,c}^2) / 2}}$$\n",
    "\n",
    "Here $\\bar{X}_{k,t}$ and $s_{k,t}$ are the sample mean and sample standard deviation of the kth covariate of the treatment group, and $\\bar{X}_{k,c}$ and $s_{k,c}$ are the analogous statistics for the control group.\n",
    "\n",
    "The aim here is to assess the overlap between the control and treatment groups. It can be seen that X2, X4, and X6 (black, married, revenue in 1974) have a large normalized difference, beyond 0.5. This can be interpreted as an imbalance. Concretely, there are way more black people, less married people and lower income in 1974 in the treatment group than in the control group.\n",
    "\n",
    "The impact of imbalance is to make the matching technique harder to apply.\n",
    "We'll see later how we can try to correct for it (however, ideally the study would be more balanced!).\n",
    "\n",
    "After computing this measurement for all of our features, there is a rule of thumb that are commonly used to determine whether that feature is balanced or not, (similar to the 0.05 for p-value idea).\n",
    "\n",
    "* Smaller than  0.1 . For a randomized trial, the smd between all of the covariates should typically fall into this bucket.\n",
    "* 0.1  -  0.2 . Not necessarily balanced, but small enough that people are usually not too worried about them. Sometimes, even after performing matching, there might still be a few covariates whose smd fall under this range.\n",
    "* 0.2 . Values that are greater than this threshold are considered seriously imbalanced."
   ]
  },
  {
   "cell_type": "code",
   "execution_count": 24,
   "metadata": {},
   "outputs": [],
   "source": [
    "# Define params and inputs\n",
    "covariates = ['age', 'educ', 'black', 'hispan', 'married', 'nodegree', 're74', 're75']\n",
    "agg_operations = {'treat': 'count'}\n",
    "agg_operations.update({\n",
    "    feature: ['mean', 'std'] for feature in covariates\n",
    "})"
   ]
  },
  {
   "cell_type": "code",
   "execution_count": 25,
   "metadata": {},
   "outputs": [],
   "source": [
    "def compute_table_one_smd(table_one, covariates, round_digits=4):\n",
    "    feature_smds = []\n",
    "    for feature in covariates:\n",
    "        feature_table_one = table_one[feature].values\n",
    "        neg_mean = feature_table_one[0, 0]\n",
    "        neg_std = feature_table_one[0, 1]\n",
    "        pos_mean = feature_table_one[1, 0]\n",
    "        pos_std = feature_table_one[1, 1]\n",
    "\n",
    "        smd = (pos_mean - neg_mean) / np.sqrt((pos_std ** 2 + neg_std ** 2) / 2)\n",
    "        smd = round(abs(smd), round_digits)\n",
    "        feature_smds.append(smd)\n",
    "\n",
    "    return pd.DataFrame({'covariates': covariates, 'smd': feature_smds})"
   ]
  },
  {
   "cell_type": "code",
   "execution_count": 26,
   "metadata": {},
   "outputs": [
    {
     "data": {
      "text/html": [
       "<div>\n",
       "<style scoped>\n",
       "    .dataframe tbody tr th:only-of-type {\n",
       "        vertical-align: middle;\n",
       "    }\n",
       "\n",
       "    .dataframe tbody tr th {\n",
       "        vertical-align: top;\n",
       "    }\n",
       "\n",
       "    .dataframe thead th {\n",
       "        text-align: right;\n",
       "    }\n",
       "</style>\n",
       "<table border=\"1\" class=\"dataframe\">\n",
       "  <thead>\n",
       "    <tr style=\"text-align: right;\">\n",
       "      <th></th>\n",
       "      <th>covariates</th>\n",
       "      <th>smd</th>\n",
       "    </tr>\n",
       "  </thead>\n",
       "  <tbody>\n",
       "    <tr>\n",
       "      <th>0</th>\n",
       "      <td>age</td>\n",
       "      <td>0.2419</td>\n",
       "    </tr>\n",
       "    <tr>\n",
       "      <th>1</th>\n",
       "      <td>educ</td>\n",
       "      <td>0.0448</td>\n",
       "    </tr>\n",
       "    <tr>\n",
       "      <th>2</th>\n",
       "      <td>black</td>\n",
       "      <td>1.6677</td>\n",
       "    </tr>\n",
       "    <tr>\n",
       "      <th>3</th>\n",
       "      <td>hispan</td>\n",
       "      <td>0.2769</td>\n",
       "    </tr>\n",
       "    <tr>\n",
       "      <th>4</th>\n",
       "      <td>married</td>\n",
       "      <td>0.7195</td>\n",
       "    </tr>\n",
       "    <tr>\n",
       "      <th>5</th>\n",
       "      <td>nodegree</td>\n",
       "      <td>0.2350</td>\n",
       "    </tr>\n",
       "    <tr>\n",
       "      <th>6</th>\n",
       "      <td>re74</td>\n",
       "      <td>0.5958</td>\n",
       "    </tr>\n",
       "    <tr>\n",
       "      <th>7</th>\n",
       "      <td>re75</td>\n",
       "      <td>0.2870</td>\n",
       "    </tr>\n",
       "  </tbody>\n",
       "</table>\n",
       "</div>"
      ],
      "text/plain": [
       "  covariates     smd\n",
       "0        age  0.2419\n",
       "1       educ  0.0448\n",
       "2      black  1.6677\n",
       "3     hispan  0.2769\n",
       "4    married  0.7195\n",
       "5   nodegree  0.2350\n",
       "6       re74  0.5958\n",
       "7       re75  0.2870"
      ]
     },
     "execution_count": 26,
     "metadata": {},
     "output_type": "execute_result"
    }
   ],
   "source": [
    "table_one_matched = lalonde.groupby('treat').agg(agg_operations)\n",
    "table_one_smd_matched = compute_table_one_smd(table_one_matched, covariates)\n",
    "table_one_smd_matched"
   ]
  },
  {
   "cell_type": "markdown",
   "metadata": {},
   "source": [
    "**(2) Propensity Score** - the probability of receiving the treatment, conditional on the covariates.\n",
    "\n",
    "Propensity is useful for assessing and improving covariate balance. Indeed a theorem by Rosenbaum and Rubin in 1983, proves that, for subjects that share the same propensity score (even if their covariate vectors are different), the difference between the treated and the control units actually identifies a conditional average treatment effect.\n",
    "\n",
    "**Thus, instead of matching on the covariate vectors X themselves, we can also match on the single-dimensional propensity score p(X), aggregate across subjects, and still arrive at a valid estimate of the overall average treatment effect.**\n",
    "\n",
    "$$ E[Y(1) - Y(0) | p(X)] \\approx E[Y(1) - Y(0)]$$\n",
    "\n",
    "This is if $p(X) = P(D=1 | X)$, which the CausalInference package estimates for us using a sequence of likelihood ratio tests.\n",
    "\n",
    "reference: http://laurence-wong.com/software/propensity-score"
   ]
  },
  {
   "cell_type": "code",
   "execution_count": 27,
   "metadata": {},
   "outputs": [
    {
     "name": "stdout",
     "output_type": "stream",
     "text": [
      "\n",
      "Estimated Parameters of Propensity Score\n",
      "\n",
      "                    Coef.       S.e.          z      P>|z|      [95% Conf. int.]\n",
      "--------------------------------------------------------------------------------\n",
      "     Intercept    -21.096      2.687     -7.851      0.000    -26.363    -15.829\n",
      "            X2      2.635      0.367      7.179      0.000      1.915      3.354\n",
      "            X4     -3.026      0.717     -4.222      0.000     -4.431     -1.621\n",
      "            X6      0.000      0.000      0.847      0.397     -0.000      0.000\n",
      "            X3      5.137      1.845      2.785      0.005      1.521      8.753\n",
      "            X1      1.175      0.316      3.713      0.000      0.555      1.796\n",
      "            X5      0.376      0.450      0.836      0.403     -0.505      1.258\n",
      "            X7      0.000      0.000      1.496      0.135     -0.000      0.000\n",
      "            X0      0.988      0.142      6.983      0.000      0.711      1.266\n",
      "         X0*X0     -0.015      0.002     -6.524      0.000     -0.019     -0.010\n",
      "         X1*X1     -0.064      0.018     -3.539      0.000     -0.099     -0.028\n",
      "         X6*X0     -0.000      0.000     -2.876      0.004     -0.000     -0.000\n",
      "         X6*X6      0.000      0.000      2.420      0.016      0.000      0.000\n",
      "         X3*X0     -0.223      0.081     -2.752      0.006     -0.382     -0.064\n",
      "         X4*X3      2.845      1.071      2.656      0.008      0.746      4.945\n",
      "         X2*X4      1.525      0.781      1.952      0.051     -0.006      3.055\n",
      "\n"
     ]
    }
   ],
   "source": [
    "#this function estimates the propensity score, so that propensity methods can be employed\n",
    "causal.est_propensity_s()\n",
    "print(causal.propensity)"
   ]
  },
  {
   "cell_type": "markdown",
   "metadata": {},
   "source": [
    "**(3) Trim sample.** This excludes subjects with extreme propensity scores. Indeed it will be very hard to match those extreme subjects, so the usual strategy is to focus attention on the remaining units that exhibit a higher degree of covariate balance."
   ]
  },
  {
   "cell_type": "code",
   "execution_count": 28,
   "metadata": {},
   "outputs": [],
   "source": [
    "# extreme propensity is a very high probability to be either in the control group or the treatment group\n",
    "# that makes matching difficult\n",
    "\n",
    "#by default, causal.cutoff is set to 1\n",
    "# the trim function will drop units whose estimated propensity score <= 0.1 or >= 0.9\n",
    "#causal.cutoff = 0.1\n",
    "#causal.trim()\n",
    "\n",
    "#however, there is a procedure that tried to select an optimal cutoff value\n",
    "causal.trim_s()"
   ]
  },
  {
   "cell_type": "code",
   "execution_count": 29,
   "metadata": {},
   "outputs": [
    {
     "name": "stdout",
     "output_type": "stream",
     "text": [
      "\n",
      "Summary Statistics\n",
      "\n",
      "                       Controls (N_c=156)         Treated (N_t=140)             \n",
      "       Variable         Mean         S.d.         Mean         S.d.     Raw-diff\n",
      "--------------------------------------------------------------------------------\n",
      "              Y     5511.740     6023.366     6351.987     6397.833      840.246\n",
      "\n",
      "                       Controls (N_c=156)         Treated (N_t=140)             \n",
      "       Variable         Mean         S.d.         Mean         S.d.     Nor-diff\n",
      "--------------------------------------------------------------------------------\n",
      "             X0       23.603        7.112       24.986        7.510        0.189\n",
      "             X1       10.250        2.360       10.329        2.177        0.035\n",
      "             X2        0.468        0.501        0.836        0.372        0.834\n",
      "             X3        0.250        0.434        0.071        0.258       -0.500\n",
      "             X4        0.263        0.442        0.221        0.417       -0.096\n",
      "             X5        0.647        0.479        0.664        0.474        0.035\n",
      "             X6     2690.978     4488.665     2110.413     4215.220       -0.133\n",
      "             X7     1918.904     3088.360     1635.661     3414.688       -0.087\n",
      "\n"
     ]
    }
   ],
   "source": [
    "print(causal.summary_stats)"
   ]
  },
  {
   "cell_type": "markdown",
   "metadata": {},
   "source": [
    "In this new subset, the normal difference for most variables is rather balanced.\n",
    "Only X2 (number of black people) is still unbalanced.\n",
    "\n",
    "It is worth noting that the initial sample of 614 people (429 controls, 185 treated) has been drastically trimmed to 297 people (157 controls, 140 treated).\n",
    "\n",
    "In this more balanced sub-sample, without using any model, the average earnings in 1978 is more like what we would expect: populations that received training (treated) earn in average $875 more than the control group."
   ]
  },
  {
   "cell_type": "markdown",
   "metadata": {},
   "source": [
    "**(4) Stratify sample** - group similar subjects together. People are grouped in layers of similar propensity scores. These bins should have an improved covariate balance, and we should be able to compare and match samples within those bins."
   ]
  },
  {
   "cell_type": "code",
   "execution_count": null,
   "metadata": {},
   "outputs": [],
   "source": [
    "# the default is to have 5 bins with equal number of samples"
   ]
  },
  {
   "cell_type": "code",
   "execution_count": 30,
   "metadata": {},
   "outputs": [
    {
     "name": "stdout",
     "output_type": "stream",
     "text": [
      "\n",
      "Stratification Summary\n",
      "\n",
      "              Propensity Score         Sample Size     Ave. Propensity   Outcome\n",
      "   Stratum      Min.      Max.  Controls   Treated  Controls   Treated  Raw-diff\n",
      "--------------------------------------------------------------------------------\n",
      "         1     0.091     0.205        67         9     0.139     0.171  1480.667\n",
      "         2     0.205     0.465        46        28     0.328     0.390  1105.270\n",
      "         3     0.466     0.676        27        46     0.555     0.579  -319.253\n",
      "         4     0.677     0.909        16        57     0.779     0.814  2244.311\n",
      "\n"
     ]
    }
   ],
   "source": [
    "# however, it is possible to split the sample in a more data-driven way.\n",
    "# The larger the sample, the more bins we can afford, so that samples can be increasingly similar within smaller bins\n",
    "# the limit in dividing too much is that there are too few datapoints in each bin for the bins to be statistically different (t-test)\n",
    "\n",
    "causal.stratify_s()\n",
    "print(causal.strata)"
   ]
  },
  {
   "cell_type": "markdown",
   "metadata": {},
   "source": [
    "Within bins, the raw difference in outcome should be a good representation of the real treatment effect. For example:\n",
    "\n",
    "- People in group 1 are unlikely to be in the treatment group (well off?). For them, the training improved their earnings by $1399 in average.\n",
    "\n",
    "- People in group 4 are likely to be in the treatment group (poor?). For them, the training improved their earnings even more, with a mean of $2211 for that year 1978.\n",
    "\n",
    "Something that looks quite bad is that outcomes for the group 3 are totally different from that of the other groups. \n",
    "\n",
    "The trend seems to be that the higher the propensity score, the higher the raw difference in outcome for each stratum. but this one shows opposite results... \n",
    "\n",
    "This may be a sign that we haven't controlled for enough factors (or that the propensity calculation is wrong?). Or it might also be a true representation or reality: some people may benefit from the job training, while other may not. It might also be random and the reflection that we are working with a relatively small sample (74 elements in bin 3).\n",
    "\n",
    "Let's see in the analysis phase if regressions within each stratum will be able to control for confounding variables better."
   ]
  },
  {
   "cell_type": "markdown",
   "metadata": {},
   "source": [
    "# Estimation phase"
   ]
  },
  {
   "cell_type": "markdown",
   "metadata": {},
   "source": [
    "In the estimation phase, treatment effects of the training can be estimated in several ways."
   ]
  },
  {
   "cell_type": "markdown",
   "metadata": {},
   "source": [
    "**(1) The blocking estimator** - although each layer of the stratum is pretty balanced and gives reasonable raw results, this estimator goes further and controls for the confounding factors within each layer of the stratum. More precisely, this estimator uses a least square estimate within each propensity bin, and from this produces an overall average treatment effect estimate."
   ]
  },
  {
   "cell_type": "code",
   "execution_count": null,
   "metadata": {},
   "outputs": [],
   "source": [
    "# causal.est_via_blocking()\n",
    "# print(causal.estimates)\n",
    "\n",
    "# for some reason I'm having a singular matrix when calculating this blocking estimator\n",
    "# on one of the stratum\n",
    "# I've tried changing the stratum structure and the set of variables,\n",
    "# however, the singularity persists when calculating the covariance matrix\n",
    "# this would need a closer look at the dataset, which I haven't taken the time to do yet\n",
    "\n",
    "# this is one of the issue of this causalinference package:\n",
    "# it needs to invert large matrixes, which can fail"
   ]
  },
  {
   "cell_type": "markdown",
   "metadata": {},
   "source": [
    "**(2) The matching estimator** - although each layer of the stratum is pretty balanced and gives reasonable raw results, this matching estimator controls for the confounding factors by matching even more thinely samples within each layer of the stratum. More precisely, this pairing is done via nearest-neighborhood matching. If the matching is imperfect, biias correction is recommended."
   ]
  },
  {
   "cell_type": "markdown",
   "metadata": {},
   "source": [
    "If issues arrive with least square, such as excessive extrapolation, this matching estimator pushes until the end the unconfoundedness assumption and nonparametrically matches subjects with similar covariate values together. In other words, if the confounding factors are equal for both element of a pair, the difference between the two will be the real treatment effect. In the causalinference package, samples are weighted by the inverse of the standard deviation of the sample covariate, so as to normalize. \n",
    "\n",
    "Where matching discrepancy exist, least square will be used, but very locally, so large extrapolations should be less of a problem."
   ]
  },
  {
   "cell_type": "code",
   "execution_count": 31,
   "metadata": {},
   "outputs": [
    {
     "name": "stdout",
     "output_type": "stream",
     "text": [
      "\n",
      "Treatment Effect Estimates: Matching\n",
      "\n",
      "                     Est.       S.e.          z      P>|z|      [95% Conf. int.]\n",
      "--------------------------------------------------------------------------------\n",
      "           ATE    546.115   1211.957      0.451      0.652  -1829.321   2921.550\n",
      "           ATC    544.509   1502.414      0.362      0.717  -2400.223   3489.241\n",
      "           ATT    547.904   1389.501      0.394      0.693  -2175.519   3271.327\n",
      "\n"
     ]
    }
   ],
   "source": [
    "causal.est_via_matching(bias_adj=False)\n",
    "print(causal.estimates)"
   ]
  },
  {
   "cell_type": "code",
   "execution_count": 33,
   "metadata": {},
   "outputs": [
    {
     "name": "stdout",
     "output_type": "stream",
     "text": [
      "\n",
      "Treatment Effect Estimates: Matching\n",
      "\n",
      "                     Est.       S.e.          z      P>|z|      [95% Conf. int.]\n",
      "--------------------------------------------------------------------------------\n",
      "           ATE    546.115   1211.957      0.451      0.652  -1829.321   2921.550\n",
      "           ATC    544.509   1502.414      0.362      0.717  -2400.223   3489.241\n",
      "           ATT    547.904   1389.501      0.394      0.693  -2175.519   3271.327\n",
      "\n"
     ]
    }
   ],
   "source": [
    "causal.est_via_matching(bias_adj=False)\n",
    "print(causal.estimates)"
   ]
  },
  {
   "cell_type": "markdown",
   "metadata": {},
   "source": [
    "The model provides estimates of three quantities: ATE, ATT and ATC:\n",
    "* ATE is the Average Treatment Effect, and this is what we are most interested in. $ATE = E[Y_1-Y_0] \\approx E[Y_1-Y_0 | X]$\n",
    " * Here is seems that the average effect of the treatment (job training) was to increase earnings by \\$384.\n",
    " * However, this effect may just be a random variation, and the treatment may well not have any impact (the null hypothesis). The probability to reject the null hypothesis is 25%. The most common interpretation of this number is that the treatment of job trainings did not have a statistically significant impact on earnings, given the models and data processing we did\n",
    "* ATT is the Average Treatment effect of the Treated $ATT = E[Y_1-Y_0 | D=1]$\n",
    "* ATC is the Average Treatment effect of the Control $ATC = E[Y_1-Y_0 | D=0]$"
   ]
  },
  {
   "cell_type": "code",
   "execution_count": 34,
   "metadata": {},
   "outputs": [
    {
     "name": "stdout",
     "output_type": "stream",
     "text": [
      "\n",
      "Treatment Effect Estimates: Matching\n",
      "\n",
      "                     Est.       S.e.          z      P>|z|      [95% Conf. int.]\n",
      "--------------------------------------------------------------------------------\n",
      "           ATE   1015.624    881.557      1.152      0.249   -712.228   2743.476\n",
      "           ATC    711.019   1003.465      0.709      0.479  -1255.772   2677.809\n",
      "           ATT   1355.041    934.752      1.450      0.147   -477.073   3187.156\n",
      "\n"
     ]
    }
   ],
   "source": [
    "# allowing several matches\n",
    "causal.est_via_matching(bias_adj=True, matches=4)\n",
    "print(causal.estimates)"
   ]
  },
  {
   "cell_type": "markdown",
   "metadata": {},
   "source": [
    "Allowing several matches attributes \\$1027 of revenue increase to the treatment, with 75% probability to be significant. A common interpretation would be still to reject this as proof of statistical significance."
   ]
  },
  {
   "cell_type": "markdown",
   "metadata": {},
   "source": [
    "# Conclusions"
   ]
  },
  {
   "cell_type": "markdown",
   "metadata": {},
   "source": [
    "The effect of training is hard to establish firmly. Although it seems the sample from Lalonde had positive effects, it is actually quite likely to be without any effect.\n",
    "\n",
    "This isn't so far from what Lalonde concluded: http://people.hbs.edu/nashraf/LaLonde_1986.pdf\n",
    "By glancing at it, Lalonde seemed to know the gender of participants, which does not seem to be in this dataset, or may be hidden in the NSW vs AFDC.\n",
    "\n",
    "\n",
    "More work could be done to better estimate the counterfactual. For instance we could introduce polynomial variables to capture non-linear effects and/or introduce categorical variables to bin numerical variables such aseducation."
   ]
  },
  {
   "cell_type": "markdown",
   "metadata": {},
   "source": [
    "This was an example of how the CausalInference package could be used, and our conclusions are attached to those models. This package relies heavily on propensity matching and its ignorability / confoundedness assumption.\n",
    "\n",
    "Other models exist, e.g. Bayesian models. This will be for another time for us. Meanwhile, the curious can have a look at this other post: https://engl.is/causal-analysis-introduction-examples-in-python-and-pymc.html"
   ]
  },
  {
   "cell_type": "markdown",
   "metadata": {},
   "source": [
    "### Alternative propensity score estimation"
   ]
  },
  {
   "cell_type": "code",
   "execution_count": 35,
   "metadata": {},
   "outputs": [
    {
     "data": {
      "text/html": [
       "<table class=\"simpletable\">\n",
       "<caption>Generalized Linear Model Regression Results</caption>\n",
       "<tr>\n",
       "  <th>Dep. Variable:</th>         <td>treat</td>      <th>  No. Observations:  </th>  <td>   614</td> \n",
       "</tr>\n",
       "<tr>\n",
       "  <th>Model:</th>                  <td>GLM</td>       <th>  Df Residuals:      </th>  <td>   605</td> \n",
       "</tr>\n",
       "<tr>\n",
       "  <th>Model Family:</th>        <td>Binomial</td>     <th>  Df Model:          </th>  <td>     8</td> \n",
       "</tr>\n",
       "<tr>\n",
       "  <th>Link Function:</th>         <td>logit</td>      <th>  Scale:             </th> <td>  1.0000</td>\n",
       "</tr>\n",
       "<tr>\n",
       "  <th>Method:</th>                <td>IRLS</td>       <th>  Log-Likelihood:    </th> <td> -243.92</td>\n",
       "</tr>\n",
       "<tr>\n",
       "  <th>Date:</th>            <td>Fri, 29 Jan 2021</td> <th>  Deviance:          </th> <td>  487.84</td>\n",
       "</tr>\n",
       "<tr>\n",
       "  <th>Time:</th>                <td>16:17:12</td>     <th>  Pearson chi2:      </th>  <td>  556.</td> \n",
       "</tr>\n",
       "<tr>\n",
       "  <th>No. Iterations:</th>          <td>6</td>        <th>                     </th>     <td> </td>   \n",
       "</tr>\n",
       "<tr>\n",
       "  <th>Covariance Type:</th>     <td>nonrobust</td>    <th>                     </th>     <td> </td>   \n",
       "</tr>\n",
       "</table>\n",
       "<table class=\"simpletable\">\n",
       "<tr>\n",
       "      <td></td>         <th>coef</th>     <th>std err</th>      <th>z</th>      <th>P>|z|</th>  <th>[0.025</th>    <th>0.975]</th>  \n",
       "</tr>\n",
       "<tr>\n",
       "  <th>Intercept</th> <td>   -4.7286</td> <td>    1.017</td> <td>   -4.649</td> <td> 0.000</td> <td>   -6.722</td> <td>   -2.735</td>\n",
       "</tr>\n",
       "<tr>\n",
       "  <th>age</th>       <td>    0.0158</td> <td>    0.014</td> <td>    1.162</td> <td> 0.245</td> <td>   -0.011</td> <td>    0.042</td>\n",
       "</tr>\n",
       "<tr>\n",
       "  <th>educ</th>      <td>    0.1613</td> <td>    0.065</td> <td>    2.477</td> <td> 0.013</td> <td>    0.034</td> <td>    0.289</td>\n",
       "</tr>\n",
       "<tr>\n",
       "  <th>black</th>     <td>    3.0654</td> <td>    0.287</td> <td>   10.698</td> <td> 0.000</td> <td>    2.504</td> <td>    3.627</td>\n",
       "</tr>\n",
       "<tr>\n",
       "  <th>hispan</th>    <td>    0.9836</td> <td>    0.426</td> <td>    2.311</td> <td> 0.021</td> <td>    0.149</td> <td>    1.818</td>\n",
       "</tr>\n",
       "<tr>\n",
       "  <th>married</th>   <td>   -0.8321</td> <td>    0.290</td> <td>   -2.866</td> <td> 0.004</td> <td>   -1.401</td> <td>   -0.263</td>\n",
       "</tr>\n",
       "<tr>\n",
       "  <th>nodegree</th>  <td>    0.7073</td> <td>    0.338</td> <td>    2.095</td> <td> 0.036</td> <td>    0.045</td> <td>    1.369</td>\n",
       "</tr>\n",
       "<tr>\n",
       "  <th>re74</th>      <td>-7.178e-05</td> <td> 2.87e-05</td> <td>   -2.497</td> <td> 0.013</td> <td>   -0.000</td> <td>-1.54e-05</td>\n",
       "</tr>\n",
       "<tr>\n",
       "  <th>re75</th>      <td> 5.345e-05</td> <td> 4.63e-05</td> <td>    1.153</td> <td> 0.249</td> <td>-3.74e-05</td> <td>    0.000</td>\n",
       "</tr>\n",
       "</table>"
      ],
      "text/plain": [
       "<class 'statsmodels.iolib.summary.Summary'>\n",
       "\"\"\"\n",
       "                 Generalized Linear Model Regression Results                  \n",
       "==============================================================================\n",
       "Dep. Variable:                  treat   No. Observations:                  614\n",
       "Model:                            GLM   Df Residuals:                      605\n",
       "Model Family:                Binomial   Df Model:                            8\n",
       "Link Function:                  logit   Scale:                          1.0000\n",
       "Method:                          IRLS   Log-Likelihood:                -243.92\n",
       "Date:                Fri, 29 Jan 2021   Deviance:                       487.84\n",
       "Time:                        16:17:12   Pearson chi2:                     556.\n",
       "No. Iterations:                     6                                         \n",
       "Covariance Type:            nonrobust                                         \n",
       "==============================================================================\n",
       "                 coef    std err          z      P>|z|      [0.025      0.975]\n",
       "------------------------------------------------------------------------------\n",
       "Intercept     -4.7286      1.017     -4.649      0.000      -6.722      -2.735\n",
       "age            0.0158      0.014      1.162      0.245      -0.011       0.042\n",
       "educ           0.1613      0.065      2.477      0.013       0.034       0.289\n",
       "black          3.0654      0.287     10.698      0.000       2.504       3.627\n",
       "hispan         0.9836      0.426      2.311      0.021       0.149       1.818\n",
       "married       -0.8321      0.290     -2.866      0.004      -1.401      -0.263\n",
       "nodegree       0.7073      0.338      2.095      0.036       0.045       1.369\n",
       "re74       -7.178e-05   2.87e-05     -2.497      0.013      -0.000   -1.54e-05\n",
       "re75        5.345e-05   4.63e-05      1.153      0.249   -3.74e-05       0.000\n",
       "==============================================================================\n",
       "\"\"\""
      ]
     },
     "execution_count": 35,
     "metadata": {},
     "output_type": "execute_result"
    }
   ],
   "source": [
    "formula = 'treat ~ age + educ + black + hispan + married + nodegree + re74 + re75'\n",
    "glm_model = smf.glm(formula=formula, data=lalonde, family=sm.families.Binomial()).fit()\n",
    "glm_model.summary()"
   ]
  },
  {
   "cell_type": "code",
   "execution_count": 36,
   "metadata": {},
   "outputs": [],
   "source": [
    "pscore = glm_model.predict()\n",
    "# create seperate structure for data and target \n",
    "treatment = lalonde['treat']\n",
    "rev78 = lalonde['re78']\n",
    "cleaned_df = lalonde.drop(['treat', 're78'], axis=1)\n",
    "mask = lalonde['treat'] == 1\n",
    "lalonde_treat = lalonde[mask]\n",
    "lalonde_notreat = lalonde[~mask]\n",
    "# drop labeling (e.g NSW3) from the targets data\n",
    "targets = treatment.reset_index().drop('index', axis=1);\n",
    "X = cleaned_df.reset_index().drop('index', axis=1);"
   ]
  },
  {
   "cell_type": "code",
   "execution_count": 37,
   "metadata": {},
   "outputs": [
    {
     "name": "stdout",
     "output_type": "stream",
     "text": [
      "treatment count: (185,)\n",
      "control count: (429,)\n"
     ]
    }
   ],
   "source": [
    "# we seperate the pscore based on it's \n",
    "# corresponding true label value\n",
    "mask = targets.squeeze() == 1\n",
    "pos_pscore = pscore[mask]\n",
    "neg_pscore = pscore[~mask]\n",
    "\n",
    "print('treatment count:', pos_pscore.shape)\n",
    "print('control count:', neg_pscore.shape)"
   ]
  },
  {
   "cell_type": "code",
   "execution_count": 38,
   "metadata": {},
   "outputs": [
    {
     "data": {
      "image/png": "[encoded data removed]",
      "text/plain": [
       "<Figure size 720x432 with 1 Axes>"
      ]
     },
     "metadata": {
      "needs_background": "light"
     },
     "output_type": "display_data"
    }
   ],
   "source": [
    "boxplot_df = pd.DataFrame({'pscore': pscore, 'treat': targets.squeeze()})\n",
    "\n",
    "# plot boxplot\n",
    "plt.figure(figsize=(10, 6))\n",
    "sns.boxplot(x='treat', y='pscore', data=boxplot_df);\n",
    "plt.ylabel('Propensity Score');\n",
    "plt.xlabel('Treament');"
   ]
  },
  {
   "cell_type": "markdown",
   "metadata": {},
   "source": [
    "Looking at the plot below, we can see that our features,  X , does in fact contain information about the user receiving treatment. The distributional difference between the propensity scores for the two group justifies the need for matching, since they are not directly comparable otherwise.\n",
    "\n",
    "Although, there's a distributional difference in the density plot, but in this case, what we see is that there's overlap everywhere, so this is actually the kind of plot we would like to see if we're going to do propensity score matching. \n",
    "\n",
    "<b> What we mean by overlap is that no matter where we look on the plot, even though there might be more control than treatment or vice versa, there will still be some subject from either group. </b>\n",
    "\n",
    "The notion of overlap means that our positivity assumption is probably reasonable. Remember positivity refers to the situation where all of the subjects in the study have at least some chance of receiving either treatment. And that appears to be the case here, hence this would be a situation where we would feel comfortable to proceed with our propensity score matching."
   ]
  },
  {
   "cell_type": "code",
   "execution_count": 39,
   "metadata": {},
   "outputs": [
    {
     "data": {
      "image/png": "[encoded data removed]",
      "text/plain": [
       "<Figure size 576x432 with 1 Axes>"
      ]
     },
     "metadata": {
      "needs_background": "light"
     },
     "output_type": "display_data"
    }
   ],
   "source": [
    "# change default style figure and font size\n",
    "plt.rcParams['figure.figsize'] = 8, 6\n",
    "plt.rcParams['font.size'] = 12\n",
    "\n",
    "sns.distplot(neg_pscore, label='control')\n",
    "sns.distplot(pos_pscore, label='treatment')\n",
    "plt.xlim(0, 1)\n",
    "plt.title('Propensity Score Distribution of Control vs Treatment')\n",
    "plt.ylabel('Density')\n",
    "plt.xlabel('Scores')\n",
    "plt.legend()\n",
    "plt.tight_layout()\n",
    "plt.show()"
   ]
  },
  {
   "cell_type": "code",
   "execution_count": 40,
   "metadata": {},
   "outputs": [],
   "source": [
    "# Define params and inputs\n",
    "mask = lalonde['treat'] == 1\n",
    "covariates = ['age', 'educ', 'black', 'hispan', 'married', 'nodegree', 're74', 're75']\n",
    "agg_operations = {'treat': 'count'}\n",
    "agg_operations.update({\n",
    "    feature: ['mean', 'std'] for feature in covariates\n",
    "})"
   ]
  },
  {
   "cell_type": "code",
   "execution_count": 41,
   "metadata": {},
   "outputs": [],
   "source": [
    "from sklearn.neighbors import NearestNeighbors\n",
    "\n",
    "# Helper function that uses K-NN algorithm to calculate \n",
    "# similarity distance and get the similarity indices for matching\n",
    "def get_similar(pos_pscore, neg_pscore, topn=5, n_jobs=1):\n",
    "    knn = NearestNeighbors(n_neighbors=topn + 1, metric='euclidean', n_jobs=n_jobs)\n",
    "    knn.fit(neg_pscore.reshape(-1, 1))\n",
    "    \n",
    "    distances, indices = knn.kneighbors(pos_pscore.reshape(-1, 1))\n",
    "    sim_distances = distances[:, 1:]\n",
    "    sim_indices = indices[:, 1:]\n",
    "\n",
    "    return sim_distances, sim_indices"
   ]
  },
  {
   "cell_type": "code",
   "execution_count": 42,
   "metadata": {},
   "outputs": [],
   "source": [
    "sim_distances, sim_indices = get_similar(pos_pscore, neg_pscore, topn=1)"
   ]
  },
  {
   "cell_type": "code",
   "execution_count": 43,
   "metadata": {},
   "outputs": [
    {
     "name": "stdout",
     "output_type": "stream",
     "text": [
      "Number of matched pairs:  185\n"
     ]
    },
    {
     "data": {
      "text/html": [
       "<div>\n",
       "<style scoped>\n",
       "    .dataframe tbody tr th:only-of-type {\n",
       "        vertical-align: middle;\n",
       "    }\n",
       "\n",
       "    .dataframe tbody tr th {\n",
       "        vertical-align: top;\n",
       "    }\n",
       "\n",
       "    .dataframe thead th {\n",
       "        text-align: right;\n",
       "    }\n",
       "</style>\n",
       "<table border=\"1\" class=\"dataframe\">\n",
       "  <thead>\n",
       "    <tr style=\"text-align: right;\">\n",
       "      <th></th>\n",
       "      <th>treat_x</th>\n",
       "      <th>age_x</th>\n",
       "      <th>educ_x</th>\n",
       "      <th>black_x</th>\n",
       "      <th>hispan_x</th>\n",
       "      <th>married_x</th>\n",
       "      <th>nodegree_x</th>\n",
       "      <th>re74_x</th>\n",
       "      <th>re75_x</th>\n",
       "      <th>re78_x</th>\n",
       "      <th>treat_y</th>\n",
       "      <th>age_y</th>\n",
       "      <th>educ_y</th>\n",
       "      <th>black_y</th>\n",
       "      <th>hispan_y</th>\n",
       "      <th>married_y</th>\n",
       "      <th>nodegree_y</th>\n",
       "      <th>re74_y</th>\n",
       "      <th>re75_y</th>\n",
       "      <th>re78_y</th>\n",
       "    </tr>\n",
       "  </thead>\n",
       "  <tbody>\n",
       "    <tr>\n",
       "      <th>0</th>\n",
       "      <td>1</td>\n",
       "      <td>37</td>\n",
       "      <td>11</td>\n",
       "      <td>1</td>\n",
       "      <td>0</td>\n",
       "      <td>1</td>\n",
       "      <td>1</td>\n",
       "      <td>0.00</td>\n",
       "      <td>0.00</td>\n",
       "      <td>9930.0460</td>\n",
       "      <td>0</td>\n",
       "      <td>55</td>\n",
       "      <td>4</td>\n",
       "      <td>1</td>\n",
       "      <td>0</td>\n",
       "      <td>0</td>\n",
       "      <td>1</td>\n",
       "      <td>0.0000</td>\n",
       "      <td>0.0000</td>\n",
       "      <td>0.00000</td>\n",
       "    </tr>\n",
       "    <tr>\n",
       "      <th>1</th>\n",
       "      <td>1</td>\n",
       "      <td>22</td>\n",
       "      <td>9</td>\n",
       "      <td>0</td>\n",
       "      <td>1</td>\n",
       "      <td>0</td>\n",
       "      <td>1</td>\n",
       "      <td>0.00</td>\n",
       "      <td>0.00</td>\n",
       "      <td>3595.8940</td>\n",
       "      <td>0</td>\n",
       "      <td>26</td>\n",
       "      <td>8</td>\n",
       "      <td>0</td>\n",
       "      <td>1</td>\n",
       "      <td>0</td>\n",
       "      <td>1</td>\n",
       "      <td>3168.1340</td>\n",
       "      <td>5872.2580</td>\n",
       "      <td>11136.15000</td>\n",
       "    </tr>\n",
       "    <tr>\n",
       "      <th>2</th>\n",
       "      <td>1</td>\n",
       "      <td>30</td>\n",
       "      <td>12</td>\n",
       "      <td>1</td>\n",
       "      <td>0</td>\n",
       "      <td>0</td>\n",
       "      <td>0</td>\n",
       "      <td>0.00</td>\n",
       "      <td>0.00</td>\n",
       "      <td>24909.4500</td>\n",
       "      <td>0</td>\n",
       "      <td>26</td>\n",
       "      <td>12</td>\n",
       "      <td>1</td>\n",
       "      <td>0</td>\n",
       "      <td>0</td>\n",
       "      <td>0</td>\n",
       "      <td>0.0000</td>\n",
       "      <td>1448.3710</td>\n",
       "      <td>0.00000</td>\n",
       "    </tr>\n",
       "    <tr>\n",
       "      <th>3</th>\n",
       "      <td>1</td>\n",
       "      <td>27</td>\n",
       "      <td>11</td>\n",
       "      <td>1</td>\n",
       "      <td>0</td>\n",
       "      <td>0</td>\n",
       "      <td>1</td>\n",
       "      <td>0.00</td>\n",
       "      <td>0.00</td>\n",
       "      <td>7506.1460</td>\n",
       "      <td>0</td>\n",
       "      <td>18</td>\n",
       "      <td>11</td>\n",
       "      <td>1</td>\n",
       "      <td>0</td>\n",
       "      <td>0</td>\n",
       "      <td>1</td>\n",
       "      <td>0.0000</td>\n",
       "      <td>1367.8060</td>\n",
       "      <td>33.98771</td>\n",
       "    </tr>\n",
       "    <tr>\n",
       "      <th>4</th>\n",
       "      <td>1</td>\n",
       "      <td>33</td>\n",
       "      <td>8</td>\n",
       "      <td>1</td>\n",
       "      <td>0</td>\n",
       "      <td>0</td>\n",
       "      <td>1</td>\n",
       "      <td>0.00</td>\n",
       "      <td>0.00</td>\n",
       "      <td>289.7899</td>\n",
       "      <td>0</td>\n",
       "      <td>19</td>\n",
       "      <td>11</td>\n",
       "      <td>1</td>\n",
       "      <td>0</td>\n",
       "      <td>0</td>\n",
       "      <td>1</td>\n",
       "      <td>5607.4220</td>\n",
       "      <td>3054.2900</td>\n",
       "      <td>94.57450</td>\n",
       "    </tr>\n",
       "    <tr>\n",
       "      <th>...</th>\n",
       "      <td>...</td>\n",
       "      <td>...</td>\n",
       "      <td>...</td>\n",
       "      <td>...</td>\n",
       "      <td>...</td>\n",
       "      <td>...</td>\n",
       "      <td>...</td>\n",
       "      <td>...</td>\n",
       "      <td>...</td>\n",
       "      <td>...</td>\n",
       "      <td>...</td>\n",
       "      <td>...</td>\n",
       "      <td>...</td>\n",
       "      <td>...</td>\n",
       "      <td>...</td>\n",
       "      <td>...</td>\n",
       "      <td>...</td>\n",
       "      <td>...</td>\n",
       "      <td>...</td>\n",
       "      <td>...</td>\n",
       "    </tr>\n",
       "    <tr>\n",
       "      <th>180</th>\n",
       "      <td>1</td>\n",
       "      <td>33</td>\n",
       "      <td>12</td>\n",
       "      <td>1</td>\n",
       "      <td>0</td>\n",
       "      <td>1</td>\n",
       "      <td>0</td>\n",
       "      <td>20279.95</td>\n",
       "      <td>10941.35</td>\n",
       "      <td>15952.6000</td>\n",
       "      <td>0</td>\n",
       "      <td>17</td>\n",
       "      <td>11</td>\n",
       "      <td>0</td>\n",
       "      <td>1</td>\n",
       "      <td>0</td>\n",
       "      <td>1</td>\n",
       "      <td>0.0000</td>\n",
       "      <td>873.6774</td>\n",
       "      <td>7759.54200</td>\n",
       "    </tr>\n",
       "    <tr>\n",
       "      <th>181</th>\n",
       "      <td>1</td>\n",
       "      <td>25</td>\n",
       "      <td>14</td>\n",
       "      <td>1</td>\n",
       "      <td>0</td>\n",
       "      <td>1</td>\n",
       "      <td>0</td>\n",
       "      <td>35040.07</td>\n",
       "      <td>11536.57</td>\n",
       "      <td>36646.9500</td>\n",
       "      <td>0</td>\n",
       "      <td>32</td>\n",
       "      <td>15</td>\n",
       "      <td>0</td>\n",
       "      <td>0</td>\n",
       "      <td>0</td>\n",
       "      <td>0</td>\n",
       "      <td>489.8167</td>\n",
       "      <td>968.5645</td>\n",
       "      <td>7684.17800</td>\n",
       "    </tr>\n",
       "    <tr>\n",
       "      <th>182</th>\n",
       "      <td>1</td>\n",
       "      <td>35</td>\n",
       "      <td>9</td>\n",
       "      <td>1</td>\n",
       "      <td>0</td>\n",
       "      <td>1</td>\n",
       "      <td>1</td>\n",
       "      <td>13602.43</td>\n",
       "      <td>13830.64</td>\n",
       "      <td>12803.9700</td>\n",
       "      <td>0</td>\n",
       "      <td>52</td>\n",
       "      <td>8</td>\n",
       "      <td>1</td>\n",
       "      <td>0</td>\n",
       "      <td>1</td>\n",
       "      <td>1</td>\n",
       "      <td>5454.5990</td>\n",
       "      <td>666.0000</td>\n",
       "      <td>0.00000</td>\n",
       "    </tr>\n",
       "    <tr>\n",
       "      <th>183</th>\n",
       "      <td>1</td>\n",
       "      <td>35</td>\n",
       "      <td>8</td>\n",
       "      <td>1</td>\n",
       "      <td>0</td>\n",
       "      <td>1</td>\n",
       "      <td>1</td>\n",
       "      <td>13732.07</td>\n",
       "      <td>17976.15</td>\n",
       "      <td>3786.6280</td>\n",
       "      <td>0</td>\n",
       "      <td>47</td>\n",
       "      <td>10</td>\n",
       "      <td>1</td>\n",
       "      <td>0</td>\n",
       "      <td>0</td>\n",
       "      <td>1</td>\n",
       "      <td>21918.3200</td>\n",
       "      <td>4323.6290</td>\n",
       "      <td>19438.02000</td>\n",
       "    </tr>\n",
       "    <tr>\n",
       "      <th>184</th>\n",
       "      <td>1</td>\n",
       "      <td>33</td>\n",
       "      <td>11</td>\n",
       "      <td>1</td>\n",
       "      <td>0</td>\n",
       "      <td>1</td>\n",
       "      <td>1</td>\n",
       "      <td>14660.71</td>\n",
       "      <td>25142.24</td>\n",
       "      <td>4181.9420</td>\n",
       "      <td>0</td>\n",
       "      <td>18</td>\n",
       "      <td>9</td>\n",
       "      <td>1</td>\n",
       "      <td>0</td>\n",
       "      <td>0</td>\n",
       "      <td>1</td>\n",
       "      <td>1183.3970</td>\n",
       "      <td>1822.5480</td>\n",
       "      <td>803.88330</td>\n",
       "    </tr>\n",
       "  </tbody>\n",
       "</table>\n",
       "<p>185 rows × 20 columns</p>\n",
       "</div>"
      ],
      "text/plain": [
       "     treat_x  age_x  educ_x  black_x  hispan_x  married_x  nodegree_x  \\\n",
       "0          1     37      11        1         0          1           1   \n",
       "1          1     22       9        0         1          0           1   \n",
       "2          1     30      12        1         0          0           0   \n",
       "3          1     27      11        1         0          0           1   \n",
       "4          1     33       8        1         0          0           1   \n",
       "..       ...    ...     ...      ...       ...        ...         ...   \n",
       "180        1     33      12        1         0          1           0   \n",
       "181        1     25      14        1         0          1           0   \n",
       "182        1     35       9        1         0          1           1   \n",
       "183        1     35       8        1         0          1           1   \n",
       "184        1     33      11        1         0          1           1   \n",
       "\n",
       "       re74_x    re75_x      re78_x  treat_y  age_y  educ_y  black_y  \\\n",
       "0        0.00      0.00   9930.0460        0     55       4        1   \n",
       "1        0.00      0.00   3595.8940        0     26       8        0   \n",
       "2        0.00      0.00  24909.4500        0     26      12        1   \n",
       "3        0.00      0.00   7506.1460        0     18      11        1   \n",
       "4        0.00      0.00    289.7899        0     19      11        1   \n",
       "..        ...       ...         ...      ...    ...     ...      ...   \n",
       "180  20279.95  10941.35  15952.6000        0     17      11        0   \n",
       "181  35040.07  11536.57  36646.9500        0     32      15        0   \n",
       "182  13602.43  13830.64  12803.9700        0     52       8        1   \n",
       "183  13732.07  17976.15   3786.6280        0     47      10        1   \n",
       "184  14660.71  25142.24   4181.9420        0     18       9        1   \n",
       "\n",
       "     hispan_y  married_y  nodegree_y      re74_y     re75_y       re78_y  \n",
       "0           0          0           1      0.0000     0.0000      0.00000  \n",
       "1           1          0           1   3168.1340  5872.2580  11136.15000  \n",
       "2           0          0           0      0.0000  1448.3710      0.00000  \n",
       "3           0          0           1      0.0000  1367.8060     33.98771  \n",
       "4           0          0           1   5607.4220  3054.2900     94.57450  \n",
       "..        ...        ...         ...         ...        ...          ...  \n",
       "180         1          0           1      0.0000   873.6774   7759.54200  \n",
       "181         0          0           0    489.8167   968.5645   7684.17800  \n",
       "182         0          1           1   5454.5990   666.0000      0.00000  \n",
       "183         0          0           1  21918.3200  4323.6290  19438.02000  \n",
       "184         0          0           1   1183.3970  1822.5480    803.88330  \n",
       "\n",
       "[185 rows x 20 columns]"
      ]
     },
     "execution_count": 43,
     "metadata": {},
     "output_type": "execute_result"
    }
   ],
   "source": [
    "# Display matching table\n",
    "df_pos = lalonde[mask]\n",
    "df_neg = lalonde[~mask].iloc[sim_indices[:, 0]]\n",
    "df_matched = (df_pos.reset_index(drop=True)\n",
    "              .merge(df_neg.reset_index(drop=True), \n",
    "                     left_index=True, \n",
    "                     right_index=True))\n",
    "\n",
    "num_matched_pairs = df_neg.shape[0]\n",
    "\n",
    "print('Number of matched pairs: ', num_matched_pairs)\n",
    "df_matched"
   ]
  },
  {
   "cell_type": "markdown",
   "metadata": {},
   "source": [
    "Assess covariate balance after matching.  For this, compute the absolute standardized differences in means in the covariates after matching (Rosenbaum and Rubin, 1985), $$ASMD_a(x)=\\frac{\\bar{x}_{t,a}-{\\bar{x}_{c,a}}}{\\sqrt{\\frac{s^{2}_{t,b} + s^{2}_{c,b}}{2}}},$$\n",
    "where $\\bar{x}_{t,a}$ and $\\bar{x}_{c,a}$ are, respectively, the means of covariate $x$ in the treatment and control groups after matching, and $s^{2}_{t,b}$ and $s^{2}_{c,b}$ are, correspongdingly, the sample variances treatment and control groups before matching. \n",
    "(One reason to use the sample variances before matching rather than the sample variances after matching is to free the comparisons of the means after matching from simultaneous changes in the variances.)\n",
    "Comment on covariate balance."
   ]
  },
  {
   "cell_type": "code",
   "execution_count": 44,
   "metadata": {},
   "outputs": [
    {
     "data": {
      "text/html": [
       "<div>\n",
       "<style scoped>\n",
       "    .dataframe tbody tr th:only-of-type {\n",
       "        vertical-align: middle;\n",
       "    }\n",
       "\n",
       "    .dataframe tbody tr th {\n",
       "        vertical-align: top;\n",
       "    }\n",
       "\n",
       "    .dataframe thead th {\n",
       "        text-align: right;\n",
       "    }\n",
       "</style>\n",
       "<table border=\"1\" class=\"dataframe\">\n",
       "  <thead>\n",
       "    <tr style=\"text-align: right;\">\n",
       "      <th></th>\n",
       "      <th>covariates</th>\n",
       "      <th>smd</th>\n",
       "    </tr>\n",
       "  </thead>\n",
       "  <tbody>\n",
       "    <tr>\n",
       "      <th>0</th>\n",
       "      <td>age</td>\n",
       "      <td>0.0234</td>\n",
       "    </tr>\n",
       "    <tr>\n",
       "      <th>1</th>\n",
       "      <td>educ</td>\n",
       "      <td>0.0965</td>\n",
       "    </tr>\n",
       "    <tr>\n",
       "      <th>2</th>\n",
       "      <td>black</td>\n",
       "      <td>0.0147</td>\n",
       "    </tr>\n",
       "    <tr>\n",
       "      <th>3</th>\n",
       "      <td>hispan</td>\n",
       "      <td>0.0438</td>\n",
       "    </tr>\n",
       "    <tr>\n",
       "      <th>4</th>\n",
       "      <td>married</td>\n",
       "      <td>0.1157</td>\n",
       "    </tr>\n",
       "    <tr>\n",
       "      <th>5</th>\n",
       "      <td>nodegree</td>\n",
       "      <td>0.1098</td>\n",
       "    </tr>\n",
       "    <tr>\n",
       "      <th>6</th>\n",
       "      <td>re74</td>\n",
       "      <td>0.0700</td>\n",
       "    </tr>\n",
       "    <tr>\n",
       "      <th>7</th>\n",
       "      <td>re75</td>\n",
       "      <td>0.0576</td>\n",
       "    </tr>\n",
       "  </tbody>\n",
       "</table>\n",
       "</div>"
      ],
      "text/plain": [
       "  covariates     smd\n",
       "0        age  0.0234\n",
       "1       educ  0.0965\n",
       "2      black  0.0147\n",
       "3     hispan  0.0438\n",
       "4    married  0.1157\n",
       "5   nodegree  0.1098\n",
       "6       re74  0.0700\n",
       "7       re75  0.0576"
      ]
     },
     "execution_count": 44,
     "metadata": {},
     "output_type": "execute_result"
    }
   ],
   "source": [
    "# Create matching table\n",
    "df_pos = lalonde[mask]\n",
    "df_neg = lalonde[~mask].iloc[sim_indices[:, 0]]\n",
    "df_matched = pd.concat([df_pos, df_neg], axis=0) # this time we join by axis-0\n",
    "\n",
    "# Calculate Rosenbaum ASMD\n",
    "table_one_matched = df_matched.groupby('treat').agg(agg_operations)\n",
    "table_one_smd_matched = compute_table_one_smd(table_one_matched, covariates)\n",
    "\n",
    "table_one_smd_matched"
   ]
  },
  {
   "cell_type": "code",
   "execution_count": 45,
   "metadata": {},
   "outputs": [
    {
     "name": "stdout",
     "output_type": "stream",
     "text": [
      "The statistic of t-test: 1.8691170316786174\n",
      "The p-value of t-test: 0.0631955759711721\n"
     ]
    },
    {
     "data": {
      "text/plain": [
       "1411.4997588108117"
      ]
     },
     "execution_count": 45,
     "metadata": {},
     "output_type": "execute_result"
    }
   ],
   "source": [
    "# pair t-test\n",
    "ttest = scipy.stats.ttest_rel(df_pos['re78'].values, df_neg['re78'].values)\n",
    "\n",
    "print(\"The statistic of t-test:\", ttest.statistic)\n",
    "print(\"The p-value of t-test:\", ttest.pvalue)\n",
    "df_pos['re78'].mean() - df_neg['re78'].mean()"
   ]
  },
  {
   "cell_type": "code",
   "execution_count": null,
   "metadata": {},
   "outputs": [],
   "source": []
  },
  {
   "cell_type": "code",
   "execution_count": null,
   "metadata": {},
   "outputs": [],
   "source": []
  }
 ],
 "metadata": {
  "kernelspec": {
   "display_name": "Python 3",
   "language": "python",
   "name": "python3"
  },
  "language_info": {
   "codemirror_mode": {
    "name": "ipython",
    "version": 3
   },
   "file_extension": ".py",
   "mimetype": "text/x-python",
   "name": "python",
   "nbconvert_exporter": "python",
   "pygments_lexer": "ipython3",
   "version": "3.9.0"
  }
 },
 "nbformat": 4,
 "nbformat_minor": 2
}
