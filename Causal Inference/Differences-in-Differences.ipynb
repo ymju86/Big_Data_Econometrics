{
 "cells": [
  {
   "cell_type": "code",
   "execution_count": 178,
   "metadata": {},
   "outputs": [],
   "source": [
    "import pandas as pd\n",
    "import numpy as np\n",
    "import random\n",
    "import statsmodels.api as sm\n",
    "from sklearn.model_selection import cross_val_score\n",
    "from sklearn.model_selection import RepeatedKFold\n",
    "from sklearn.linear_model import Lasso\n",
    "from sklearn.feature_selection import SelectFromModel\n",
    "import matplotlib.pyplot as plt\n",
    "from tqdm import tqdm\n",
    "import statsmodels.api as sm\n",
    "import itertools\n",
    "\n",
    "import copy\n",
    "random.seed(10)"
   ]
  },
  {
   "cell_type": "code",
   "execution_count": 179,
   "metadata": {},
   "outputs": [],
   "source": [
    "img_dir = '/Users/ida/Google Drive/Big Data Econometrics/Slides/images/'"
   ]
  },
  {
   "cell_type": "code",
   "execution_count": 180,
   "metadata": {},
   "outputs": [],
   "source": [
    "def fn_generate_cov(dim,corr):\n",
    "    acc  = []\n",
    "    for i in range(dim):\n",
    "        row = np.ones((1,dim)) * corr\n",
    "        row[0][i] = 1\n",
    "        acc.append(row)\n",
    "    return np.concatenate(acc,axis=0)\n",
    "\n",
    "def fn_generate_multnorm(nobs,corr,nvar):\n",
    "\n",
    "    mu = np.zeros(nvar)\n",
    "    std = (np.abs(np.random.normal(loc = 1, scale = .5,size = (nvar,1))))**(1/2)\n",
    "    # generate random normal distribution\n",
    "    acc = []\n",
    "    for i in range(nvar):\n",
    "        acc.append(np.reshape(np.random.normal(mu[i],std[i],nobs),(nobs,-1)))\n",
    "    \n",
    "    normvars = np.concatenate(acc,axis=1)\n",
    "\n",
    "    cov = fn_generate_cov(nvar,corr)\n",
    "    C = np.linalg.cholesky(cov)\n",
    "\n",
    "    Y = np.transpose(np.dot(C,np.transpose(normvars)))\n",
    "\n",
    "#     return (Y,np.round(np.corrcoef(Y,rowvar=False),2))\n",
    "    return Y\n",
    "\n",
    "def fn_randomize_treatment(N,p=0.5):\n",
    "    treated = random.sample(range(N), round(N*p))\n",
    "    return np.array([(1 if i in treated else 0) for i in range(N)]).reshape([N,1])\n",
    "\n",
    "def fn_bias_rmse_size(theta0,thetahat,se_thetahat,cval = 1.96):\n",
    "    b = thetahat - theta0\n",
    "    bias = np.mean(b)\n",
    "    rmse = np.sqrt(np.mean(b**2))\n",
    "    tval = b/se_thetahat\n",
    "    size = np.mean(1*(np.abs(tval)>cval))\n",
    "    # note size calculated at true parameter value\n",
    "    return (bias,rmse,size)\n",
    "\n",
    "\n",
    "def fn_plot_with_ci(n_values,tauhats,tau,lb,ub,caption):\n",
    "    fig = plt.figure(figsize = (10,6))\n",
    "    plt.plot(n_values,tauhats,label = '$\\hat{\\\\tau}$')\n",
    "    plt.xlabel('N')\n",
    "    plt.ylabel('$\\hat{\\\\tau}$')\n",
    "    plt.axhline(y=tau, color='r', linestyle='-',linewidth=1,\n",
    "                label='True $\\\\tau$={}'.format(tau))\n",
    "    plt.title('{}'.format(caption))\n",
    "    plt.fill_between(n_values, lb, ub,\n",
    "        alpha=0.5, edgecolor='#FF9848', facecolor='#FF9848',label = '95% CI')\n",
    "    plt.legend()\n",
    "    \n",
    "def fn_group_to_ind(vecG,n_g):\n",
    "    \"\"\"\n",
    "    Transform group effects vector of length G into an n-length individual effects vector \n",
    "    \"\"\"\n",
    "#     g = len(vecG)\n",
    "#     return np.concatenate([np.concatenate([vecG[g] for i in range(n_g)]) for g in range(G)]).\\\n",
    "#     reshape([n,1])\n",
    "    return np.array(list(itertools.chain.from_iterable(itertools.repeat(x,n_g) for x in vecG)))\n",
    "\n",
    "def fn_ind_to_panel(vec,T):\n",
    "    \"\"\"\n",
    "    Transform (n x 1) vector of individual specific effect to an (n x T) matrix\n",
    "    \"\"\"\n",
    "    return np.concatenate([vec for i in range(T)],axis =1)\n",
    "\n",
    "def fn_mat_wide_to_long(mat,n,T):\n",
    "    \"\"\"\n",
    "    Take (n x T) matrix and output nxT vector with observations for each t stacked on top\n",
    "    \"\"\"\n",
    "    return np.concatenate([mat[:,i] for i in range(T)]).reshape([n*T,1])\n",
    "\n",
    "def fn_create_wide_to_long_df(data,colnames,n,G,T):\n",
    "    \"\"\"\n",
    "    Take list of matrices in wide format and output a dataframe in long format\n",
    "    \"\"\"\n",
    "    n_g = n/G # number of observations in each group\n",
    "    if n_g.is_integer()==False:\n",
    "        print('Error: n_g is not an integer')\n",
    "    else:\n",
    "        n_g = int(n_g)\n",
    "    group = np.concatenate([fn_group_to_ind(np.array(range(G)).reshape([G,1]),n_g) for i in range(T)])\n",
    "    if len(data)!=len(colnames):\n",
    "        print('Error: number of column names not equal to number of variables')\n",
    "    dataDict = {}\n",
    "    for i in range(len(colnames)):\n",
    "        dataDict[colnames[i]] = fn_mat_wide_to_long(data[i],n,T)[:,0]\n",
    "\n",
    "    dataDict['group'] = group[:,0]+1\n",
    "    dataDict['n'] = 1+np.concatenate([range(n) for i in range(T)])\n",
    "    dataDict['t'] = 1+np.array(list(itertools.chain.from_iterable(itertools.repeat(i,n) for i in range(T))))\n",
    "    return pd.DataFrame(dataDict)\n",
    "\n",
    "# def fn_generate_grouped_panel(n,G,T,n_treated,treat_start,beta,delta,linear_trend = False):\n",
    "#     n_g = n/G # number of observations in each group\n",
    "#     if n_g.is_integer()==False:\n",
    "#         print('Error: n_g is not an integer')\n",
    "#     else:\n",
    "#         n_g = int(n_g)\n",
    "\n",
    "#     alphaG = np.random.normal(1,1,[G,1]) # (G x 1) group fixed effects\n",
    "#     alpha_i = fn_group_to_ind(alphaG,n_g) # (n x 1)\n",
    "#     treatG = np.zeros([G,1])\n",
    "#     treatG[:n_treated,] = 1\n",
    "#     treat_i = fn_group_to_ind(treatG,n_g) # (n x 1)\n",
    "#     # convert to (n X T)\n",
    "#     if linear_trend==True:\n",
    "#         gamma = np.vstack([np.array(range(T)) for i in range(n)])\n",
    "#     else:\n",
    "#         gamma = np.ones([n,1])*np.random.normal(0,1,[1,T]) # (n x T) # time specific effects   \n",
    "#     alpha = fn_ind_to_panel(alpha_i,T)\n",
    "#     treat = fn_ind_to_panel(treat_i,T)\n",
    "#     treat = np.concatenate([0*treat[:,:treat_start],treat[:,treat_start:]],axis = 1)\n",
    "    \n",
    "#     sig = (np.random.chisquare(2,[n,1])/4+0.5)**(1/2)\n",
    "#     eps = sig*((np.random.chisquare(2,[n,T])-2)*0.5) # (n x T)\n",
    "#     X = np.concatenate([fn_generate_multnorm(n,.5,1) for i in range(T)],axis =1) # (n x T)\n",
    "#     Y = alpha + gamma + beta*treat + delta*X+eps\n",
    "    \n",
    "#     return [Y,alpha,gamma,treat,X]\n",
    "\n",
    "def fn_plot_dd(dfg,treat_start,fig_name=False):\n",
    "    \"\"\"\n",
    "    Plot average outcome Y by group\n",
    "    \"\"\"\n",
    "    \n",
    "    Yg = dfg[['Y','I','group','t']].groupby(['group','t']).mean().reset_index()\n",
    "    treatStatus = dict(zip(Yg[Yg.t==Yg.t.max()]['group'],Yg[Yg.t==Yg.t.max()]['I']))\n",
    "    fig = plt.figure(figsize = (10,6))\n",
    "    for g in Yg.group.unique():\n",
    "        plt.plot(Yg[Yg.group==g]['t'],Yg[Yg.group==g]['Y'],label = 'treatment={}'.format(int(treatStatus[g])))\n",
    "    plt.axvline(x=treat_start+1,color = 'red')\n",
    "    plt.xlabel('time period')\n",
    "    plt.ylabel('outcome')\n",
    "    plt.legend()\n",
    "    if fig_name:\n",
    "        plt.savefig(img_dir + 'dd1.png')\n",
    "        \n",
    "def fn_within_transformation(dfg,varlist,group_var):\n",
    "    \"\"\"\n",
    "    Transform each variable in the varlist using the within transformation to eliminate\n",
    "    the group-fixed effects\n",
    "    \"\"\"\n",
    "    dfm = dfg[varlist+[group_var]].groupby([group_var]).mean().\\\n",
    "                reset_index().\\\n",
    "                rename(columns = {k:'{}_bar'.format(k) for k in varlist})\n",
    "    dfg = dfg.merge(dfm, on = ['group'],how = 'left')\n",
    "    dfg['const'] = 1\n",
    "    for v in varlist:\n",
    "        dfg['{}_w'.format(v)] = dfg[v] - dfg['{}_bar'.format(v)]\n",
    "    return dfg"
   ]
  },
  {
   "cell_type": "markdown",
   "metadata": {},
   "source": [
    "Statsmodels sandwich variance estimators\n",
    "https://github.com/statsmodels/statsmodels/blob/master/statsmodels/stats/sandwich_covariance.py"
   ]
  },
  {
   "cell_type": "markdown",
   "metadata": {},
   "source": [
    "## 1. Generate data\n",
    "\n",
    "$Y_{it} = W_{it}\\tau_{it}+\\mu_i+\\delta_t+\\varepsilon_{it}$\n",
    "\n",
    "$\\varepsilon_{it}^{\\left(  r\\right)  }/\\sigma_{i}\\sim IID\\left[\\chi^{2}(2)-2\\right]  /2$\n",
    "\n",
    "$\\sigma_{i}^{2}\\sim IID\\left[  \\chi^{2}(2)/4+0.5\\right]$ "
   ]
  },
  {
   "cell_type": "code",
   "execution_count": 181,
   "metadata": {},
   "outputs": [
    {
     "data": {
      "text/plain": [
       "[9, 0, 6, 7, 4, 10]"
      ]
     },
     "execution_count": 181,
     "metadata": {},
     "output_type": "execute_result"
    }
   ],
   "source": [
    "# def fn_randomize_treatment(N,p=0.5):\n",
    "N = 11\n",
    "p = .5\n",
    "treated = random.sample(range(N), round(N*p))\n",
    "# \n",
    "\n",
    "treated\n",
    "\n"
   ]
  },
  {
   "cell_type": "code",
   "execution_count": 182,
   "metadata": {},
   "outputs": [
    {
     "data": {
      "text/plain": [
       "[0, 1, 2, 3, 4, 5, 6, 7, 8, 9]"
      ]
     },
     "execution_count": 182,
     "metadata": {},
     "output_type": "execute_result"
    }
   ],
   "source": [
    "l1 = list(range(10))\n",
    "l1"
   ]
  },
  {
   "cell_type": "code",
   "execution_count": 183,
   "metadata": {},
   "outputs": [
    {
     "name": "stdout",
     "output_type": "stream",
     "text": [
      "1.23 µs ± 90.1 ns per loop (mean ± std. dev. of 7 runs, 1000000 loops each)\n"
     ]
    }
   ],
   "source": [
    "%%timeit\n",
    "# add 2 to every element\n",
    "l2 = []\n",
    "for el in range(len(l1)):\n",
    "    l2 = l2 + [el+2]\n",
    "l2"
   ]
  },
  {
   "cell_type": "code",
   "execution_count": 184,
   "metadata": {},
   "outputs": [
    {
     "name": "stdout",
     "output_type": "stream",
     "text": [
      "525 ns ± 5.34 ns per loop (mean ± std. dev. of 7 runs, 1000000 loops each)\n"
     ]
    }
   ],
   "source": [
    "%%timeit\n",
    "[(i+2) for i in l1]"
   ]
  },
  {
   "cell_type": "code",
   "execution_count": 185,
   "metadata": {},
   "outputs": [
    {
     "data": {
      "text/plain": [
       "array([[1],\n",
       "       [0],\n",
       "       [0],\n",
       "       [0],\n",
       "       [1],\n",
       "       [0],\n",
       "       [1],\n",
       "       [1],\n",
       "       [0],\n",
       "       [1],\n",
       "       [1]])"
      ]
     },
     "execution_count": 185,
     "metadata": {},
     "output_type": "execute_result"
    }
   ],
   "source": [
    "np.array([(1 if i in treated else 0) for i in range(N)]).reshape([N,1])"
   ]
  },
  {
   "cell_type": "code",
   "execution_count": 248,
   "metadata": {},
   "outputs": [
    {
     "data": {
      "text/plain": [
       "(1000, 2)"
      ]
     },
     "execution_count": 248,
     "metadata": {},
     "output_type": "execute_result"
    }
   ],
   "source": [
    "n = 1000\n",
    "T = 2\n",
    "t_treat = 2# first treatment period\n",
    "p = 0.5\n",
    "tau = 2\n",
    "mu = np.random.normal(1,1,[n,1]) # (n x 1)\n",
    "sig = (np.random.chisquare(2,[n,1])/4+0.5)**(1/2)\n",
    "eps = sig*((np.random.chisquare(2,[n,T])-2)*0.5) # (n x T)\n",
    "# eps = np.random.normal([n,T])\n",
    "delta = np.ones([n,1])*np.random.normal(0,1,[1,T]) # (n x T)\n",
    "treat = fn_randomize_treatment(n,p) # (n x 1)\n",
    "W = np.concatenate([np.zeros([n,t_treat-1]),treat*np.ones([n,T-t_treat+1])],axis = 1)\n",
    "Y = W*tau+mu+delta+eps\n",
    "Y.shape"
   ]
  },
  {
   "cell_type": "code",
   "execution_count": 249,
   "metadata": {},
   "outputs": [],
   "source": [
    "# constant, treatment dummy, time period = 2 dummy , interaction of those 2 dummies\n",
    "vecY = np.concatenate([Y[:,0],Y[:,1]]).reshape(2000,1)\n",
    "vecW = np.concatenate([W[:,0],W[:,1]]).reshape(2000,1)\n",
    "vecT = np.concatenate([np.zeros([n,1]),np.ones([n,1])])\n",
    "vecInt = vecW*vecT\n",
    "vecConst = np.ones([2000,1])xvars = np.hstack([vecConst,vecW,vecT,vecInt])\n",
    "mod = sm.OLS(vecY,xvars)\n",
    "res = mod.fit()\n",
    "print(res.summary())"
   ]
  },
  {
   "cell_type": "code",
   "execution_count": 250,
   "metadata": {},
   "outputs": [
    {
     "data": {
      "text/plain": [
       "(2000, 4)"
      ]
     },
     "execution_count": 250,
     "metadata": {},
     "output_type": "execute_result"
    }
   ],
   "source": []
  },
  {
   "cell_type": "code",
   "execution_count": 251,
   "metadata": {},
   "outputs": [
    {
     "name": "stdout",
     "output_type": "stream",
     "text": [
      "                            OLS Regression Results                            \n",
      "==============================================================================\n",
      "Dep. Variable:                      y   R-squared:                       0.196\n",
      "Model:                            OLS   Adj. R-squared:                  0.195\n",
      "Method:                 Least Squares   F-statistic:                     242.9\n",
      "Date:                Wed, 17 Feb 2021   Prob (F-statistic):           3.68e-95\n",
      "Time:                        16:53:15   Log-Likelihood:                -3549.5\n",
      "No. Observations:                2000   AIC:                             7105.\n",
      "Df Residuals:                    1997   BIC:                             7122.\n",
      "Df Model:                           2                                         \n",
      "Covariance Type:            nonrobust                                         \n",
      "==============================================================================\n",
      "                 coef    std err          t      P>|t|      [0.025      0.975]\n",
      "------------------------------------------------------------------------------\n",
      "const          0.6274      0.045     13.889      0.000       0.539       0.716\n",
      "x1             0.9360      0.045     20.723      0.000       0.847       1.025\n",
      "x2            -0.4562      0.078     -5.831      0.000      -0.610      -0.303\n",
      "x3             0.9360      0.045     20.723      0.000       0.847       1.025\n",
      "==============================================================================\n",
      "Omnibus:                      287.827   Durbin-Watson:                   1.943\n",
      "Prob(Omnibus):                  0.000   Jarque-Bera (JB):              671.668\n",
      "Skew:                           0.819   Prob(JB):                    1.41e-146\n",
      "Kurtosis:                       5.319   Cond. No.                     9.13e+15\n",
      "==============================================================================\n",
      "\n",
      "Notes:\n",
      "[1] Standard Errors assume that the covariance matrix of the errors is correctly specified.\n",
      "[2] The smallest eigenvalue is 3.7e-29. This might indicate that there are\n",
      "strong multicollinearity problems or that the design matrix is singular.\n"
     ]
    }
   ],
   "source": []
  },
  {
   "cell_type": "code",
   "execution_count": 67,
   "metadata": {},
   "outputs": [
    {
     "data": {
      "text/plain": [
       "array([[2.07832488, 1.68320036],\n",
       "       [3.45006643, 1.64195153],\n",
       "       [3.85554136, 2.00972155],\n",
       "       [3.49435427, 1.76502504],\n",
       "       [2.33965988, 0.87416435]])"
      ]
     },
     "execution_count": 67,
     "metadata": {},
     "output_type": "execute_result"
    }
   ],
   "source": [
    "Yt"
   ]
  },
  {
   "cell_type": "code",
   "execution_count": 189,
   "metadata": {},
   "outputs": [
    {
     "data": {
      "text/plain": [
       "((500, 2), (500, 2))"
      ]
     },
     "execution_count": 189,
     "metadata": {},
     "output_type": "execute_result"
    }
   ],
   "source": [
    "\n",
    "Yt = Y[np.where(treat==1)[0],:] #select rows where the corresponding row in treat = 1\n",
    "Yc = Y[np.where(treat==0)[0],:]\n",
    "Yt.shape, Yc.shape"
   ]
  },
  {
   "cell_type": "code",
   "execution_count": 190,
   "metadata": {},
   "outputs": [
    {
     "data": {
      "text/plain": [
       "Text(0.5, 1.0, 'Distribution of errors')"
      ]
     },
     "execution_count": 190,
     "metadata": {},
     "output_type": "execute_result"
    },
    {
     "data": {
      "image/png": "[encoded data removed]",
      "text/plain": [
       "<Figure size 432x288 with 1 Axes>"
      ]
     },
     "metadata": {
      "needs_background": "light"
     },
     "output_type": "display_data"
    }
   ],
   "source": [
    "plt.hist(eps)\n",
    "plt.title('Distribution of errors')"
   ]
  },
  {
   "cell_type": "markdown",
   "metadata": {},
   "source": [
    "Estimate parameter of interest by running a regression of $\\Delta Y_{i1}$ on the treatment indicator and an intercept"
   ]
  },
  {
   "cell_type": "code",
   "execution_count": 191,
   "metadata": {},
   "outputs": [],
   "source": [
    "Ydiff = Y[:,1]-Y[:,0]\n",
    "Wmod = copy.deepcopy(W)\n",
    "Wmod[:,0] = 1\n",
    "model = sm.OLS(Ydiff,Wmod)"
   ]
  },
  {
   "cell_type": "code",
   "execution_count": 192,
   "metadata": {},
   "outputs": [
    {
     "data": {
      "text/html": [
       "<table class=\"simpletable\">\n",
       "<caption>OLS Regression Results</caption>\n",
       "<tr>\n",
       "  <th>Dep. Variable:</th>            <td>y</td>        <th>  R-squared:         </th> <td>   0.328</td>\n",
       "</tr>\n",
       "<tr>\n",
       "  <th>Model:</th>                   <td>OLS</td>       <th>  Adj. R-squared:    </th> <td>   0.327</td>\n",
       "</tr>\n",
       "<tr>\n",
       "  <th>Method:</th>             <td>Least Squares</td>  <th>  F-statistic:       </th> <td>   487.3</td>\n",
       "</tr>\n",
       "<tr>\n",
       "  <th>Date:</th>             <td>Mon, 08 Feb 2021</td> <th>  Prob (F-statistic):</th> <td>2.96e-88</td>\n",
       "</tr>\n",
       "<tr>\n",
       "  <th>Time:</th>                 <td>13:40:23</td>     <th>  Log-Likelihood:    </th> <td> -1780.2</td>\n",
       "</tr>\n",
       "<tr>\n",
       "  <th>No. Observations:</th>      <td>  1000</td>      <th>  AIC:               </th> <td>   3564.</td>\n",
       "</tr>\n",
       "<tr>\n",
       "  <th>Df Residuals:</th>          <td>   998</td>      <th>  BIC:               </th> <td>   3574.</td>\n",
       "</tr>\n",
       "<tr>\n",
       "  <th>Df Model:</th>              <td>     1</td>      <th>                     </th>     <td> </td>   \n",
       "</tr>\n",
       "<tr>\n",
       "  <th>Covariance Type:</th>      <td>nonrobust</td>    <th>                     </th>     <td> </td>   \n",
       "</tr>\n",
       "</table>\n",
       "<table class=\"simpletable\">\n",
       "<tr>\n",
       "    <td></td>       <th>coef</th>     <th>std err</th>      <th>t</th>      <th>P>|t|</th>  <th>[0.025</th>    <th>0.975]</th>  \n",
       "</tr>\n",
       "<tr>\n",
       "  <th>const</th> <td>   -0.5229</td> <td>    0.064</td> <td>   -8.140</td> <td> 0.000</td> <td>   -0.649</td> <td>   -0.397</td>\n",
       "</tr>\n",
       "<tr>\n",
       "  <th>x1</th>    <td>    2.0057</td> <td>    0.091</td> <td>   22.075</td> <td> 0.000</td> <td>    1.827</td> <td>    2.184</td>\n",
       "</tr>\n",
       "</table>\n",
       "<table class=\"simpletable\">\n",
       "<tr>\n",
       "  <th>Omnibus:</th>       <td>138.012</td> <th>  Durbin-Watson:     </th> <td>   1.955</td> \n",
       "</tr>\n",
       "<tr>\n",
       "  <th>Prob(Omnibus):</th> <td> 0.000</td>  <th>  Jarque-Bera (JB):  </th> <td> 959.762</td> \n",
       "</tr>\n",
       "<tr>\n",
       "  <th>Skew:</th>          <td> 0.403</td>  <th>  Prob(JB):          </th> <td>3.89e-209</td>\n",
       "</tr>\n",
       "<tr>\n",
       "  <th>Kurtosis:</th>      <td> 7.731</td>  <th>  Cond. No.          </th> <td>    2.62</td> \n",
       "</tr>\n",
       "</table><br/><br/>Notes:<br/>[1] Standard Errors assume that the covariance matrix of the errors is correctly specified."
      ],
      "text/plain": [
       "<class 'statsmodels.iolib.summary.Summary'>\n",
       "\"\"\"\n",
       "                            OLS Regression Results                            \n",
       "==============================================================================\n",
       "Dep. Variable:                      y   R-squared:                       0.328\n",
       "Model:                            OLS   Adj. R-squared:                  0.327\n",
       "Method:                 Least Squares   F-statistic:                     487.3\n",
       "Date:                Mon, 08 Feb 2021   Prob (F-statistic):           2.96e-88\n",
       "Time:                        13:40:23   Log-Likelihood:                -1780.2\n",
       "No. Observations:                1000   AIC:                             3564.\n",
       "Df Residuals:                     998   BIC:                             3574.\n",
       "Df Model:                           1                                         \n",
       "Covariance Type:            nonrobust                                         \n",
       "==============================================================================\n",
       "                 coef    std err          t      P>|t|      [0.025      0.975]\n",
       "------------------------------------------------------------------------------\n",
       "const         -0.5229      0.064     -8.140      0.000      -0.649      -0.397\n",
       "x1             2.0057      0.091     22.075      0.000       1.827       2.184\n",
       "==============================================================================\n",
       "Omnibus:                      138.012   Durbin-Watson:                   1.955\n",
       "Prob(Omnibus):                  0.000   Jarque-Bera (JB):              959.762\n",
       "Skew:                           0.403   Prob(JB):                    3.89e-209\n",
       "Kurtosis:                       7.731   Cond. No.                         2.62\n",
       "==============================================================================\n",
       "\n",
       "Notes:\n",
       "[1] Standard Errors assume that the covariance matrix of the errors is correctly specified.\n",
       "\"\"\""
      ]
     },
     "execution_count": 192,
     "metadata": {},
     "output_type": "execute_result"
    }
   ],
   "source": [
    "res = model.fit()\n",
    "res.summary()"
   ]
  },
  {
   "cell_type": "markdown",
   "metadata": {},
   "source": [
    "$Y_{i1} - Y_{i0} = \\mu_i + ....... - (\\mu_i + .......)$"
   ]
  },
  {
   "cell_type": "code",
   "execution_count": 193,
   "metadata": {},
   "outputs": [
    {
     "data": {
      "text/plain": [
       "2.0056559437520955"
      ]
     },
     "execution_count": 193,
     "metadata": {},
     "output_type": "execute_result"
    }
   ],
   "source": [
    "Yt_diff = np.mean(Yt[:,1])-np.mean(Yt[:,0]) # eliminates mu_i\n",
    "Yc_diff = np.mean(Yc[:,1])-np.mean(Yc[:,0]) # eliminates mu_i\n",
    "Yt_diff - Yc_diff # eliminates the delta_t"
   ]
  },
  {
   "cell_type": "code",
   "execution_count": 194,
   "metadata": {},
   "outputs": [],
   "source": [
    "v_Y = np.concatenate([Y[:,i] for i in range(T)]).reshape([2*n,1])\n",
    "# v_W = np.concatenate([W[:,i] for i in range(T)]).reshape([2*n,1])\n",
    "v_W = np.concatenate([W[:,1] for i in range(T)]).reshape([2*n,1])\n",
    "v_mu = np.concatenate([mu for i in range(T)])\n",
    "v_n = np.concatenate([range(1,n+1) for i in range(T)]).reshape([2*n,1])\n",
    "v_t = np.concatenate([i*np.ones([n,1]) for i in range(1,T+1)])"
   ]
  },
  {
   "cell_type": "code",
   "execution_count": 195,
   "metadata": {},
   "outputs": [],
   "source": [
    "df = pd.DataFrame({'y':v_Y[:,0],\n",
    "                   'W':v_W[:,0],\n",
    "                   'mu':v_mu[:,0],\n",
    "                   'n':v_n[:,0],\n",
    "                   't':v_t[:,0]})"
   ]
  },
  {
   "cell_type": "markdown",
   "metadata": {},
   "source": [
    "Now let $T_i = 1$ if $t=2$ and $T_i=0$ otherwise and run regression\n",
    "\n",
    "$Y_i = \\alpha+W_{i1}+T_i+W_{i1}*T_i$"
   ]
  },
  {
   "cell_type": "code",
   "execution_count": 196,
   "metadata": {},
   "outputs": [],
   "source": [
    "df['Ti'] = 1*(df.t==2)\n",
    "df['const'] = 1\n",
    "df['int'] = df.W*df.Ti"
   ]
  },
  {
   "cell_type": "code",
   "execution_count": 197,
   "metadata": {},
   "outputs": [
    {
     "data": {
      "text/html": [
       "<table class=\"simpletable\">\n",
       "<caption>OLS Regression Results</caption>\n",
       "<tr>\n",
       "  <th>Dep. Variable:</th>            <td>y</td>        <th>  R-squared:         </th> <td>   0.212</td> \n",
       "</tr>\n",
       "<tr>\n",
       "  <th>Model:</th>                   <td>OLS</td>       <th>  Adj. R-squared:    </th> <td>   0.211</td> \n",
       "</tr>\n",
       "<tr>\n",
       "  <th>Method:</th>             <td>Least Squares</td>  <th>  F-statistic:       </th> <td>   179.4</td> \n",
       "</tr>\n",
       "<tr>\n",
       "  <th>Date:</th>             <td>Mon, 08 Feb 2021</td> <th>  Prob (F-statistic):</th> <td>5.26e-103</td>\n",
       "</tr>\n",
       "<tr>\n",
       "  <th>Time:</th>                 <td>13:40:24</td>     <th>  Log-Likelihood:    </th> <td> -3550.4</td> \n",
       "</tr>\n",
       "<tr>\n",
       "  <th>No. Observations:</th>      <td>  2000</td>      <th>  AIC:               </th> <td>   7109.</td> \n",
       "</tr>\n",
       "<tr>\n",
       "  <th>Df Residuals:</th>          <td>  1996</td>      <th>  BIC:               </th> <td>   7131.</td> \n",
       "</tr>\n",
       "<tr>\n",
       "  <th>Df Model:</th>              <td>     3</td>      <th>                     </th>     <td> </td>    \n",
       "</tr>\n",
       "<tr>\n",
       "  <th>Covariance Type:</th>      <td>nonrobust</td>    <th>                     </th>     <td> </td>    \n",
       "</tr>\n",
       "</table>\n",
       "<table class=\"simpletable\">\n",
       "<tr>\n",
       "    <td></td>       <th>coef</th>     <th>std err</th>      <th>t</th>      <th>P>|t|</th>  <th>[0.025</th>    <th>0.975]</th>  \n",
       "</tr>\n",
       "<tr>\n",
       "  <th>const</th> <td>    0.6379</td> <td>    0.064</td> <td>    9.978</td> <td> 0.000</td> <td>    0.512</td> <td>    0.763</td>\n",
       "</tr>\n",
       "<tr>\n",
       "  <th>W</th>     <td>   -0.0210</td> <td>    0.090</td> <td>   -0.232</td> <td> 0.816</td> <td>   -0.198</td> <td>    0.156</td>\n",
       "</tr>\n",
       "<tr>\n",
       "  <th>Ti</th>    <td>   -0.5229</td> <td>    0.090</td> <td>   -5.785</td> <td> 0.000</td> <td>   -0.700</td> <td>   -0.346</td>\n",
       "</tr>\n",
       "<tr>\n",
       "  <th>int</th>   <td>    2.0057</td> <td>    0.128</td> <td>   15.687</td> <td> 0.000</td> <td>    1.755</td> <td>    2.256</td>\n",
       "</tr>\n",
       "</table>\n",
       "<table class=\"simpletable\">\n",
       "<tr>\n",
       "  <th>Omnibus:</th>       <td>295.177</td> <th>  Durbin-Watson:     </th> <td>   1.945</td> \n",
       "</tr>\n",
       "<tr>\n",
       "  <th>Prob(Omnibus):</th> <td> 0.000</td>  <th>  Jarque-Bera (JB):  </th> <td> 702.857</td> \n",
       "</tr>\n",
       "<tr>\n",
       "  <th>Skew:</th>          <td> 0.831</td>  <th>  Prob(JB):          </th> <td>2.38e-153</td>\n",
       "</tr>\n",
       "<tr>\n",
       "  <th>Kurtosis:</th>      <td> 5.381</td>  <th>  Cond. No.          </th> <td>    6.85</td> \n",
       "</tr>\n",
       "</table><br/><br/>Notes:<br/>[1] Standard Errors assume that the covariance matrix of the errors is correctly specified."
      ],
      "text/plain": [
       "<class 'statsmodels.iolib.summary.Summary'>\n",
       "\"\"\"\n",
       "                            OLS Regression Results                            \n",
       "==============================================================================\n",
       "Dep. Variable:                      y   R-squared:                       0.212\n",
       "Model:                            OLS   Adj. R-squared:                  0.211\n",
       "Method:                 Least Squares   F-statistic:                     179.4\n",
       "Date:                Mon, 08 Feb 2021   Prob (F-statistic):          5.26e-103\n",
       "Time:                        13:40:24   Log-Likelihood:                -3550.4\n",
       "No. Observations:                2000   AIC:                             7109.\n",
       "Df Residuals:                    1996   BIC:                             7131.\n",
       "Df Model:                           3                                         \n",
       "Covariance Type:            nonrobust                                         \n",
       "==============================================================================\n",
       "                 coef    std err          t      P>|t|      [0.025      0.975]\n",
       "------------------------------------------------------------------------------\n",
       "const          0.6379      0.064      9.978      0.000       0.512       0.763\n",
       "W             -0.0210      0.090     -0.232      0.816      -0.198       0.156\n",
       "Ti            -0.5229      0.090     -5.785      0.000      -0.700      -0.346\n",
       "int            2.0057      0.128     15.687      0.000       1.755       2.256\n",
       "==============================================================================\n",
       "Omnibus:                      295.177   Durbin-Watson:                   1.945\n",
       "Prob(Omnibus):                  0.000   Jarque-Bera (JB):              702.857\n",
       "Skew:                           0.831   Prob(JB):                    2.38e-153\n",
       "Kurtosis:                       5.381   Cond. No.                         6.85\n",
       "==============================================================================\n",
       "\n",
       "Notes:\n",
       "[1] Standard Errors assume that the covariance matrix of the errors is correctly specified.\n",
       "\"\"\""
      ]
     },
     "execution_count": 197,
     "metadata": {},
     "output_type": "execute_result"
    }
   ],
   "source": [
    "mod = sm.OLS(df.y,df[['const','W','Ti','int']])\n",
    "res = mod.fit()\n",
    "res.summary()"
   ]
  },
  {
   "cell_type": "markdown",
   "metadata": {},
   "source": [
    "## Let's focus on the more interesting case where we observe multiple time periods and multiple groups\n",
    "\n",
    "$Y_{igt} = \\alpha_g+\\gamma_t+\\beta I_{gt}+\\delta X_{igt}+\\varepsilon_{igt}$\n",
    "\n",
    "Assessing DD identification the key identifying assumption in DD models is that the treatment states/groups (g) have similar trends to the control states in the absence of treatment"
   ]
  },
  {
   "cell_type": "code",
   "execution_count": 198,
   "metadata": {},
   "outputs": [],
   "source": [
    "def fn_generate_grouped_panel(n,G,T,n_treated,treat_start,beta,delta,linear_trend = False,corr = False):\n",
    "    n_g = n/G # number of observations in each group\n",
    "    if n_g.is_integer()==False:\n",
    "        return print('Error: n_g is not an integer')\n",
    "\n",
    "    else:\n",
    "        n_g = int(n_g)\n",
    "\n",
    "        alphaG = np.random.normal(1,1,[G,1]) # (G x 1) group fixed effects\n",
    "        alpha_i = fn_group_to_ind(alphaG,n_g) # (n x 1)\n",
    "        treatG = np.zeros([G,1])\n",
    "        treatG[:n_treated,] = 1\n",
    "        treat_i = fn_group_to_ind(treatG,n_g) # (n x 1)\n",
    "        # convert to (n X T)\n",
    "        if linear_trend==True:\n",
    "            gamma = np.vstack([np.array(range(T)) for i in range(n)])\n",
    "        else:\n",
    "            gamma = np.ones([n,1])*np.random.normal(0,1,[1,T]) # (n x T) # time specific effects   \n",
    "        alpha = fn_ind_to_panel(alpha_i,T)\n",
    "        treat = fn_ind_to_panel(treat_i,T)\n",
    "        treat = np.concatenate([0*treat[:,:treat_start],treat[:,treat_start:]],axis = 1)\n",
    "\n",
    "        sig = (np.random.chisquare(2,[n,1])/4+0.5)**(1/2)\n",
    "        eps = sig*((np.random.chisquare(2,[n,T])-2)*0.5) # (n x T)\n",
    "        \n",
    "        if corr == True:\n",
    "            rho = .7\n",
    "            u = np.zeros(eps.shape)\n",
    "            u[:,0] = eps[:,0]\n",
    "            for t in range(1,T):\n",
    "                u[:,t] = rho*u[:,t-1]+eps[:,t]\n",
    "                \n",
    "        X = np.concatenate([fn_generate_multnorm(n,.5,1) for i in range(T)],axis =1) # (n x T)\n",
    "        if corr == False:\n",
    "            Y = alpha + gamma + beta*treat + delta*X+eps\n",
    "        else:\n",
    "            Y = alpha + gamma + beta*treat + delta*X + u\n",
    "\n",
    "        return [Y,alpha,gamma,treat,X]"
   ]
  },
  {
   "cell_type": "code",
   "execution_count": 199,
   "metadata": {},
   "outputs": [],
   "source": [
    "# def fn_generate_grouped_panel(n,G,T,n_treated,treat_start,beta,delta,linear_trend = False,corr = False):\n",
    "\n",
    "n = 10\n",
    "G = 2\n",
    "T = 5\n",
    "n_treated = 1\n",
    "treat_start = 4\n",
    "beta = 1\n",
    "delta = .5\n",
    "linear_trend = True\n",
    "\n",
    "n_g = n/G # number of observations in each group\n",
    "if n_g.is_integer()==False:\n",
    "    print('Error: n_g is not an integer')\n"
   ]
  },
  {
   "cell_type": "code",
   "execution_count": 200,
   "metadata": {},
   "outputs": [],
   "source": [
    "n_g = int(n_g)\n",
    "\n",
    "alphaG = np.random.normal(1,1,[G,1]) # (G x 1) group fixed effects\n",
    "alpha_i = fn_group_to_ind(alphaG,n_g) # (n x 1)"
   ]
  },
  {
   "cell_type": "code",
   "execution_count": 201,
   "metadata": {},
   "outputs": [],
   "source": [
    "treatG = np.zeros([G,1])\n",
    "treatG[:n_treated,] = 1\n",
    "treat_i = fn_group_to_ind(treatG,n_g) # (n x 1)"
   ]
  },
  {
   "cell_type": "code",
   "execution_count": 202,
   "metadata": {},
   "outputs": [
    {
     "data": {
      "text/plain": [
       "(array([[1.],\n",
       "        [1.],\n",
       "        [1.],\n",
       "        [1.],\n",
       "        [1.],\n",
       "        [0.],\n",
       "        [0.],\n",
       "        [0.],\n",
       "        [0.],\n",
       "        [0.]]),\n",
       " array([[1.],\n",
       "        [0.]]))"
      ]
     },
     "execution_count": 202,
     "metadata": {},
     "output_type": "execute_result"
    }
   ],
   "source": [
    "treat_i,treatG"
   ]
  },
  {
   "cell_type": "code",
   "execution_count": 203,
   "metadata": {},
   "outputs": [
    {
     "data": {
      "text/plain": [
       "array([[ 0.53272734,  0.51828703, -0.48633918, -1.74128078, -2.98146079],\n",
       "       [ 0.53272734,  0.51828703, -0.48633918, -1.74128078, -2.98146079],\n",
       "       [ 0.53272734,  0.51828703, -0.48633918, -1.74128078, -2.98146079],\n",
       "       [ 0.53272734,  0.51828703, -0.48633918, -1.74128078, -2.98146079],\n",
       "       [ 0.53272734,  0.51828703, -0.48633918, -1.74128078, -2.98146079],\n",
       "       [ 0.53272734,  0.51828703, -0.48633918, -1.74128078, -2.98146079],\n",
       "       [ 0.53272734,  0.51828703, -0.48633918, -1.74128078, -2.98146079],\n",
       "       [ 0.53272734,  0.51828703, -0.48633918, -1.74128078, -2.98146079],\n",
       "       [ 0.53272734,  0.51828703, -0.48633918, -1.74128078, -2.98146079],\n",
       "       [ 0.53272734,  0.51828703, -0.48633918, -1.74128078, -2.98146079]])"
      ]
     },
     "execution_count": 203,
     "metadata": {},
     "output_type": "execute_result"
    }
   ],
   "source": [
    "gamma = np.ones([n,1])*np.random.normal(0,1,[1,T])\n",
    "gamma"
   ]
  },
  {
   "cell_type": "markdown",
   "metadata": {},
   "source": [
    "Serially corellated errors:\n",
    "\n",
    "$u_t = \\rho*u_{t-1}+e_t$"
   ]
  },
  {
   "cell_type": "code",
   "execution_count": 204,
   "metadata": {},
   "outputs": [],
   "source": [
    "\n",
    "# convert to (n X T)\n",
    "if linear_trend==True:\n",
    "    gamma = np.vstack([np.array(range(T)) for i in range(n)])\n",
    "else:\n",
    "    gamma = np.ones([n,1])*np.random.normal(0,1,[1,T]) # (n x T) # time specific effects   \n",
    "alpha = fn_ind_to_panel(alpha_i,T)\n",
    "treat = fn_ind_to_panel(treat_i,T)\n",
    "treat = np.concatenate([0*treat[:,:treat_start],treat[:,treat_start:]],axis = 1)\n",
    "\n",
    "sig = (np.random.chisquare(2,[n,1])/4+0.5)**(1/2)\n",
    "eps = sig*((np.random.chisquare(2,[n,T])-2)*0.5) # (n x T)\n",
    "\n",
    "if corr == True:\n",
    "    rho = .7\n",
    "    u = np.zeros(eps.shape)\n",
    "    u[:,0] = eps[:,0]\n",
    "    for t in range(1,T):\n",
    "        u[:,t] = rho*u[:,t-1]+eps[:,t]\n",
    "X = np.concatenate([fn_generate_multnorm(n,.5,1) for i in range(T)],axis =1) # (n x T)\n",
    "\n"
   ]
  },
  {
   "cell_type": "code",
   "execution_count": 205,
   "metadata": {},
   "outputs": [
    {
     "data": {
      "text/plain": [
       "((10, 5), (10, 5), (10, 5))"
      ]
     },
     "execution_count": 205,
     "metadata": {},
     "output_type": "execute_result"
    }
   ],
   "source": [
    "alpha.shape, gamma.shape, treat.shape"
   ]
  },
  {
   "cell_type": "code",
   "execution_count": 206,
   "metadata": {},
   "outputs": [
    {
     "data": {
      "text/plain": [
       "array([[0., 0., 0., 0., 1.],\n",
       "       [0., 0., 0., 0., 1.],\n",
       "       [0., 0., 0., 0., 1.],\n",
       "       [0., 0., 0., 0., 1.],\n",
       "       [0., 0., 0., 0., 1.],\n",
       "       [0., 0., 0., 0., 0.],\n",
       "       [0., 0., 0., 0., 0.],\n",
       "       [0., 0., 0., 0., 0.],\n",
       "       [0., 0., 0., 0., 0.],\n",
       "       [0., 0., 0., 0., 0.]])"
      ]
     },
     "execution_count": 206,
     "metadata": {},
     "output_type": "execute_result"
    }
   ],
   "source": [
    "treat"
   ]
  },
  {
   "cell_type": "code",
   "execution_count": 207,
   "metadata": {},
   "outputs": [
    {
     "ename": "SyntaxError",
     "evalue": "'return' outside function (<ipython-input-207-64a684190739>, line 6)",
     "output_type": "error",
     "traceback": [
      "\u001b[0;36m  File \u001b[0;32m\"<ipython-input-207-64a684190739>\"\u001b[0;36m, line \u001b[0;32m6\u001b[0m\n\u001b[0;31m    return [Y,alpha,gamma,treat,X]\u001b[0m\n\u001b[0m    ^\u001b[0m\n\u001b[0;31mSyntaxError\u001b[0m\u001b[0;31m:\u001b[0m 'return' outside function\n"
     ]
    }
   ],
   "source": [
    "\n",
    "\n",
    "\n",
    "\n",
    "\n",
    "if corr == False:\n",
    "    Y = alpha + gamma + beta*treat + delta*X+eps\n",
    "else:\n",
    "    Y = alpha + gamma + beta*treat + delta*X + u\n",
    "\n",
    "return [Y,alpha,gamma,treat,X]"
   ]
  },
  {
   "cell_type": "markdown",
   "metadata": {},
   "source": [
    "$Y_{igt} = \\alpha_g+\\gamma_t+\\beta I_{gt}+\\delta X_{igt}+\\varepsilon_{igt}$\n",
    "\n",
    "Within transformation to get rid of $\\alpha_g$:\n",
    "\n",
    "$Y_{igt} - \\bar{Y}_{gt}$\n",
    "\n"
   ]
  },
  {
   "cell_type": "code",
   "execution_count": 208,
   "metadata": {},
   "outputs": [],
   "source": [
    "n = 2 # 2 units and 1 unit is in each group\n",
    "G = 2\n",
    "n_treated = 1\n",
    "T = 20\n",
    "\n",
    "beta = 20\n",
    "delta = 1\n",
    "treat_start = 10 # when treatment starts"
   ]
  },
  {
   "cell_type": "markdown",
   "metadata": {},
   "source": [
    "Plot the outcome for the treatment and control group"
   ]
  },
  {
   "cell_type": "code",
   "execution_count": 209,
   "metadata": {},
   "outputs": [],
   "source": [
    "linear_trend = True\n",
    "[Y,alpha,gamma,treat,X]= fn_generate_grouped_panel(n,G,T,n_treated,treat_start,beta,delta,linear_trend)"
   ]
  },
  {
   "cell_type": "code",
   "execution_count": 210,
   "metadata": {},
   "outputs": [
    {
     "data": {
      "image/png": "[encoded data removed]",
      "text/plain": [
       "<Figure size 720x432 with 1 Axes>"
      ]
     },
     "metadata": {
      "needs_background": "light"
     },
     "output_type": "display_data"
    }
   ],
   "source": [
    "colnames = ['Y','alpha','gamma','I','X']\n",
    "data = [Y,alpha,gamma,treat,X]\n",
    "\n",
    "dfg = fn_create_wide_to_long_df(data,colnames,n,G,T)\n",
    "fn_plot_dd(dfg,treat_start)"
   ]
  },
  {
   "cell_type": "code",
   "execution_count": 211,
   "metadata": {},
   "outputs": [
    {
     "data": {
      "image/png": "[encoded data removed]",
      "text/plain": [
       "<Figure size 720x432 with 1 Axes>"
      ]
     },
     "metadata": {
      "needs_background": "light"
     },
     "output_type": "display_data"
    }
   ],
   "source": [
    "linear_trend = False\n",
    "[Y,alpha,gamma,treat,X]= fn_generate_grouped_panel(n,G,T,n_treated,treat_start,beta,delta,linear_trend)\n",
    "colnames = ['Y','alpha','gamma','I','X']\n",
    "data = [Y,alpha,gamma,treat,X]\n",
    "\n",
    "dfg = fn_create_wide_to_long_df(data,colnames,n,G,T)\n",
    "fn_plot_dd(dfg,treat_start)"
   ]
  },
  {
   "cell_type": "markdown",
   "metadata": {},
   "source": [
    "### Estimation"
   ]
  },
  {
   "cell_type": "code",
   "execution_count": 212,
   "metadata": {},
   "outputs": [],
   "source": [
    "data = [Y,alpha,gamma,treat,X]\n",
    "colnames = ['Y','alpha','gamma','I','X']\n",
    "\n",
    "dfg = fn_create_wide_to_long_df(data,colnames,n,G,T)\n",
    "\n",
    "dfg = fn_within_transformation(dfg,colnames,'group')   "
   ]
  },
  {
   "cell_type": "code",
   "execution_count": 213,
   "metadata": {},
   "outputs": [
    {
     "data": {
      "text/html": [
       "<div>\n",
       "<style scoped>\n",
       "    .dataframe tbody tr th:only-of-type {\n",
       "        vertical-align: middle;\n",
       "    }\n",
       "\n",
       "    .dataframe tbody tr th {\n",
       "        vertical-align: top;\n",
       "    }\n",
       "\n",
       "    .dataframe thead th {\n",
       "        text-align: right;\n",
       "    }\n",
       "</style>\n",
       "<table border=\"1\" class=\"dataframe\">\n",
       "  <thead>\n",
       "    <tr style=\"text-align: right;\">\n",
       "      <th></th>\n",
       "      <th>Y</th>\n",
       "      <th>alpha</th>\n",
       "      <th>gamma</th>\n",
       "      <th>I</th>\n",
       "      <th>X</th>\n",
       "      <th>group</th>\n",
       "      <th>n</th>\n",
       "      <th>t</th>\n",
       "      <th>Y_bar</th>\n",
       "      <th>alpha_bar</th>\n",
       "      <th>gamma_bar</th>\n",
       "      <th>I_bar</th>\n",
       "      <th>X_bar</th>\n",
       "      <th>const</th>\n",
       "      <th>Y_w</th>\n",
       "      <th>alpha_w</th>\n",
       "      <th>gamma_w</th>\n",
       "      <th>I_w</th>\n",
       "      <th>X_w</th>\n",
       "    </tr>\n",
       "  </thead>\n",
       "  <tbody>\n",
       "    <tr>\n",
       "      <th>0</th>\n",
       "      <td>0.319496</td>\n",
       "      <td>-0.895547</td>\n",
       "      <td>-0.546378</td>\n",
       "      <td>0.0</td>\n",
       "      <td>1.377812</td>\n",
       "      <td>1</td>\n",
       "      <td>1</td>\n",
       "      <td>1</td>\n",
       "      <td>8.615999</td>\n",
       "      <td>-0.895547</td>\n",
       "      <td>-0.162203</td>\n",
       "      <td>0.5</td>\n",
       "      <td>-0.15752</td>\n",
       "      <td>1</td>\n",
       "      <td>-8.296503</td>\n",
       "      <td>-2.220446e-16</td>\n",
       "      <td>-0.384175</td>\n",
       "      <td>-0.5</td>\n",
       "      <td>1.535332</td>\n",
       "    </tr>\n",
       "    <tr>\n",
       "      <th>1</th>\n",
       "      <td>-2.919256</td>\n",
       "      <td>-0.286708</td>\n",
       "      <td>-0.546378</td>\n",
       "      <td>0.0</td>\n",
       "      <td>-1.078144</td>\n",
       "      <td>2</td>\n",
       "      <td>2</td>\n",
       "      <td>1</td>\n",
       "      <td>-0.720491</td>\n",
       "      <td>-0.286708</td>\n",
       "      <td>-0.162203</td>\n",
       "      <td>0.0</td>\n",
       "      <td>-0.04039</td>\n",
       "      <td>1</td>\n",
       "      <td>-2.198765</td>\n",
       "      <td>-1.110223e-16</td>\n",
       "      <td>-0.384175</td>\n",
       "      <td>0.0</td>\n",
       "      <td>-1.037754</td>\n",
       "    </tr>\n",
       "    <tr>\n",
       "      <th>2</th>\n",
       "      <td>-2.500770</td>\n",
       "      <td>-0.895547</td>\n",
       "      <td>-0.513985</td>\n",
       "      <td>0.0</td>\n",
       "      <td>0.332036</td>\n",
       "      <td>1</td>\n",
       "      <td>1</td>\n",
       "      <td>2</td>\n",
       "      <td>8.615999</td>\n",
       "      <td>-0.895547</td>\n",
       "      <td>-0.162203</td>\n",
       "      <td>0.5</td>\n",
       "      <td>-0.15752</td>\n",
       "      <td>1</td>\n",
       "      <td>-11.116769</td>\n",
       "      <td>-2.220446e-16</td>\n",
       "      <td>-0.351782</td>\n",
       "      <td>-0.5</td>\n",
       "      <td>0.489555</td>\n",
       "    </tr>\n",
       "    <tr>\n",
       "      <th>3</th>\n",
       "      <td>-0.600016</td>\n",
       "      <td>-0.286708</td>\n",
       "      <td>-0.513985</td>\n",
       "      <td>0.0</td>\n",
       "      <td>1.036672</td>\n",
       "      <td>2</td>\n",
       "      <td>2</td>\n",
       "      <td>2</td>\n",
       "      <td>-0.720491</td>\n",
       "      <td>-0.286708</td>\n",
       "      <td>-0.162203</td>\n",
       "      <td>0.0</td>\n",
       "      <td>-0.04039</td>\n",
       "      <td>1</td>\n",
       "      <td>0.120474</td>\n",
       "      <td>-1.110223e-16</td>\n",
       "      <td>-0.351782</td>\n",
       "      <td>0.0</td>\n",
       "      <td>1.077062</td>\n",
       "    </tr>\n",
       "    <tr>\n",
       "      <th>4</th>\n",
       "      <td>-0.856377</td>\n",
       "      <td>-0.895547</td>\n",
       "      <td>1.264813</td>\n",
       "      <td>0.0</td>\n",
       "      <td>-0.665249</td>\n",
       "      <td>1</td>\n",
       "      <td>1</td>\n",
       "      <td>3</td>\n",
       "      <td>8.615999</td>\n",
       "      <td>-0.895547</td>\n",
       "      <td>-0.162203</td>\n",
       "      <td>0.5</td>\n",
       "      <td>-0.15752</td>\n",
       "      <td>1</td>\n",
       "      <td>-9.472376</td>\n",
       "      <td>-2.220446e-16</td>\n",
       "      <td>1.427016</td>\n",
       "      <td>-0.5</td>\n",
       "      <td>-0.507730</td>\n",
       "    </tr>\n",
       "  </tbody>\n",
       "</table>\n",
       "</div>"
      ],
      "text/plain": [
       "          Y     alpha     gamma    I         X  group  n  t     Y_bar  \\\n",
       "0  0.319496 -0.895547 -0.546378  0.0  1.377812      1  1  1  8.615999   \n",
       "1 -2.919256 -0.286708 -0.546378  0.0 -1.078144      2  2  1 -0.720491   \n",
       "2 -2.500770 -0.895547 -0.513985  0.0  0.332036      1  1  2  8.615999   \n",
       "3 -0.600016 -0.286708 -0.513985  0.0  1.036672      2  2  2 -0.720491   \n",
       "4 -0.856377 -0.895547  1.264813  0.0 -0.665249      1  1  3  8.615999   \n",
       "\n",
       "   alpha_bar  gamma_bar  I_bar    X_bar  const        Y_w       alpha_w  \\\n",
       "0  -0.895547  -0.162203    0.5 -0.15752      1  -8.296503 -2.220446e-16   \n",
       "1  -0.286708  -0.162203    0.0 -0.04039      1  -2.198765 -1.110223e-16   \n",
       "2  -0.895547  -0.162203    0.5 -0.15752      1 -11.116769 -2.220446e-16   \n",
       "3  -0.286708  -0.162203    0.0 -0.04039      1   0.120474 -1.110223e-16   \n",
       "4  -0.895547  -0.162203    0.5 -0.15752      1  -9.472376 -2.220446e-16   \n",
       "\n",
       "    gamma_w  I_w       X_w  \n",
       "0 -0.384175 -0.5  1.535332  \n",
       "1 -0.384175  0.0 -1.037754  \n",
       "2 -0.351782 -0.5  0.489555  \n",
       "3 -0.351782  0.0  1.077062  \n",
       "4  1.427016 -0.5 -0.507730  "
      ]
     },
     "execution_count": 213,
     "metadata": {},
     "output_type": "execute_result"
    }
   ],
   "source": [
    "dfg.head()"
   ]
  },
  {
   "cell_type": "markdown",
   "metadata": {},
   "source": [
    "#### Estimation using a full set of time and group dummies"
   ]
  },
  {
   "cell_type": "code",
   "execution_count": 214,
   "metadata": {},
   "outputs": [],
   "source": [
    "# pd.get_dummies(dfg.group)"
   ]
  },
  {
   "cell_type": "code",
   "execution_count": 215,
   "metadata": {},
   "outputs": [
    {
     "data": {
      "text/html": [
       "<table class=\"simpletable\">\n",
       "<caption>OLS Regression Results</caption>\n",
       "<tr>\n",
       "  <th>Dep. Variable:</th>            <td>Y</td>        <th>  R-squared:         </th> <td>   0.992</td>\n",
       "</tr>\n",
       "<tr>\n",
       "  <th>Model:</th>                   <td>OLS</td>       <th>  Adj. R-squared:    </th> <td>   0.981</td>\n",
       "</tr>\n",
       "<tr>\n",
       "  <th>Method:</th>             <td>Least Squares</td>  <th>  F-statistic:       </th> <td>   93.89</td>\n",
       "</tr>\n",
       "<tr>\n",
       "  <th>Date:</th>             <td>Mon, 08 Feb 2021</td> <th>  Prob (F-statistic):</th> <td>1.06e-13</td>\n",
       "</tr>\n",
       "<tr>\n",
       "  <th>Time:</th>                 <td>13:40:33</td>     <th>  Log-Likelihood:    </th> <td> -45.914</td>\n",
       "</tr>\n",
       "<tr>\n",
       "  <th>No. Observations:</th>      <td>    40</td>      <th>  AIC:               </th> <td>   137.8</td>\n",
       "</tr>\n",
       "<tr>\n",
       "  <th>Df Residuals:</th>          <td>    17</td>      <th>  BIC:               </th> <td>   176.7</td>\n",
       "</tr>\n",
       "<tr>\n",
       "  <th>Df Model:</th>              <td>    22</td>      <th>                     </th>     <td> </td>   \n",
       "</tr>\n",
       "<tr>\n",
       "  <th>Covariance Type:</th>      <td>nonrobust</td>    <th>                     </th>     <td> </td>   \n",
       "</tr>\n",
       "</table>\n",
       "<table class=\"simpletable\">\n",
       "<tr>\n",
       "   <td></td>     <th>coef</th>     <th>std err</th>      <th>t</th>      <th>P>|t|</th>  <th>[0.025</th>    <th>0.975]</th>  \n",
       "</tr>\n",
       "<tr>\n",
       "  <th>I</th>  <td>   20.4001</td> <td>    0.767</td> <td>   26.582</td> <td> 0.000</td> <td>   18.781</td> <td>   22.019</td>\n",
       "</tr>\n",
       "<tr>\n",
       "  <th>X</th>  <td>    1.2694</td> <td>    0.277</td> <td>    4.576</td> <td> 0.000</td> <td>    0.684</td> <td>    1.855</td>\n",
       "</tr>\n",
       "<tr>\n",
       "  <th>1</th>  <td>   -1.2907</td> <td>    0.436</td> <td>   -2.959</td> <td> 0.009</td> <td>   -2.211</td> <td>   -0.370</td>\n",
       "</tr>\n",
       "<tr>\n",
       "  <th>2</th>  <td>   -0.5759</td> <td>    0.251</td> <td>   -2.296</td> <td> 0.035</td> <td>   -1.105</td> <td>   -0.047</td>\n",
       "</tr>\n",
       "<tr>\n",
       "  <th>1</th>  <td>   -0.5568</td> <td>    0.824</td> <td>   -0.676</td> <td> 0.508</td> <td>   -2.295</td> <td>    1.182</td>\n",
       "</tr>\n",
       "<tr>\n",
       "  <th>2</th>  <td>   -1.4858</td> <td>    0.841</td> <td>   -1.767</td> <td> 0.095</td> <td>   -3.260</td> <td>    0.288</td>\n",
       "</tr>\n",
       "<tr>\n",
       "  <th>3</th>  <td>    1.1783</td> <td>    0.834</td> <td>    1.412</td> <td> 0.176</td> <td>   -0.582</td> <td>    2.939</td>\n",
       "</tr>\n",
       "<tr>\n",
       "  <th>4</th>  <td>   -0.1733</td> <td>    0.920</td> <td>   -0.189</td> <td> 0.853</td> <td>   -2.113</td> <td>    1.767</td>\n",
       "</tr>\n",
       "<tr>\n",
       "  <th>5</th>  <td>   -1.3141</td> <td>    0.846</td> <td>   -1.554</td> <td> 0.139</td> <td>   -3.099</td> <td>    0.471</td>\n",
       "</tr>\n",
       "<tr>\n",
       "  <th>6</th>  <td>    1.8082</td> <td>    0.845</td> <td>    2.141</td> <td> 0.047</td> <td>    0.026</td> <td>    3.590</td>\n",
       "</tr>\n",
       "<tr>\n",
       "  <th>7</th>  <td>    1.6278</td> <td>    0.825</td> <td>    1.972</td> <td> 0.065</td> <td>   -0.113</td> <td>    3.369</td>\n",
       "</tr>\n",
       "<tr>\n",
       "  <th>8</th>  <td>   -0.1100</td> <td>    0.824</td> <td>   -0.134</td> <td> 0.895</td> <td>   -1.849</td> <td>    1.629</td>\n",
       "</tr>\n",
       "<tr>\n",
       "  <th>9</th>  <td>   -0.6017</td> <td>    0.824</td> <td>   -0.730</td> <td> 0.475</td> <td>   -2.339</td> <td>    1.136</td>\n",
       "</tr>\n",
       "<tr>\n",
       "  <th>10</th> <td>    0.5768</td> <td>    0.824</td> <td>    0.700</td> <td> 0.493</td> <td>   -1.162</td> <td>    2.315</td>\n",
       "</tr>\n",
       "<tr>\n",
       "  <th>11</th> <td>    0.4581</td> <td>    0.836</td> <td>    0.548</td> <td> 0.591</td> <td>   -1.305</td> <td>    2.221</td>\n",
       "</tr>\n",
       "<tr>\n",
       "  <th>12</th> <td>    0.2653</td> <td>    0.839</td> <td>    0.316</td> <td> 0.756</td> <td>   -1.505</td> <td>    2.035</td>\n",
       "</tr>\n",
       "<tr>\n",
       "  <th>13</th> <td>   -0.1689</td> <td>    0.835</td> <td>   -0.202</td> <td> 0.842</td> <td>   -1.930</td> <td>    1.592</td>\n",
       "</tr>\n",
       "<tr>\n",
       "  <th>14</th> <td>    1.6129</td> <td>    0.835</td> <td>    1.932</td> <td> 0.070</td> <td>   -0.148</td> <td>    3.374</td>\n",
       "</tr>\n",
       "<tr>\n",
       "  <th>15</th> <td>   -0.8069</td> <td>    0.848</td> <td>   -0.951</td> <td> 0.355</td> <td>   -2.596</td> <td>    0.983</td>\n",
       "</tr>\n",
       "<tr>\n",
       "  <th>16</th> <td>    1.4182</td> <td>    0.864</td> <td>    1.641</td> <td> 0.119</td> <td>   -0.405</td> <td>    3.242</td>\n",
       "</tr>\n",
       "<tr>\n",
       "  <th>17</th> <td>   -0.6037</td> <td>    0.831</td> <td>   -0.726</td> <td> 0.478</td> <td>   -2.358</td> <td>    1.150</td>\n",
       "</tr>\n",
       "<tr>\n",
       "  <th>18</th> <td>   -2.1873</td> <td>    0.832</td> <td>   -2.628</td> <td> 0.018</td> <td>   -3.943</td> <td>   -0.431</td>\n",
       "</tr>\n",
       "<tr>\n",
       "  <th>19</th> <td>   -1.4659</td> <td>    0.968</td> <td>   -1.514</td> <td> 0.148</td> <td>   -3.509</td> <td>    0.577</td>\n",
       "</tr>\n",
       "<tr>\n",
       "  <th>20</th> <td>   -1.3379</td> <td>    0.840</td> <td>   -1.593</td> <td> 0.130</td> <td>   -3.109</td> <td>    0.434</td>\n",
       "</tr>\n",
       "</table>\n",
       "<table class=\"simpletable\">\n",
       "<tr>\n",
       "  <th>Omnibus:</th>       <td> 4.798</td> <th>  Durbin-Watson:     </th> <td>   2.930</td>\n",
       "</tr>\n",
       "<tr>\n",
       "  <th>Prob(Omnibus):</th> <td> 0.091</td> <th>  Jarque-Bera (JB):  </th> <td>   5.432</td>\n",
       "</tr>\n",
       "<tr>\n",
       "  <th>Skew:</th>          <td> 0.000</td> <th>  Prob(JB):          </th> <td>  0.0661</td>\n",
       "</tr>\n",
       "<tr>\n",
       "  <th>Kurtosis:</th>      <td> 4.805</td> <th>  Cond. No.          </th> <td>2.05e+16</td>\n",
       "</tr>\n",
       "</table><br/><br/>Notes:<br/>[1] Standard Errors assume that the covariance matrix of the errors is correctly specified.<br/>[2] The smallest eigenvalue is 9.41e-32. This might indicate that there are<br/>strong multicollinearity problems or that the design matrix is singular."
      ],
      "text/plain": [
       "<class 'statsmodels.iolib.summary.Summary'>\n",
       "\"\"\"\n",
       "                            OLS Regression Results                            \n",
       "==============================================================================\n",
       "Dep. Variable:                      Y   R-squared:                       0.992\n",
       "Model:                            OLS   Adj. R-squared:                  0.981\n",
       "Method:                 Least Squares   F-statistic:                     93.89\n",
       "Date:                Mon, 08 Feb 2021   Prob (F-statistic):           1.06e-13\n",
       "Time:                        13:40:33   Log-Likelihood:                -45.914\n",
       "No. Observations:                  40   AIC:                             137.8\n",
       "Df Residuals:                      17   BIC:                             176.7\n",
       "Df Model:                          22                                         \n",
       "Covariance Type:            nonrobust                                         \n",
       "==============================================================================\n",
       "                 coef    std err          t      P>|t|      [0.025      0.975]\n",
       "------------------------------------------------------------------------------\n",
       "I             20.4001      0.767     26.582      0.000      18.781      22.019\n",
       "X              1.2694      0.277      4.576      0.000       0.684       1.855\n",
       "1             -1.2907      0.436     -2.959      0.009      -2.211      -0.370\n",
       "2             -0.5759      0.251     -2.296      0.035      -1.105      -0.047\n",
       "1             -0.5568      0.824     -0.676      0.508      -2.295       1.182\n",
       "2             -1.4858      0.841     -1.767      0.095      -3.260       0.288\n",
       "3              1.1783      0.834      1.412      0.176      -0.582       2.939\n",
       "4             -0.1733      0.920     -0.189      0.853      -2.113       1.767\n",
       "5             -1.3141      0.846     -1.554      0.139      -3.099       0.471\n",
       "6              1.8082      0.845      2.141      0.047       0.026       3.590\n",
       "7              1.6278      0.825      1.972      0.065      -0.113       3.369\n",
       "8             -0.1100      0.824     -0.134      0.895      -1.849       1.629\n",
       "9             -0.6017      0.824     -0.730      0.475      -2.339       1.136\n",
       "10             0.5768      0.824      0.700      0.493      -1.162       2.315\n",
       "11             0.4581      0.836      0.548      0.591      -1.305       2.221\n",
       "12             0.2653      0.839      0.316      0.756      -1.505       2.035\n",
       "13            -0.1689      0.835     -0.202      0.842      -1.930       1.592\n",
       "14             1.6129      0.835      1.932      0.070      -0.148       3.374\n",
       "15            -0.8069      0.848     -0.951      0.355      -2.596       0.983\n",
       "16             1.4182      0.864      1.641      0.119      -0.405       3.242\n",
       "17            -0.6037      0.831     -0.726      0.478      -2.358       1.150\n",
       "18            -2.1873      0.832     -2.628      0.018      -3.943      -0.431\n",
       "19            -1.4659      0.968     -1.514      0.148      -3.509       0.577\n",
       "20            -1.3379      0.840     -1.593      0.130      -3.109       0.434\n",
       "==============================================================================\n",
       "Omnibus:                        4.798   Durbin-Watson:                   2.930\n",
       "Prob(Omnibus):                  0.091   Jarque-Bera (JB):                5.432\n",
       "Skew:                           0.000   Prob(JB):                       0.0661\n",
       "Kurtosis:                       4.805   Cond. No.                     2.05e+16\n",
       "==============================================================================\n",
       "\n",
       "Notes:\n",
       "[1] Standard Errors assume that the covariance matrix of the errors is correctly specified.\n",
       "[2] The smallest eigenvalue is 9.41e-32. This might indicate that there are\n",
       "strong multicollinearity problems or that the design matrix is singular.\n",
       "\"\"\""
      ]
     },
     "execution_count": 215,
     "metadata": {},
     "output_type": "execute_result"
    }
   ],
   "source": [
    "xvars = pd.concat([dfg[['I','X']],\n",
    "                   pd.get_dummies(dfg['group'],drop_first = False),\n",
    "                   pd.get_dummies(dfg['t'],drop_first = False)],axis = 1)\n",
    "mod = sm.OLS(dfg['Y'],xvars)\n",
    "res = mod.fit()\n",
    "res.summary()"
   ]
  },
  {
   "cell_type": "markdown",
   "metadata": {},
   "source": [
    "#### Estimation using a within group transformation"
   ]
  },
  {
   "cell_type": "markdown",
   "metadata": {},
   "source": [
    "_w denotes variables that come out of the within transformation"
   ]
  },
  {
   "cell_type": "code",
   "execution_count": 216,
   "metadata": {},
   "outputs": [
    {
     "data": {
      "text/html": [
       "<table class=\"simpletable\">\n",
       "<caption>OLS Regression Results</caption>\n",
       "<tr>\n",
       "  <th>Dep. Variable:</th>           <td>Y_w</td>       <th>  R-squared:         </th> <td>   0.988</td>\n",
       "</tr>\n",
       "<tr>\n",
       "  <th>Model:</th>                   <td>OLS</td>       <th>  Adj. R-squared:    </th> <td>   0.975</td>\n",
       "</tr>\n",
       "<tr>\n",
       "  <th>Method:</th>             <td>Least Squares</td>  <th>  F-statistic:       </th> <td>   72.02</td>\n",
       "</tr>\n",
       "<tr>\n",
       "  <th>Date:</th>             <td>Mon, 08 Feb 2021</td> <th>  Prob (F-statistic):</th> <td>2.62e-13</td>\n",
       "</tr>\n",
       "<tr>\n",
       "  <th>Time:</th>                 <td>13:40:34</td>     <th>  Log-Likelihood:    </th> <td> -45.914</td>\n",
       "</tr>\n",
       "<tr>\n",
       "  <th>No. Observations:</th>      <td>    40</td>      <th>  AIC:               </th> <td>   135.8</td>\n",
       "</tr>\n",
       "<tr>\n",
       "  <th>Df Residuals:</th>          <td>    18</td>      <th>  BIC:               </th> <td>   173.0</td>\n",
       "</tr>\n",
       "<tr>\n",
       "  <th>Df Model:</th>              <td>    21</td>      <th>                     </th>     <td> </td>   \n",
       "</tr>\n",
       "<tr>\n",
       "  <th>Covariance Type:</th>      <td>nonrobust</td>    <th>                     </th>     <td> </td>   \n",
       "</tr>\n",
       "</table>\n",
       "<table class=\"simpletable\">\n",
       "<tr>\n",
       "   <td></td>      <th>coef</th>     <th>std err</th>      <th>t</th>      <th>P>|t|</th>  <th>[0.025</th>    <th>0.975]</th>  \n",
       "</tr>\n",
       "<tr>\n",
       "  <th>I_w</th> <td>   20.4001</td> <td>    0.746</td> <td>   27.352</td> <td> 0.000</td> <td>   18.833</td> <td>   21.967</td>\n",
       "</tr>\n",
       "<tr>\n",
       "  <th>X_w</th> <td>    1.2694</td> <td>    0.270</td> <td>    4.709</td> <td> 0.000</td> <td>    0.703</td> <td>    1.836</td>\n",
       "</tr>\n",
       "<tr>\n",
       "  <th>1</th>   <td>   -0.4634</td> <td>    0.824</td> <td>   -0.563</td> <td> 0.581</td> <td>   -2.194</td> <td>    1.267</td>\n",
       "</tr>\n",
       "<tr>\n",
       "  <th>2</th>   <td>   -1.3925</td> <td>    0.839</td> <td>   -1.659</td> <td> 0.114</td> <td>   -3.156</td> <td>    0.371</td>\n",
       "</tr>\n",
       "<tr>\n",
       "  <th>3</th>   <td>    1.2716</td> <td>    0.834</td> <td>    1.525</td> <td> 0.145</td> <td>   -0.481</td> <td>    3.024</td>\n",
       "</tr>\n",
       "<tr>\n",
       "  <th>4</th>   <td>   -0.0800</td> <td>    0.915</td> <td>   -0.087</td> <td> 0.931</td> <td>   -2.003</td> <td>    1.843</td>\n",
       "</tr>\n",
       "<tr>\n",
       "  <th>5</th>   <td>   -1.2208</td> <td>    0.844</td> <td>   -1.446</td> <td> 0.165</td> <td>   -2.994</td> <td>    0.553</td>\n",
       "</tr>\n",
       "<tr>\n",
       "  <th>6</th>   <td>    1.9015</td> <td>    0.844</td> <td>    2.253</td> <td> 0.037</td> <td>    0.129</td> <td>    3.674</td>\n",
       "</tr>\n",
       "<tr>\n",
       "  <th>7</th>   <td>    1.7212</td> <td>    0.825</td> <td>    2.086</td> <td> 0.051</td> <td>   -0.012</td> <td>    3.455</td>\n",
       "</tr>\n",
       "<tr>\n",
       "  <th>8</th>   <td>   -0.0167</td> <td>    0.824</td> <td>   -0.020</td> <td> 0.984</td> <td>   -1.748</td> <td>    1.715</td>\n",
       "</tr>\n",
       "<tr>\n",
       "  <th>9</th>   <td>   -0.5083</td> <td>    0.824</td> <td>   -0.617</td> <td> 0.545</td> <td>   -2.239</td> <td>    1.222</td>\n",
       "</tr>\n",
       "<tr>\n",
       "  <th>10</th>  <td>    0.6701</td> <td>    0.824</td> <td>    0.813</td> <td> 0.427</td> <td>   -1.061</td> <td>    2.401</td>\n",
       "</tr>\n",
       "<tr>\n",
       "  <th>11</th>  <td>    0.5514</td> <td>    0.828</td> <td>    0.666</td> <td> 0.514</td> <td>   -1.187</td> <td>    2.290</td>\n",
       "</tr>\n",
       "<tr>\n",
       "  <th>12</th>  <td>    0.3586</td> <td>    0.831</td> <td>    0.431</td> <td> 0.671</td> <td>   -1.388</td> <td>    2.105</td>\n",
       "</tr>\n",
       "<tr>\n",
       "  <th>13</th>  <td>   -0.0755</td> <td>    0.827</td> <td>   -0.091</td> <td> 0.928</td> <td>   -1.813</td> <td>    1.662</td>\n",
       "</tr>\n",
       "<tr>\n",
       "  <th>14</th>  <td>    1.7062</td> <td>    0.827</td> <td>    2.063</td> <td> 0.054</td> <td>   -0.031</td> <td>    3.444</td>\n",
       "</tr>\n",
       "<tr>\n",
       "  <th>15</th>  <td>   -0.7136</td> <td>    0.839</td> <td>   -0.850</td> <td> 0.406</td> <td>   -2.477</td> <td>    1.050</td>\n",
       "</tr>\n",
       "<tr>\n",
       "  <th>16</th>  <td>    1.5116</td> <td>    0.856</td> <td>    1.766</td> <td> 0.094</td> <td>   -0.286</td> <td>    3.310</td>\n",
       "</tr>\n",
       "<tr>\n",
       "  <th>17</th>  <td>   -0.5103</td> <td>    0.824</td> <td>   -0.619</td> <td> 0.543</td> <td>   -2.241</td> <td>    1.220</td>\n",
       "</tr>\n",
       "<tr>\n",
       "  <th>18</th>  <td>   -2.0940</td> <td>    0.825</td> <td>   -2.540</td> <td> 0.021</td> <td>   -3.826</td> <td>   -0.362</td>\n",
       "</tr>\n",
       "<tr>\n",
       "  <th>19</th>  <td>   -1.3726</td> <td>    0.954</td> <td>   -1.439</td> <td> 0.167</td> <td>   -3.376</td> <td>    0.631</td>\n",
       "</tr>\n",
       "<tr>\n",
       "  <th>20</th>  <td>   -1.2445</td> <td>    0.831</td> <td>   -1.497</td> <td> 0.152</td> <td>   -2.991</td> <td>    0.502</td>\n",
       "</tr>\n",
       "</table>\n",
       "<table class=\"simpletable\">\n",
       "<tr>\n",
       "  <th>Omnibus:</th>       <td> 4.798</td> <th>  Durbin-Watson:     </th> <td>   2.930</td>\n",
       "</tr>\n",
       "<tr>\n",
       "  <th>Prob(Omnibus):</th> <td> 0.091</td> <th>  Jarque-Bera (JB):  </th> <td>   5.432</td>\n",
       "</tr>\n",
       "<tr>\n",
       "  <th>Skew:</th>          <td> 0.000</td> <th>  Prob(JB):          </th> <td>  0.0661</td>\n",
       "</tr>\n",
       "<tr>\n",
       "  <th>Kurtosis:</th>      <td> 4.805</td> <th>  Cond. No.          </th> <td>    7.06</td>\n",
       "</tr>\n",
       "</table><br/><br/>Notes:<br/>[1] Standard Errors assume that the covariance matrix of the errors is correctly specified."
      ],
      "text/plain": [
       "<class 'statsmodels.iolib.summary.Summary'>\n",
       "\"\"\"\n",
       "                            OLS Regression Results                            \n",
       "==============================================================================\n",
       "Dep. Variable:                    Y_w   R-squared:                       0.988\n",
       "Model:                            OLS   Adj. R-squared:                  0.975\n",
       "Method:                 Least Squares   F-statistic:                     72.02\n",
       "Date:                Mon, 08 Feb 2021   Prob (F-statistic):           2.62e-13\n",
       "Time:                        13:40:34   Log-Likelihood:                -45.914\n",
       "No. Observations:                  40   AIC:                             135.8\n",
       "Df Residuals:                      18   BIC:                             173.0\n",
       "Df Model:                          21                                         \n",
       "Covariance Type:            nonrobust                                         \n",
       "==============================================================================\n",
       "                 coef    std err          t      P>|t|      [0.025      0.975]\n",
       "------------------------------------------------------------------------------\n",
       "I_w           20.4001      0.746     27.352      0.000      18.833      21.967\n",
       "X_w            1.2694      0.270      4.709      0.000       0.703       1.836\n",
       "1             -0.4634      0.824     -0.563      0.581      -2.194       1.267\n",
       "2             -1.3925      0.839     -1.659      0.114      -3.156       0.371\n",
       "3              1.2716      0.834      1.525      0.145      -0.481       3.024\n",
       "4             -0.0800      0.915     -0.087      0.931      -2.003       1.843\n",
       "5             -1.2208      0.844     -1.446      0.165      -2.994       0.553\n",
       "6              1.9015      0.844      2.253      0.037       0.129       3.674\n",
       "7              1.7212      0.825      2.086      0.051      -0.012       3.455\n",
       "8             -0.0167      0.824     -0.020      0.984      -1.748       1.715\n",
       "9             -0.5083      0.824     -0.617      0.545      -2.239       1.222\n",
       "10             0.6701      0.824      0.813      0.427      -1.061       2.401\n",
       "11             0.5514      0.828      0.666      0.514      -1.187       2.290\n",
       "12             0.3586      0.831      0.431      0.671      -1.388       2.105\n",
       "13            -0.0755      0.827     -0.091      0.928      -1.813       1.662\n",
       "14             1.7062      0.827      2.063      0.054      -0.031       3.444\n",
       "15            -0.7136      0.839     -0.850      0.406      -2.477       1.050\n",
       "16             1.5116      0.856      1.766      0.094      -0.286       3.310\n",
       "17            -0.5103      0.824     -0.619      0.543      -2.241       1.220\n",
       "18            -2.0940      0.825     -2.540      0.021      -3.826      -0.362\n",
       "19            -1.3726      0.954     -1.439      0.167      -3.376       0.631\n",
       "20            -1.2445      0.831     -1.497      0.152      -2.991       0.502\n",
       "==============================================================================\n",
       "Omnibus:                        4.798   Durbin-Watson:                   2.930\n",
       "Prob(Omnibus):                  0.091   Jarque-Bera (JB):                5.432\n",
       "Skew:                           0.000   Prob(JB):                       0.0661\n",
       "Kurtosis:                       4.805   Cond. No.                         7.06\n",
       "==============================================================================\n",
       "\n",
       "Notes:\n",
       "[1] Standard Errors assume that the covariance matrix of the errors is correctly specified.\n",
       "\"\"\""
      ]
     },
     "execution_count": 216,
     "metadata": {},
     "output_type": "execute_result"
    }
   ],
   "source": [
    "xvars = pd.concat([dfg[['I_w','X_w']],\n",
    "                  pd.get_dummies(dfg['t'])],axis = 1)\n",
    "mod = sm.OLS(dfg['Y_w'],xvars)\n",
    "res = mod.fit()\n",
    "res.summary()"
   ]
  },
  {
   "cell_type": "markdown",
   "metadata": {},
   "source": [
    "### Multiple groups and time periods\n",
    "\n",
    "$Y_{igt} = \\alpha_g+\\gamma_t+\\beta I_{gt}+\\delta X_{igt}+\\varepsilon_{igt}$\n"
   ]
  },
  {
   "cell_type": "code",
   "execution_count": 217,
   "metadata": {},
   "outputs": [],
   "source": [
    "n = 1000\n",
    "G = 10\n",
    "n_treated = 5\n",
    "T = 20\n",
    "\n",
    "beta = 20\n",
    "delta = 1\n",
    "treat_start = 10\n"
   ]
  },
  {
   "cell_type": "code",
   "execution_count": 218,
   "metadata": {},
   "outputs": [
    {
     "data": {
      "image/png": "[encoded data removed]",
      "text/plain": [
       "<Figure size 720x432 with 1 Axes>"
      ]
     },
     "metadata": {
      "needs_background": "light"
     },
     "output_type": "display_data"
    }
   ],
   "source": [
    "linear_trend = True\n",
    "[Y,alpha,gamma,treat,X]= fn_generate_grouped_panel(n,G,T,n_treated,treat_start,beta,delta,linear_trend)\n",
    "colnames = ['Y','alpha','gamma','I','X']\n",
    "data = [Y,alpha,gamma,treat,X]\n",
    "dfg = fn_create_wide_to_long_df(data,colnames,n,G,T)\n",
    "fn_plot_dd(dfg,treat_start)\n",
    "# dfg.head()"
   ]
  },
  {
   "cell_type": "markdown",
   "metadata": {},
   "source": [
    "### Estimation\n"
   ]
  },
  {
   "cell_type": "code",
   "execution_count": 219,
   "metadata": {},
   "outputs": [],
   "source": [
    "dfw = fn_within_transformation(dfg,colnames,'group')   "
   ]
  },
  {
   "cell_type": "code",
   "execution_count": 220,
   "metadata": {},
   "outputs": [],
   "source": [
    "xvars = pd.concat([dfw[['I_w','X_w']],\n",
    "                  pd.get_dummies(dfw['t'])],axis = 1)\n",
    "mod = sm.OLS(dfw['Y_w'],xvars,cluster= dfw['group'])\n",
    "res = mod.fit(cov_type='HC1')\n",
    "t = res.params.I_w/res.HC1_se.I_w"
   ]
  },
  {
   "cell_type": "code",
   "execution_count": 221,
   "metadata": {},
   "outputs": [
    {
     "data": {
      "text/html": [
       "<table class=\"simpletable\">\n",
       "<caption>OLS Regression Results</caption>\n",
       "<tr>\n",
       "  <th>Dep. Variable:</th>           <td>Y_w</td>       <th>  R-squared:         </th> <td>   0.993</td> \n",
       "</tr>\n",
       "<tr>\n",
       "  <th>Model:</th>                   <td>OLS</td>       <th>  Adj. R-squared:    </th> <td>   0.993</td> \n",
       "</tr>\n",
       "<tr>\n",
       "  <th>Method:</th>             <td>Least Squares</td>  <th>  F-statistic:       </th> <td>     nan</td> \n",
       "</tr>\n",
       "<tr>\n",
       "  <th>Date:</th>             <td>Mon, 08 Feb 2021</td> <th>  Prob (F-statistic):</th>  <td>   nan</td>  \n",
       "</tr>\n",
       "<tr>\n",
       "  <th>Time:</th>                 <td>13:40:36</td>     <th>  Log-Likelihood:    </th> <td> -28192.</td> \n",
       "</tr>\n",
       "<tr>\n",
       "  <th>No. Observations:</th>      <td> 20000</td>      <th>  AIC:               </th> <td>5.643e+04</td>\n",
       "</tr>\n",
       "<tr>\n",
       "  <th>Df Residuals:</th>          <td> 19978</td>      <th>  BIC:               </th> <td>5.660e+04</td>\n",
       "</tr>\n",
       "<tr>\n",
       "  <th>Df Model:</th>              <td>    21</td>      <th>                     </th>     <td> </td>    \n",
       "</tr>\n",
       "<tr>\n",
       "  <th>Covariance Type:</th>         <td>HC1</td>       <th>                     </th>     <td> </td>    \n",
       "</tr>\n",
       "</table>\n",
       "<table class=\"simpletable\">\n",
       "<tr>\n",
       "   <td></td>      <th>coef</th>     <th>std err</th>      <th>z</th>      <th>P>|z|</th>  <th>[0.025</th>    <th>0.975]</th>  \n",
       "</tr>\n",
       "<tr>\n",
       "  <th>I_w</th> <td>   19.9867</td> <td>    0.028</td> <td>  712.870</td> <td> 0.000</td> <td>   19.932</td> <td>   20.042</td>\n",
       "</tr>\n",
       "<tr>\n",
       "  <th>X_w</th> <td>    0.9981</td> <td>    0.007</td> <td>  147.009</td> <td> 0.000</td> <td>    0.985</td> <td>    1.011</td>\n",
       "</tr>\n",
       "<tr>\n",
       "  <th>1</th>   <td>   -9.5285</td> <td>    0.032</td> <td> -294.481</td> <td> 0.000</td> <td>   -9.592</td> <td>   -9.465</td>\n",
       "</tr>\n",
       "<tr>\n",
       "  <th>2</th>   <td>   -8.5477</td> <td>    0.031</td> <td> -278.041</td> <td> 0.000</td> <td>   -8.608</td> <td>   -8.487</td>\n",
       "</tr>\n",
       "<tr>\n",
       "  <th>3</th>   <td>   -7.4749</td> <td>    0.032</td> <td> -233.314</td> <td> 0.000</td> <td>   -7.538</td> <td>   -7.412</td>\n",
       "</tr>\n",
       "<tr>\n",
       "  <th>4</th>   <td>   -6.5301</td> <td>    0.031</td> <td> -213.574</td> <td> 0.000</td> <td>   -6.590</td> <td>   -6.470</td>\n",
       "</tr>\n",
       "<tr>\n",
       "  <th>5</th>   <td>   -5.5166</td> <td>    0.031</td> <td> -178.651</td> <td> 0.000</td> <td>   -5.577</td> <td>   -5.456</td>\n",
       "</tr>\n",
       "<tr>\n",
       "  <th>6</th>   <td>   -4.4325</td> <td>    0.034</td> <td> -130.609</td> <td> 0.000</td> <td>   -4.499</td> <td>   -4.366</td>\n",
       "</tr>\n",
       "<tr>\n",
       "  <th>7</th>   <td>   -3.5591</td> <td>    0.030</td> <td> -116.873</td> <td> 0.000</td> <td>   -3.619</td> <td>   -3.499</td>\n",
       "</tr>\n",
       "<tr>\n",
       "  <th>8</th>   <td>   -2.5156</td> <td>    0.032</td> <td>  -77.789</td> <td> 0.000</td> <td>   -2.579</td> <td>   -2.452</td>\n",
       "</tr>\n",
       "<tr>\n",
       "  <th>9</th>   <td>   -1.4233</td> <td>    0.034</td> <td>  -41.344</td> <td> 0.000</td> <td>   -1.491</td> <td>   -1.356</td>\n",
       "</tr>\n",
       "<tr>\n",
       "  <th>10</th>  <td>   -0.4743</td> <td>    0.032</td> <td>  -14.866</td> <td> 0.000</td> <td>   -0.537</td> <td>   -0.412</td>\n",
       "</tr>\n",
       "<tr>\n",
       "  <th>11</th>  <td>    0.4865</td> <td>    0.032</td> <td>   15.107</td> <td> 0.000</td> <td>    0.423</td> <td>    0.550</td>\n",
       "</tr>\n",
       "<tr>\n",
       "  <th>12</th>  <td>    1.5096</td> <td>    0.033</td> <td>   46.048</td> <td> 0.000</td> <td>    1.445</td> <td>    1.574</td>\n",
       "</tr>\n",
       "<tr>\n",
       "  <th>13</th>  <td>    2.4724</td> <td>    0.031</td> <td>   78.889</td> <td> 0.000</td> <td>    2.411</td> <td>    2.534</td>\n",
       "</tr>\n",
       "<tr>\n",
       "  <th>14</th>  <td>    3.5285</td> <td>    0.031</td> <td>  112.952</td> <td> 0.000</td> <td>    3.467</td> <td>    3.590</td>\n",
       "</tr>\n",
       "<tr>\n",
       "  <th>15</th>  <td>    4.4621</td> <td>    0.030</td> <td>  148.465</td> <td> 0.000</td> <td>    4.403</td> <td>    4.521</td>\n",
       "</tr>\n",
       "<tr>\n",
       "  <th>16</th>  <td>    5.5001</td> <td>    0.032</td> <td>  170.856</td> <td> 0.000</td> <td>    5.437</td> <td>    5.563</td>\n",
       "</tr>\n",
       "<tr>\n",
       "  <th>17</th>  <td>    6.5112</td> <td>    0.032</td> <td>  204.902</td> <td> 0.000</td> <td>    6.449</td> <td>    6.574</td>\n",
       "</tr>\n",
       "<tr>\n",
       "  <th>18</th>  <td>    7.5147</td> <td>    0.035</td> <td>  215.853</td> <td> 0.000</td> <td>    7.446</td> <td>    7.583</td>\n",
       "</tr>\n",
       "<tr>\n",
       "  <th>19</th>  <td>    8.4975</td> <td>    0.034</td> <td>  246.447</td> <td> 0.000</td> <td>    8.430</td> <td>    8.565</td>\n",
       "</tr>\n",
       "<tr>\n",
       "  <th>20</th>  <td>    9.5200</td> <td>    0.031</td> <td>  308.540</td> <td> 0.000</td> <td>    9.460</td> <td>    9.580</td>\n",
       "</tr>\n",
       "</table>\n",
       "<table class=\"simpletable\">\n",
       "<tr>\n",
       "  <th>Omnibus:</th>       <td>9425.670</td> <th>  Durbin-Watson:     </th> <td>   2.007</td> \n",
       "</tr>\n",
       "<tr>\n",
       "  <th>Prob(Omnibus):</th>  <td> 0.000</td>  <th>  Jarque-Bera (JB):  </th> <td>68273.339</td>\n",
       "</tr>\n",
       "<tr>\n",
       "  <th>Skew:</th>           <td> 2.146</td>  <th>  Prob(JB):          </th> <td>    0.00</td> \n",
       "</tr>\n",
       "<tr>\n",
       "  <th>Kurtosis:</th>       <td>10.969</td>  <th>  Cond. No.          </th> <td>    7.40</td> \n",
       "</tr>\n",
       "</table><br/><br/>Notes:<br/>[1] Standard Errors are heteroscedasticity robust (HC1)"
      ],
      "text/plain": [
       "<class 'statsmodels.iolib.summary.Summary'>\n",
       "\"\"\"\n",
       "                            OLS Regression Results                            \n",
       "==============================================================================\n",
       "Dep. Variable:                    Y_w   R-squared:                       0.993\n",
       "Model:                            OLS   Adj. R-squared:                  0.993\n",
       "Method:                 Least Squares   F-statistic:                       nan\n",
       "Date:                Mon, 08 Feb 2021   Prob (F-statistic):                nan\n",
       "Time:                        13:40:36   Log-Likelihood:                -28192.\n",
       "No. Observations:               20000   AIC:                         5.643e+04\n",
       "Df Residuals:                   19978   BIC:                         5.660e+04\n",
       "Df Model:                          21                                         \n",
       "Covariance Type:                  HC1                                         \n",
       "==============================================================================\n",
       "                 coef    std err          z      P>|z|      [0.025      0.975]\n",
       "------------------------------------------------------------------------------\n",
       "I_w           19.9867      0.028    712.870      0.000      19.932      20.042\n",
       "X_w            0.9981      0.007    147.009      0.000       0.985       1.011\n",
       "1             -9.5285      0.032   -294.481      0.000      -9.592      -9.465\n",
       "2             -8.5477      0.031   -278.041      0.000      -8.608      -8.487\n",
       "3             -7.4749      0.032   -233.314      0.000      -7.538      -7.412\n",
       "4             -6.5301      0.031   -213.574      0.000      -6.590      -6.470\n",
       "5             -5.5166      0.031   -178.651      0.000      -5.577      -5.456\n",
       "6             -4.4325      0.034   -130.609      0.000      -4.499      -4.366\n",
       "7             -3.5591      0.030   -116.873      0.000      -3.619      -3.499\n",
       "8             -2.5156      0.032    -77.789      0.000      -2.579      -2.452\n",
       "9             -1.4233      0.034    -41.344      0.000      -1.491      -1.356\n",
       "10            -0.4743      0.032    -14.866      0.000      -0.537      -0.412\n",
       "11             0.4865      0.032     15.107      0.000       0.423       0.550\n",
       "12             1.5096      0.033     46.048      0.000       1.445       1.574\n",
       "13             2.4724      0.031     78.889      0.000       2.411       2.534\n",
       "14             3.5285      0.031    112.952      0.000       3.467       3.590\n",
       "15             4.4621      0.030    148.465      0.000       4.403       4.521\n",
       "16             5.5001      0.032    170.856      0.000       5.437       5.563\n",
       "17             6.5112      0.032    204.902      0.000       6.449       6.574\n",
       "18             7.5147      0.035    215.853      0.000       7.446       7.583\n",
       "19             8.4975      0.034    246.447      0.000       8.430       8.565\n",
       "20             9.5200      0.031    308.540      0.000       9.460       9.580\n",
       "==============================================================================\n",
       "Omnibus:                     9425.670   Durbin-Watson:                   2.007\n",
       "Prob(Omnibus):                  0.000   Jarque-Bera (JB):            68273.339\n",
       "Skew:                           2.146   Prob(JB):                         0.00\n",
       "Kurtosis:                      10.969   Cond. No.                         7.40\n",
       "==============================================================================\n",
       "\n",
       "Notes:\n",
       "[1] Standard Errors are heteroscedasticity robust (HC1)\n",
       "\"\"\""
      ]
     },
     "execution_count": 221,
     "metadata": {},
     "output_type": "execute_result"
    }
   ],
   "source": [
    "res.summary()"
   ]
  },
  {
   "cell_type": "markdown",
   "metadata": {},
   "source": [
    "### Simulate placebo policy"
   ]
  },
  {
   "cell_type": "code",
   "execution_count": 222,
   "metadata": {},
   "outputs": [],
   "source": [
    "def fn_placebo_treatment(row,tstart,treated):\n",
    "    if (row.t>=tstart) & (row.group in treated):\n",
    "        return 1\n",
    "    else:\n",
    "        return 0"
   ]
  },
  {
   "cell_type": "markdown",
   "metadata": {},
   "source": [
    "### THIS IS THE PART WE DIDN'T COVER IN LECTURE 4\n",
    "What the code below does is to simulate a placebo policy - where we mistakenly treat some units as being assigned a treatment even though they're not and we estiamte the treatment effect\n",
    "We expect to reject the null hypothesis that the treatment effect is different from 0 a low % of the time because the treatment effect doesn't exist so it is zero!\n",
    "Indeed, we reject the null around 1% of the time below. With more replications it should converge to 5%."
   ]
  },
  {
   "cell_type": "code",
   "execution_count": 223,
   "metadata": {},
   "outputs": [
    {
     "name": "stderr",
     "output_type": "stream",
     "text": [
      "  6%|▌         | 6/100 [00:02<00:35,  2.61it/s]<ipython-input-223-02feb1c08ec8>:27: RuntimeWarning: invalid value encountered in double_scalars\n",
      "  t = res.params.I_w/res.HC1_se.I_w\n",
      "100%|██████████| 100/100 [00:32<00:00,  3.11it/s]\n"
     ]
    }
   ],
   "source": [
    "R = 100\n",
    "l = []\n",
    "n = 1000\n",
    "G = 10\n",
    "n_treated = 0\n",
    "T = 20\n",
    "\n",
    "beta = 20\n",
    "delta = 1\n",
    "treat_start = 10\n",
    "linear_trend = True\n",
    "colnames = ['Y','alpha','gamma','I','X']\n",
    "\n",
    "for r in tqdm(range(R)):\n",
    "    np.random.seed(r)\n",
    "    [Y,alpha,gamma,treat,X]= fn_generate_grouped_panel(n,G,T,n_treated,treat_start,beta,delta,linear_trend)\n",
    "    data = [Y,alpha,gamma,treat,X]\n",
    "    dfg = fn_create_wide_to_long_df(data,colnames,n,G,T)\n",
    "    tstart = random.choice(range(dfg.t.min(),dfg.t.max()+1)) # treatment start date\n",
    "    treated = random.choices(range(dfg.group.min(),dfg.group.max()+1),k = int(dfg.group.max()/2))\n",
    "    dfg['I'] = dfg.apply(lambda row: fn_placebo_treatment(row,tstart,treated),axis = 1)\n",
    "    dfw = fn_within_transformation(dfg,colnames,'group')  \n",
    "    xvars = pd.concat([dfw[['I_w','X_w']],\n",
    "                  pd.get_dummies(dfw['t'])],axis = 1)\n",
    "    mod = sm.OLS(dfw['Y_w'],xvars,cluster= dfw['group'])\n",
    "    res = mod.fit(cov_type='HC1')\n",
    "    t = res.params.I_w/res.HC1_se.I_w\n",
    "    if np.abs(t)>1.96:\n",
    "        l = l+[1]\n",
    "    else:\n",
    "        l = l+[0]"
   ]
  },
  {
   "cell_type": "code",
   "execution_count": 177,
   "metadata": {},
   "outputs": [
    {
     "data": {
      "text/plain": [
       "0.01"
      ]
     },
     "execution_count": 177,
     "metadata": {},
     "output_type": "execute_result"
    }
   ],
   "source": [
    "np.mean(l) # we reject the null of a nonzero treatment effect 1% of the time"
   ]
  },
  {
   "cell_type": "markdown",
   "metadata": {},
   "source": [
    "### Now let's add some serial correlation to the DGP"
   ]
  },
  {
   "cell_type": "code",
   "execution_count": 159,
   "metadata": {},
   "outputs": [
    {
     "data": {
      "image/png": "[encoded data removed]",
      "text/plain": [
       "<Figure size 720x432 with 1 Axes>"
      ]
     },
     "metadata": {
      "needs_background": "light"
     },
     "output_type": "display_data"
    }
   ],
   "source": [
    "n = 1000\n",
    "G = 10\n",
    "n_treated = 5\n",
    "T = 20\n",
    "\n",
    "beta = 20\n",
    "delta = 1\n",
    "treat_start = 10\n",
    "\n",
    "linear_trend = True\n",
    "serial_corr = True\n",
    "[Y,alpha,gamma,treat,X]= fn_generate_grouped_panel(n,G,T,n_treated,treat_start,beta,delta,linear_trend,serial_corr)\n",
    "colnames = ['Y','alpha','gamma','I','X']\n",
    "data = [Y,alpha,gamma,treat,X]\n",
    "dfg = fn_create_wide_to_long_df(data,colnames,n,G,T)\n",
    "fn_plot_dd(dfg,treat_start)"
   ]
  },
  {
   "cell_type": "markdown",
   "metadata": {},
   "source": [
    "$y_{it}$\n",
    "\n",
    "shock at time $t$ equal to $\\gamma_t$\n",
    "\n",
    "Estimate:\n",
    "\n",
    "$y_{it}  = \\alpha + \\beta*\\gamma_t+\\varepsilon_{it}$\n",
    "\n",
    "Obtain residuals $\\hat{\\varepsilon}_{it}$"
   ]
  },
  {
   "cell_type": "code",
   "execution_count": null,
   "metadata": {},
   "outputs": [],
   "source": []
  },
  {
   "cell_type": "code",
   "execution_count": null,
   "metadata": {},
   "outputs": [],
   "source": []
  },
  {
   "cell_type": "code",
   "execution_count": null,
   "metadata": {},
   "outputs": [],
   "source": []
  },
  {
   "cell_type": "code",
   "execution_count": null,
   "metadata": {},
   "outputs": [],
   "source": []
  },
  {
   "cell_type": "code",
   "execution_count": 160,
   "metadata": {},
   "outputs": [],
   "source": [
    "def fn_run_mc(beta,R,corr):\n",
    "    l0 = []\n",
    "    l1 = []\n",
    "    for r in tqdm(range(R)):\n",
    "        np.random.seed(r)\n",
    "        [Y,alpha,gamma,treat,X]= fn_generate_grouped_panel(n,G,T,n_treated,treat_start,beta,delta,linear_trend,corr)\n",
    "        data = [Y,alpha,gamma,treat,X]\n",
    "        dfg = fn_create_wide_to_long_df(data,colnames,n,G,T)\n",
    "        tstart = random.choice(range(dfg.t.min(),dfg.t.max()+1))\n",
    "        treated = random.choices(range(dfg.group.min(),dfg.group.max()+1),k = int(dfg.group.max()/2))\n",
    "    #     dfg['I'] = dfg.apply(lambda row: fn_placebo_treatment(row,tstart,treated),axis = 1)\n",
    "        dfw = fn_within_transformation(dfg,colnames,'group')  \n",
    "        xvars = pd.concat([dfw[['I_w','X_w']],\n",
    "                      pd.get_dummies(dfw['t'])],axis = 1)\n",
    "        mod = sm.OLS(dfw['Y_w'],xvars,cluster= dfw['group'])\n",
    "        res = mod.fit(cov_type='HC1')\n",
    "        t0 = res.params.I_w/res.HC1_se.I_w # test H0: beta=0\n",
    "        t1 = (res.params.I_w-beta)/res.HC1_se.I_w # test H0: beta = beta_true\n",
    "\n",
    "        l0 = l0 + [1*(np.abs(t0)>1.96)]\n",
    "        l1 = l1 + [1*(np.abs(t1)>1.96)]\n",
    "\n",
    "    return np.mean(l0),np.mean(l1)"
   ]
  },
  {
   "cell_type": "code",
   "execution_count": 164,
   "metadata": {},
   "outputs": [
    {
     "data": {
      "text/plain": [
       "(False, 0)"
      ]
     },
     "execution_count": 164,
     "metadata": {},
     "output_type": "execute_result"
    }
   ],
   "source": [
    "t_stat = .2\n",
    "t_stat>1.96, 1*(t_stat>1.96)"
   ]
  },
  {
   "cell_type": "code",
   "execution_count": 167,
   "metadata": {},
   "outputs": [],
   "source": [
    "R = 500\n",
    "n = 1000\n",
    "G = 10\n",
    "n_treated = 5\n",
    "T = 20\n",
    "delta = 1\n",
    "treat_start = 10\n",
    "linear_trend = True\n",
    "colnames = ['Y','alpha','gamma','I','X']\n"
   ]
  },
  {
   "cell_type": "markdown",
   "metadata": {},
   "source": [
    "##### Treatment effect = 2 with no serial correlation"
   ]
  },
  {
   "cell_type": "code",
   "execution_count": 168,
   "metadata": {},
   "outputs": [
    {
     "name": "stderr",
     "output_type": "stream",
     "text": [
      "100%|██████████| 500/500 [00:38<00:00, 13.04it/s]\n"
     ]
    },
    {
     "data": {
      "text/plain": [
       "(1.0, 0.066)"
      ]
     },
     "execution_count": 168,
     "metadata": {},
     "output_type": "execute_result"
    }
   ],
   "source": [
    "beta = 2\n",
    "corr = False\n",
    "\n",
    "h1, hb = fn_run_mc(beta,R,corr)\n",
    "h1,hb"
   ]
  },
  {
   "cell_type": "markdown",
   "metadata": {},
   "source": [
    "##### Treatment effect = 2 with serial correlation"
   ]
  },
  {
   "cell_type": "code",
   "execution_count": 98,
   "metadata": {},
   "outputs": [
    {
     "name": "stderr",
     "output_type": "stream",
     "text": [
      "100%|██████████| 500/500 [00:25<00:00, 19.81it/s]\n"
     ]
    },
    {
     "data": {
      "text/plain": [
       "(1.0, 0.34)"
      ]
     },
     "execution_count": 98,
     "metadata": {},
     "output_type": "execute_result"
    }
   ],
   "source": [
    "beta = 2\n",
    "corr = True\n",
    "\n",
    "h1, hb = fn_run_mc(beta,R,corr)\n",
    "h1,hb"
   ]
  },
  {
   "cell_type": "markdown",
   "metadata": {},
   "source": [
    "##### Treatment effect = 0, no serial correlation"
   ]
  },
  {
   "cell_type": "code",
   "execution_count": 99,
   "metadata": {},
   "outputs": [
    {
     "name": "stderr",
     "output_type": "stream",
     "text": [
      "100%|██████████| 500/500 [00:27<00:00, 18.02it/s]"
     ]
    },
    {
     "name": "stdout",
     "output_type": "stream",
     "text": [
      "We reject beta=0 0.066% of the time\n"
     ]
    },
    {
     "name": "stderr",
     "output_type": "stream",
     "text": [
      "\n"
     ]
    }
   ],
   "source": [
    "beta = 0\n",
    "corr = False\n",
    "\n",
    "h1, hb = fn_run_mc(beta,R,corr)\n",
    "print('We reject beta=0 {} of the time'.format(h1))"
   ]
  },
  {
   "cell_type": "markdown",
   "metadata": {},
   "source": [
    "##### Treatment effect = 0, serial correlation"
   ]
  },
  {
   "cell_type": "code",
   "execution_count": 169,
   "metadata": {},
   "outputs": [
    {
     "name": "stderr",
     "output_type": "stream",
     "text": [
      "100%|██████████| 500/500 [00:37<00:00, 13.47it/s]"
     ]
    },
    {
     "name": "stdout",
     "output_type": "stream",
     "text": [
      "We reject beta=0 0.34 of the time\n"
     ]
    },
    {
     "name": "stderr",
     "output_type": "stream",
     "text": [
      "\n"
     ]
    }
   ],
   "source": [
    "beta = 0\n",
    "corr = True\n",
    "\n",
    "h1, hb = fn_run_mc(beta,R,corr)\n",
    "print('We reject beta=0 {} of the time'.format(h1))"
   ]
  },
  {
   "cell_type": "markdown",
   "metadata": {},
   "source": [
    "## Sentsitivity tests\n",
    "\n",
    "Redo the analysis on pre-event years - the estiamted treatment effect should be zero!\n",
    "Are treatment and control gropus similar along observable dimensions?\n",
    "Make sure the change is concentrated around the event\n",
    "Make sure tha tother outcome variables that should be unaffected by the event are indeed unaffected"
   ]
  },
  {
   "cell_type": "code",
   "execution_count": null,
   "metadata": {},
   "outputs": [],
   "source": []
  },
  {
   "cell_type": "code",
   "execution_count": null,
   "metadata": {},
   "outputs": [],
   "source": []
  }
 ],
 "metadata": {
  "kernelspec": {
   "display_name": "Python 3",
   "language": "python",
   "name": "python3"
  },
  "language_info": {
   "codemirror_mode": {
    "name": "ipython",
    "version": 3
   },
   "file_extension": ".py",
   "mimetype": "text/x-python",
   "name": "python",
   "nbconvert_exporter": "python",
   "pygments_lexer": "ipython3",
   "version": "3.8.5"
  }
 },
 "nbformat": 4,
 "nbformat_minor": 2
}
