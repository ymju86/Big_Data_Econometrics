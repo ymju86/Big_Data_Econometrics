{
 "cells": [
  {
   "cell_type": "code",
   "execution_count": 1,
   "metadata": {},
   "outputs": [],
   "source": [
    "import pandas as pd\n",
    "import numpy as np\n",
    "import pandas as pd\n",
    "import numpy as np\n",
    "import random\n",
    "import statsmodels.api as sm\n",
    "from sklearn.model_selection import cross_val_score\n",
    "from sklearn.model_selection import RepeatedKFold\n",
    "from sklearn.linear_model import Lasso\n",
    "from sklearn.feature_selection import SelectFromModel\n",
    "import matplotlib.pyplot as plt\n",
    "from tqdm import tqdm\n",
    "import statsmodels.api as sm\n",
    "import itertools\n",
    "from linearmodels import IV2SLS, IVLIML, IVGMM, IVGMMCUE\n",
    "import copy"
   ]
  },
  {
   "cell_type": "markdown",
   "metadata": {},
   "source": [
    "We observe $Y_i$ and $X_i$\n",
    "\n",
    "We don't know if \n",
    "\n",
    "$Y_i = \\alpha + \\beta X_i + \\varepsilon_i$\n",
    "\n",
    "or\n",
    "\n",
    "$Y_i = \\alpha + \\beta \\log(X_i) + \\varepsilon_i$\n",
    "\n"
   ]
  },
  {
   "cell_type": "markdown",
   "metadata": {},
   "source": [
    "How do we determine which one is right?"
   ]
  },
  {
   "cell_type": "markdown",
   "metadata": {},
   "source": [
    "We $i = 1,2, \\ldots, N$\n",
    "\n",
    "### Leave-One-Out LOO Cross Validation"
   ]
  },
  {
   "cell_type": "markdown",
   "metadata": {},
   "source": [
    "For each i=1:N\n",
    "Estimated the model without using observation $i$ \n",
    "\n",
    "We get $\\hat{\\alpha}_i$, $\\hat{\\beta}_i$ - parameters we get without using observation $i$\n",
    "\n",
    "Take the fitted model and predict $Y_i$ by $\\hat{Y}_i$\n",
    "Calculate error $Y_i-\\hat{Y}_i$\n",
    "\n",
    "Calculate $ \\sqrt{\\frac{1}{N}\\sum_{i=1}^N(Y_i-\\hat{Y}_i)^2}$"
   ]
  },
  {
   "cell_type": "markdown",
   "metadata": {},
   "source": [
    "### True DGP"
   ]
  },
  {
   "cell_type": "markdown",
   "metadata": {},
   "source": [
    "Take first 999 observations - estimate the model \n",
    "This model hasn't seen observation no. 1000\n",
    "When we predict using values for observation 1000"
   ]
  },
  {
   "cell_type": "code",
   "execution_count": 3,
   "metadata": {},
   "outputs": [],
   "source": [
    "n = 1000\n",
    "\n",
    "X = np.random.uniform(2,1,[n,1])\n",
    "const = np.ones([n,1])\n",
    "alpha = .3\n",
    "beta = 1.5\n",
    "err = np.random.normal(0,1,[n,1])\n",
    "\n",
    "Y = alpha + beta*X+err\n",
    "\n",
    "\n",
    "exvar = np.concatenate([const,X],axis = 1)\n",
    "df.head()\n",
    "df['const'] = 1\n",
    "df['i'] = range(n)"
   ]
  },
  {
   "cell_type": "code",
   "execution_count": 29,
   "metadata": {},
   "outputs": [],
   "source": [
    "i = 1\n",
    "df_noti = df[df.i!=i]"
   ]
  },
  {
   "cell_type": "code",
   "execution_count": 30,
   "metadata": {},
   "outputs": [],
   "source": [
    "dfi = df[df.i==i]"
   ]
  },
  {
   "cell_type": "code",
   "execution_count": 32,
   "metadata": {},
   "outputs": [],
   "source": [
    "mod = sm.OLS(df_noti.Y,df_noti[['X','const']])"
   ]
  },
  {
   "cell_type": "code",
   "execution_count": 23,
   "metadata": {},
   "outputs": [],
   "source": [
    "res.predict?"
   ]
  },
  {
   "cell_type": "code",
   "execution_count": 24,
   "metadata": {},
   "outputs": [
    {
     "data": {
      "text/plain": [
       "1    2.005983\n",
       "dtype: float64"
      ]
     },
     "execution_count": 24,
     "metadata": {},
     "output_type": "execute_result"
    }
   ],
   "source": [
    "Yi_hat = res.predict(dfi[['X','const']])\n",
    "Yi_hat"
   ]
  },
  {
   "cell_type": "code",
   "execution_count": 25,
   "metadata": {},
   "outputs": [
    {
     "data": {
      "text/plain": [
       "2.0059269759"
      ]
     },
     "execution_count": 25,
     "metadata": {},
     "output_type": "execute_result"
    }
   ],
   "source": [
    "0.4281 + 1.4219 * 1.109661"
   ]
  },
  {
   "cell_type": "code",
   "execution_count": 20,
   "metadata": {},
   "outputs": [
    {
     "data": {
      "text/html": [
       "<div>\n",
       "<style scoped>\n",
       "    .dataframe tbody tr th:only-of-type {\n",
       "        vertical-align: middle;\n",
       "    }\n",
       "\n",
       "    .dataframe tbody tr th {\n",
       "        vertical-align: top;\n",
       "    }\n",
       "\n",
       "    .dataframe thead th {\n",
       "        text-align: right;\n",
       "    }\n",
       "</style>\n",
       "<table border=\"1\" class=\"dataframe\">\n",
       "  <thead>\n",
       "    <tr style=\"text-align: right;\">\n",
       "      <th></th>\n",
       "      <th>Y</th>\n",
       "      <th>X</th>\n",
       "      <th>const</th>\n",
       "      <th>i</th>\n",
       "    </tr>\n",
       "  </thead>\n",
       "  <tbody>\n",
       "    <tr>\n",
       "      <th>1</th>\n",
       "      <td>3.539801</td>\n",
       "      <td>1.109661</td>\n",
       "      <td>1</td>\n",
       "      <td>1</td>\n",
       "    </tr>\n",
       "  </tbody>\n",
       "</table>\n",
       "</div>"
      ],
      "text/plain": [
       "          Y         X  const  i\n",
       "1  3.539801  1.109661      1  1"
      ]
     },
     "execution_count": 20,
     "metadata": {},
     "output_type": "execute_result"
    }
   ],
   "source": [
    "dfi"
   ]
  },
  {
   "cell_type": "code",
   "execution_count": 26,
   "metadata": {},
   "outputs": [],
   "source": [
    "# mod = sm.OLS(df_noti.Y,df_noti[['X','const']])\n",
    "# res = mod.fit()\n",
    "# print(res.summary())"
   ]
  },
  {
   "cell_type": "code",
   "execution_count": 36,
   "metadata": {},
   "outputs": [
    {
     "name": "stdout",
     "output_type": "stream",
     "text": [
      "                            OLS Regression Results                            \n",
      "==============================================================================\n",
      "Dep. Variable:                      Y   R-squared:                       0.150\n",
      "Model:                            OLS   Adj. R-squared:                  0.149\n",
      "Method:                 Least Squares   F-statistic:                     176.1\n",
      "Date:                Fri, 12 Feb 2021   Prob (F-statistic):           3.98e-37\n",
      "Time:                        16:36:50   Log-Likelihood:                -1409.5\n",
      "No. Observations:                 999   AIC:                             2823.\n",
      "Df Residuals:                     997   BIC:                             2833.\n",
      "Df Model:                           1                                         \n",
      "Covariance Type:            nonrobust                                         \n",
      "==============================================================================\n",
      "                 coef    std err          t      P>|t|      [0.025      0.975]\n",
      "------------------------------------------------------------------------------\n",
      "X              1.4219      0.107     13.270      0.000       1.212       1.632\n",
      "const          0.4281      0.162      2.637      0.008       0.110       0.747\n",
      "==============================================================================\n",
      "Omnibus:                        1.032   Durbin-Watson:                   1.954\n",
      "Prob(Omnibus):                  0.597   Jarque-Bera (JB):                0.944\n",
      "Skew:                          -0.072   Prob(JB):                        0.624\n",
      "Kurtosis:                       3.046   Cond. No.                         11.2\n",
      "==============================================================================\n",
      "\n",
      "Notes:\n",
      "[1] Standard Errors assume that the covariance matrix of the errors is correctly specified.\n"
     ]
    }
   ],
   "source": [
    "i = 1\n",
    "df_noti = df[df.i!=i] # define df with obs i removed\n",
    "dfi = df[df.i==i] # df with only obs i\n",
    "\n",
    "mod = sm.OLS(df_noti['Y'],df_noti[['X','const']]) # estimate model without using observation i\n",
    "res = mod.fit()\n"
   ]
  },
  {
   "cell_type": "code",
   "execution_count": 39,
   "metadata": {},
   "outputs": [
    {
     "data": {
      "text/plain": [
       "2.005983229558119"
      ]
     },
     "execution_count": 39,
     "metadata": {},
     "output_type": "execute_result"
    }
   ],
   "source": [
    "res = mod.fit()\n",
    "Yi_hat = res.predict(dfi[['X','const']]) # predict Yihat using estimated parameters\n",
    "float(Yi_hat)"
   ]
  },
  {
   "cell_type": "code",
   "execution_count": 42,
   "metadata": {},
   "outputs": [
    {
     "data": {
      "text/plain": [
       "1.533817462000394"
      ]
     },
     "execution_count": 42,
     "metadata": {},
     "output_type": "execute_result"
    }
   ],
   "source": [
    "float(dfi.Y)-float(Yi_hat)"
   ]
  },
  {
   "cell_type": "code",
   "execution_count": 46,
   "metadata": {},
   "outputs": [
    {
     "data": {
      "text/plain": [
       "(3.5398006915585127, 2.005983229558119)"
      ]
     },
     "execution_count": 46,
     "metadata": {},
     "output_type": "execute_result"
    }
   ],
   "source": [
    "float(dfi.Y),float(Yi_hat)"
   ]
  },
  {
   "cell_type": "code",
   "execution_count": 47,
   "metadata": {},
   "outputs": [
    {
     "name": "stderr",
     "output_type": "stream",
     "text": [
      "100%|██████████| 1000/1000 [00:02<00:00, 459.23it/s]\n"
     ]
    }
   ],
   "source": [
    "errors = []\n",
    "for i in tqdm(range(n)): # for every i\n",
    "    df_noti = df[df.i!=i] # define df with obs i removed\n",
    "    dfi = df[df.i==i] # df with only obs i\n",
    "    \n",
    "    mod = sm.OLS(df_noti['Y'],df_noti[['X','const']]) # estimate model without using observation i\n",
    "    res = mod.fit()\n",
    "    Yi_hat = res.predict(dfi[['X','const']]) # predict Yihat using estimated parameters\n",
    "    sqerr = (float(dfi.Y) - float(Yi_hat))**2 # true Yi - predicted Yi\n",
    "    errors = errors + [sqerr]"
   ]
  },
  {
   "cell_type": "markdown",
   "metadata": {},
   "source": [
    "Repeat exercise assuming incorrect model"
   ]
  },
  {
   "cell_type": "code",
   "execution_count": 49,
   "metadata": {},
   "outputs": [
    {
     "name": "stderr",
     "output_type": "stream",
     "text": [
      "100%|██████████| 1000/1000 [00:02<00:00, 463.69it/s]\n"
     ]
    }
   ],
   "source": [
    "df['logX'] = np.log(df.X)\n",
    "errors2 = []\n",
    "for i in tqdm(range(n)): # for every i\n",
    "    df_noti = df[df.i!=i] # define df with obs i removed\n",
    "    dfi = df[df.i==i] # df with only obs i\n",
    "    \n",
    "    mod = sm.OLS(df_noti['Y'],df_noti[['logX','const']]) # estimate model without using observation i\n",
    "    res = mod.fit()\n",
    "    Yi_hat = res.predict(dfi[['logX','const']]) # predict Yihat using estimated parameters\n",
    "    sqerr = (float(dfi.Y) - float(Yi_hat))**2 # true Yi - predicted Yi\n",
    "    errors2 = errors2 + [sqerr]"
   ]
  },
  {
   "cell_type": "code",
   "execution_count": 50,
   "metadata": {},
   "outputs": [
    {
     "data": {
      "text/plain": [
       "(array([688., 162.,  66.,  36.,  19.,   8.,  10.,   9.,   1.,   1.]),\n",
       " array([7.21411482e-07, 1.00126423e+00, 2.00252774e+00, 3.00379124e+00,\n",
       "        4.00505475e+00, 5.00631826e+00, 6.00758176e+00, 7.00884527e+00,\n",
       "        8.01010878e+00, 9.01137229e+00, 1.00126358e+01]),\n",
       " <BarContainer object of 10 artists>)"
      ]
     },
     "execution_count": 50,
     "metadata": {},
     "output_type": "execute_result"
    },
    {
     "data": {
      "image/png": "[encoded data removed]",
      "text/plain": [
       "<Figure size 432x288 with 1 Axes>"
      ]
     },
     "metadata": {
      "needs_background": "light"
     },
     "output_type": "display_data"
    }
   ],
   "source": [
    "plt.hist(errors)"
   ]
  },
  {
   "cell_type": "code",
   "execution_count": 51,
   "metadata": {},
   "outputs": [
    {
     "data": {
      "text/plain": [
       "(array([692., 159.,  63.,  37.,  21.,   8.,  12.,   6.,   1.,   1.]),\n",
       " array([3.19719183e-06, 1.01125133e+00, 2.02249946e+00, 3.03374760e+00,\n",
       "        4.04499573e+00, 5.05624386e+00, 6.06749200e+00, 7.07874013e+00,\n",
       "        8.08998826e+00, 9.10123639e+00, 1.01124845e+01]),\n",
       " <BarContainer object of 10 artists>)"
      ]
     },
     "execution_count": 51,
     "metadata": {},
     "output_type": "execute_result"
    },
    {
     "data": {
      "image/png": "[encoded data removed]",
      "text/plain": [
       "<Figure size 432x288 with 1 Axes>"
      ]
     },
     "metadata": {
      "needs_background": "light"
     },
     "output_type": "display_data"
    }
   ],
   "source": [
    "plt.hist(errors2)"
   ]
  },
  {
   "cell_type": "code",
   "execution_count": 57,
   "metadata": {},
   "outputs": [
    {
     "data": {
      "text/plain": [
       "-0.00024815520169518823"
      ]
     },
     "execution_count": 57,
     "metadata": {},
     "output_type": "execute_result"
    }
   ],
   "source": [
    "np.sqrt(np.mean(errors))-np.sqrt(np.mean(errors2))"
   ]
  },
  {
   "cell_type": "code",
   "execution_count": null,
   "metadata": {},
   "outputs": [],
   "source": []
  }
 ],
 "metadata": {
  "kernelspec": {
   "display_name": "Python 3",
   "language": "python",
   "name": "python3"
  },
  "language_info": {
   "codemirror_mode": {
    "name": "ipython",
    "version": 3
   },
   "file_extension": ".py",
   "mimetype": "text/x-python",
   "name": "python",
   "nbconvert_exporter": "python",
   "pygments_lexer": "ipython3",
   "version": "3.8.5"
  }
 },
 "nbformat": 4,
 "nbformat_minor": 4
}
