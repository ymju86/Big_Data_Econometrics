{
 "cells": [
  {
   "cell_type": "code",
   "execution_count": 9,
   "id": "instant-subscription",
   "metadata": {},
   "outputs": [],
   "source": [
    "import pandas as pd\n",
    "import numpy as np\n",
    "import statsmodels.api as sm\n"
   ]
  },
  {
   "cell_type": "markdown",
   "id": "scientific-deposit",
   "metadata": {},
   "source": [
    "$y_t = \\beta y_{t-1}+u_t$\n",
    "\n",
    "$u_t = \\rho u_{t-1}+v_t$\n",
    "\n",
    "Suppose we want to estimate $\\beta$ by running an OLS regression of $y_t$ on $y_{t-1}$"
   ]
  },
  {
   "cell_type": "code",
   "execution_count": 12,
   "id": "rough-scheduling",
   "metadata": {},
   "outputs": [],
   "source": [
    "T = 100\n",
    "y = np.zeros([T,1])\n",
    "u = np.zeros([T,1])\n",
    "beta = .7\n",
    "rho = .5\n",
    "u[0] = np.random.normal()\n",
    "y[0] = u[0]\n",
    "for t in range(1,T):\n",
    "    u[t] = rho*u[t-1]+np.random.normal()\n",
    "    y[t] = beta*y[t-1]+u[t]"
   ]
  },
  {
   "cell_type": "code",
   "execution_count": 13,
   "id": "nervous-garlic",
   "metadata": {},
   "outputs": [
    {
     "data": {
      "text/plain": [
       "-0.09498498374286703"
      ]
     },
     "execution_count": 13,
     "metadata": {},
     "output_type": "execute_result"
    }
   ],
   "source": [
    "np.random.normal()"
   ]
  },
  {
   "cell_type": "code",
   "execution_count": 22,
   "id": "herbal-amber",
   "metadata": {},
   "outputs": [],
   "source": [
    "model = sm.OLS(y[1:],y[:-1])\n",
    "model = sm.OLS(y[2:],np.concatenate([y[:-2],y[1:-1]],axis = 1))"
   ]
  },
  {
   "cell_type": "code",
   "execution_count": 23,
   "id": "dangerous-process",
   "metadata": {},
   "outputs": [
    {
     "data": {
      "text/html": [
       "<table class=\"simpletable\">\n",
       "<caption>OLS Regression Results</caption>\n",
       "<tr>\n",
       "  <th>Dep. Variable:</th>            <td>y</td>        <th>  R-squared (uncentered):</th>      <td>   0.764</td>\n",
       "</tr>\n",
       "<tr>\n",
       "  <th>Model:</th>                   <td>OLS</td>       <th>  Adj. R-squared (uncentered):</th> <td>   0.759</td>\n",
       "</tr>\n",
       "<tr>\n",
       "  <th>Method:</th>             <td>Least Squares</td>  <th>  F-statistic:       </th>          <td>   155.4</td>\n",
       "</tr>\n",
       "<tr>\n",
       "  <th>Date:</th>             <td>Mon, 25 Jan 2021</td> <th>  Prob (F-statistic):</th>          <td>7.95e-31</td>\n",
       "</tr>\n",
       "<tr>\n",
       "  <th>Time:</th>                 <td>10:13:18</td>     <th>  Log-Likelihood:    </th>          <td> -140.81</td>\n",
       "</tr>\n",
       "<tr>\n",
       "  <th>No. Observations:</th>      <td>    98</td>      <th>  AIC:               </th>          <td>   285.6</td>\n",
       "</tr>\n",
       "<tr>\n",
       "  <th>Df Residuals:</th>          <td>    96</td>      <th>  BIC:               </th>          <td>   290.8</td>\n",
       "</tr>\n",
       "<tr>\n",
       "  <th>Df Model:</th>              <td>     2</td>      <th>                     </th>              <td> </td>   \n",
       "</tr>\n",
       "<tr>\n",
       "  <th>Covariance Type:</th>      <td>nonrobust</td>    <th>                     </th>              <td> </td>   \n",
       "</tr>\n",
       "</table>\n",
       "<table class=\"simpletable\">\n",
       "<tr>\n",
       "   <td></td>     <th>coef</th>     <th>std err</th>      <th>t</th>      <th>P>|t|</th>  <th>[0.025</th>    <th>0.975]</th>  \n",
       "</tr>\n",
       "<tr>\n",
       "  <th>x1</th> <td>   -0.2794</td> <td>    0.099</td> <td>   -2.825</td> <td> 0.006</td> <td>   -0.476</td> <td>   -0.083</td>\n",
       "</tr>\n",
       "<tr>\n",
       "  <th>x2</th> <td>    1.1097</td> <td>    0.099</td> <td>   11.257</td> <td> 0.000</td> <td>    0.914</td> <td>    1.305</td>\n",
       "</tr>\n",
       "</table>\n",
       "<table class=\"simpletable\">\n",
       "<tr>\n",
       "  <th>Omnibus:</th>       <td> 0.819</td> <th>  Durbin-Watson:     </th> <td>   2.050</td>\n",
       "</tr>\n",
       "<tr>\n",
       "  <th>Prob(Omnibus):</th> <td> 0.664</td> <th>  Jarque-Bera (JB):  </th> <td>   0.866</td>\n",
       "</tr>\n",
       "<tr>\n",
       "  <th>Skew:</th>          <td> 0.074</td> <th>  Prob(JB):          </th> <td>   0.649</td>\n",
       "</tr>\n",
       "<tr>\n",
       "  <th>Kurtosis:</th>      <td> 2.564</td> <th>  Cond. No.          </th> <td>    3.67</td>\n",
       "</tr>\n",
       "</table><br/><br/>Notes:<br/>[1] R² is computed without centering (uncentered) since the model does not contain a constant.<br/>[2] Standard Errors assume that the covariance matrix of the errors is correctly specified."
      ],
      "text/plain": [
       "<class 'statsmodels.iolib.summary.Summary'>\n",
       "\"\"\"\n",
       "                                 OLS Regression Results                                \n",
       "=======================================================================================\n",
       "Dep. Variable:                      y   R-squared (uncentered):                   0.764\n",
       "Model:                            OLS   Adj. R-squared (uncentered):              0.759\n",
       "Method:                 Least Squares   F-statistic:                              155.4\n",
       "Date:                Mon, 25 Jan 2021   Prob (F-statistic):                    7.95e-31\n",
       "Time:                        10:13:18   Log-Likelihood:                         -140.81\n",
       "No. Observations:                  98   AIC:                                      285.6\n",
       "Df Residuals:                      96   BIC:                                      290.8\n",
       "Df Model:                           2                                                  \n",
       "Covariance Type:            nonrobust                                                  \n",
       "==============================================================================\n",
       "                 coef    std err          t      P>|t|      [0.025      0.975]\n",
       "------------------------------------------------------------------------------\n",
       "x1            -0.2794      0.099     -2.825      0.006      -0.476      -0.083\n",
       "x2             1.1097      0.099     11.257      0.000       0.914       1.305\n",
       "==============================================================================\n",
       "Omnibus:                        0.819   Durbin-Watson:                   2.050\n",
       "Prob(Omnibus):                  0.664   Jarque-Bera (JB):                0.866\n",
       "Skew:                           0.074   Prob(JB):                        0.649\n",
       "Kurtosis:                       2.564   Cond. No.                         3.67\n",
       "==============================================================================\n",
       "\n",
       "Notes:\n",
       "[1] R² is computed without centering (uncentered) since the model does not contain a constant.\n",
       "[2] Standard Errors assume that the covariance matrix of the errors is correctly specified.\n",
       "\"\"\""
      ]
     },
     "execution_count": 23,
     "metadata": {},
     "output_type": "execute_result"
    }
   ],
   "source": [
    "res = model.fit()\n",
    "res.summary()"
   ]
  },
  {
   "cell_type": "code",
   "execution_count": null,
   "id": "limiting-maintenance",
   "metadata": {},
   "outputs": [],
   "source": [
    "rho = beta-0.2794\n",
    "-rho*beta = -(beta-0.2794)*beta = 1.1097\n",
    "0.2794-beta^2 = 1."
   ]
  }
 ],
 "metadata": {
  "kernelspec": {
   "display_name": "Python 3",
   "language": "python",
   "name": "python3"
  },
  "language_info": {
   "codemirror_mode": {
    "name": "ipython",
    "version": 3
   },
   "file_extension": ".py",
   "mimetype": "text/x-python",
   "name": "python",
   "nbconvert_exporter": "python",
   "pygments_lexer": "ipython3",
   "version": "3.9.0"
  }
 },
 "nbformat": 4,
 "nbformat_minor": 5
}
