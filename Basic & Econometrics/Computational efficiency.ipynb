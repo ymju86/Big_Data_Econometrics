{
 "cells": [
  {
   "cell_type": "code",
   "execution_count": 1,
   "metadata": {},
   "outputs": [],
   "source": [
    "import numpy as np\n",
    "import pandas as pd \n",
    "\n",
    "import seaborn as sns\n",
    "import matplotlib.pyplot as plt\n",
    "%matplotlib inline\n",
    "plt.style.use('ggplot')\n",
    "import random"
   ]
  },
  {
   "cell_type": "markdown",
   "metadata": {},
   "source": [
    "# P vs NP"
   ]
  },
  {
   "cell_type": "code",
   "execution_count": 2,
   "metadata": {},
   "outputs": [
    {
     "name": "stdout",
     "output_type": "stream",
     "text": [
      "21.1 µs ± 970 ns per loop (mean ± std. dev. of 7 runs, 10000 loops each)\n"
     ]
    },
    {
     "data": {
      "text/plain": [
       "<TimeitResult : 21.1 µs ± 970 ns per loop (mean ± std. dev. of 7 runs, 10000 loops each)>"
      ]
     },
     "execution_count": 2,
     "metadata": {},
     "output_type": "execute_result"
    }
   ],
   "source": [
    "%%timeit -o\n",
    "n = 10\n",
    "l1 = [i for i in range(n)]\n",
    "random.shuffle(l1)\n",
    "# sort numbers\n",
    "for i in range(n-1):\n",
    "    for j in range(i+1,n):\n",
    "        if l1[i]>l1[j]:\n",
    "            tmp = l1[j]\n",
    "            l1[j] = l1[i]\n",
    "            l1[i] = tmp"
   ]
  },
  {
   "cell_type": "code",
   "execution_count": 3,
   "metadata": {},
   "outputs": [],
   "source": [
    "def sort_numbers(n):\n",
    "    l1 = [i for i in range(n)]\n",
    "    random.shuffle(l1)\n",
    "    # sort numbers\n",
    "    for i in range(n-1):\n",
    "        for j in range(i+1,n):\n",
    "            if l1[i]>l1[j]:\n",
    "                tmp = l1[j]\n",
    "                l1[j] = l1[i]\n",
    "                l1[i] = tmp"
   ]
  },
  {
   "cell_type": "code",
   "execution_count": 4,
   "metadata": {},
   "outputs": [
    {
     "name": "stdout",
     "output_type": "stream",
     "text": [
      "21.8 µs ± 1.29 µs per loop (mean ± std. dev. of 7 runs, 10000 loops each)\n",
      "281 µs ± 18.2 µs per loop (mean ± std. dev. of 7 runs, 1000 loops each)\n",
      "884 µs ± 66 µs per loop (mean ± std. dev. of 7 runs, 1000 loops each)\n",
      "3.04 ms ± 129 µs per loop (mean ± std. dev. of 7 runs, 100 loops each)\n",
      "23.4 ms ± 773 µs per loop (mean ± std. dev. of 7 runs, 100 loops each)\n",
      "103 ms ± 22.5 ms per loop (mean ± std. dev. of 7 runs, 10 loops each)\n"
     ]
    }
   ],
   "source": [
    "res = []\n",
    "y = []\n",
    "x = [10,50,100,200,500,1000]\n",
    "for n in x:\n",
    "    a = %timeit -o sort_numbers(n)\n",
    "    res.append(a)\n",
    "    y = y + [np.mean(a.timings)]"
   ]
  },
  {
   "cell_type": "code",
   "execution_count": 5,
   "metadata": {},
   "outputs": [
    {
     "data": {
      "text/plain": [
       "Text(0, 0.5, 'compute time in ms')"
      ]
     },
     "execution_count": 5,
     "metadata": {},
     "output_type": "execute_result"
    },
    {
     "data": {
      "image/png": "[encoded data removed]",
      "text/plain": [
       "<Figure size 576x576 with 1 Axes>"
      ]
     },
     "metadata": {},
     "output_type": "display_data"
    }
   ],
   "source": [
    "fig = plt.figure(figsize = (8,8))\n",
    "plt.scatter(x,y)\n",
    "x2 = [i for i in range(max(x))]\n",
    "y2 = [i**2 for i in x2]\n",
    "norm = max(y)/max(y2)\n",
    "y2 = [i*norm for i in y2]\n",
    "\n",
    "plt.plot(x2,y2,color = 'blue')\n",
    "plt.xlabel('N')\n",
    "plt.ylabel('compute time in ms')"
   ]
  },
  {
   "cell_type": "code",
   "execution_count": null,
   "metadata": {},
   "outputs": [],
   "source": []
  }
 ],
 "metadata": {
  "kernelspec": {
   "display_name": "Python 3",
   "language": "python",
   "name": "python3"
  },
  "language_info": {
   "codemirror_mode": {
    "name": "ipython",
    "version": 3
   },
   "file_extension": ".py",
   "mimetype": "text/x-python",
   "name": "python",
   "nbconvert_exporter": "python",
   "pygments_lexer": "ipython3",
   "version": "3.7.0"
  }
 },
 "nbformat": 4,
 "nbformat_minor": 2
}
